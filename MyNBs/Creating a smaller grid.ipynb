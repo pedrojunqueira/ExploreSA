{
 "cells": [
  {
   "cell_type": "code",
   "execution_count": 1,
   "metadata": {},
   "outputs": [],
   "source": [
    "# from a 500x500 grid create 100 50x50 grid\n",
    "# then write a function to find if a deposit falls in this grid\n",
    "# name grid stampId_row_column\n",
    "\n"
   ]
  },
  {
   "cell_type": "code",
   "execution_count": 2,
   "metadata": {},
   "outputs": [],
   "source": [
    "# first get the stamp with the most ammount of deposits and do some analysis"
   ]
  },
  {
   "cell_type": "code",
   "execution_count": 3,
   "metadata": {},
   "outputs": [],
   "source": [
    "# once the stamps are split. analyse each group commodity to find some patterns or signatures"
   ]
  },
  {
   "cell_type": "code",
   "execution_count": 4,
   "metadata": {},
   "outputs": [],
   "source": [
    "\n",
    "import numpy as np\n",
    "import os\n",
    "import rasterio\n",
    "import geopandas as gpd\n",
    "import pandas as pd\n",
    "from collections import defaultdict\n",
    "from pathlib import Path\n",
    "from shapely.geometry import Point\n",
    "from shapely.geometry import Polygon\n",
    "from pathlib import Path\n",
    "import rasterio\n",
    "%matplotlib inline\n",
    "import matplotlib.pyplot as plt\n",
    "from rasterio.windows import Window\n",
    "from explore_australia.reprojection import reproject\n",
    "from shapely.geometry import Point\n",
    "\n",
    "from explore_australia.utilities import omerc_projection\n",
    "from explore_australia.geometry import make_stamp\n",
    "\n",
    "from rasterio.mask import mask\n",
    "from numpy import nan, nanquantile\n",
    "\n",
    "import matplotlib.pyplot as plt\n",
    "import seaborn as sns\n",
    "%matplotlib inline"
   ]
  },
  {
   "cell_type": "code",
   "execution_count": 5,
   "metadata": {},
   "outputs": [],
   "source": [
    "# set path of the train dataset\n",
    "trainpath = '/Users/pedrojunqueira/Desktop/train'"
   ]
  },
  {
   "cell_type": "code",
   "execution_count": 6,
   "metadata": {},
   "outputs": [],
   "source": [
    "# create a list with the id of the stamps\n",
    "trainids = os.listdir(trainpath)"
   ]
  },
  {
   "cell_type": "code",
   "execution_count": 7,
   "metadata": {},
   "outputs": [],
   "source": [
    "# import stamp geodataframe path\n",
    "stamps_data = '../data/stamp_locations.geo.json'"
   ]
  },
  {
   "cell_type": "code",
   "execution_count": 8,
   "metadata": {},
   "outputs": [],
   "source": [
    "# create geodataframe objects\n",
    "stamps = gpd.read_file(stamps_data)"
   ]
  },
  {
   "cell_type": "code",
   "execution_count": 9,
   "metadata": {},
   "outputs": [
    {
     "data": {
      "text/html": [
       "<div>\n",
       "<style scoped>\n",
       "    .dataframe tbody tr th:only-of-type {\n",
       "        vertical-align: middle;\n",
       "    }\n",
       "\n",
       "    .dataframe tbody tr th {\n",
       "        vertical-align: top;\n",
       "    }\n",
       "\n",
       "    .dataframe thead th {\n",
       "        text-align: right;\n",
       "    }\n",
       "</style>\n",
       "<table border=\"1\" class=\"dataframe\">\n",
       "  <thead>\n",
       "    <tr style=\"text-align: right;\">\n",
       "      <th></th>\n",
       "      <th>id</th>\n",
       "      <th>age</th>\n",
       "      <th>comment</th>\n",
       "      <th>commodities_string</th>\n",
       "      <th>original_id</th>\n",
       "      <th>latitude</th>\n",
       "      <th>longitude</th>\n",
       "      <th>name</th>\n",
       "      <th>offset_azimuth</th>\n",
       "      <th>offset_distance</th>\n",
       "      <th>rotation</th>\n",
       "      <th>centre_longitude</th>\n",
       "      <th>centre_latitude</th>\n",
       "      <th>local_projection</th>\n",
       "      <th>stratification_label</th>\n",
       "      <th>commodity_string</th>\n",
       "      <th>geometry</th>\n",
       "    </tr>\n",
       "  </thead>\n",
       "  <tbody>\n",
       "    <tr>\n",
       "      <th>0</th>\n",
       "      <td>57941438</td>\n",
       "      <td>Late Ordovician</td>\n",
       "      <td>Late Ordovician-Silurian</td>\n",
       "      <td>Au;Cu</td>\n",
       "      <td>333286.0</td>\n",
       "      <td>-36.115388</td>\n",
       "      <td>147.091253</td>\n",
       "      <td>Bethanga</td>\n",
       "      <td>303.344109</td>\n",
       "      <td>2.842514</td>\n",
       "      <td>54.786230</td>\n",
       "      <td>147.063229</td>\n",
       "      <td>-36.103610</td>\n",
       "      <td>+proj=omerc +lat_0=-36.10360962430914 +lonc=14...</td>\n",
       "      <td>Cu</td>\n",
       "      <td>Au;Cu</td>\n",
       "      <td>POLYGON ((147.25693 -36.07651, 147.09679 -36.2...</td>\n",
       "    </tr>\n",
       "    <tr>\n",
       "      <th>1</th>\n",
       "      <td>21418444</td>\n",
       "      <td>Late Palaeozoic</td>\n",
       "      <td>nan</td>\n",
       "      <td>Ag;Zn;Pb</td>\n",
       "      <td>333287.0</td>\n",
       "      <td>-18.710841</td>\n",
       "      <td>125.968020</td>\n",
       "      <td>Cadjebut</td>\n",
       "      <td>172.255972</td>\n",
       "      <td>0.258271</td>\n",
       "      <td>33.878547</td>\n",
       "      <td>125.968195</td>\n",
       "      <td>-18.713172</td>\n",
       "      <td>+proj=omerc +lat_0=-18.713172195007903 +lonc=1...</td>\n",
       "      <td>Pb</td>\n",
       "      <td>Ag;Pb;Zn</td>\n",
       "      <td>POLYGON ((126.13276 -18.74376, 125.93585 -18.8...</td>\n",
       "    </tr>\n",
       "    <tr>\n",
       "      <th>2</th>\n",
       "      <td>28504073</td>\n",
       "      <td>Tertiary</td>\n",
       "      <td>nan</td>\n",
       "      <td>U</td>\n",
       "      <td>333288.0</td>\n",
       "      <td>-31.740950</td>\n",
       "      <td>140.662364</td>\n",
       "      <td>Honeymoon</td>\n",
       "      <td>198.924483</td>\n",
       "      <td>5.095457</td>\n",
       "      <td>39.470302</td>\n",
       "      <td>140.647504</td>\n",
       "      <td>-31.785548</td>\n",
       "      <td>+proj=omerc +lat_0=-31.785548449603528 +lonc=1...</td>\n",
       "      <td>Cu</td>\n",
       "      <td>Au;Cu;Mo;U</td>\n",
       "      <td>POLYGON ((140.83354 -31.80077, 140.62952 -31.9...</td>\n",
       "    </tr>\n",
       "    <tr>\n",
       "      <th>3</th>\n",
       "      <td>09892066</td>\n",
       "      <td>Precambrian</td>\n",
       "      <td>nan</td>\n",
       "      <td>Fe</td>\n",
       "      <td>333289.0</td>\n",
       "      <td>-22.635456</td>\n",
       "      <td>118.138599</td>\n",
       "      <td>Marandoo</td>\n",
       "      <td>300.876698</td>\n",
       "      <td>0.669953</td>\n",
       "      <td>46.064688</td>\n",
       "      <td>118.133423</td>\n",
       "      <td>-22.631687</td>\n",
       "      <td>+proj=omerc +lat_0=-22.631687090092235 +lonc=1...</td>\n",
       "      <td>Fe</td>\n",
       "      <td>Fe</td>\n",
       "      <td>POLYGON ((118.30548 -22.62868, 118.13666 -22.7...</td>\n",
       "    </tr>\n",
       "    <tr>\n",
       "      <th>4</th>\n",
       "      <td>46206860</td>\n",
       "      <td>Neoproterozoic</td>\n",
       "      <td>coincides with NNW trending transcontinental g...</td>\n",
       "      <td>Ag;Cu;Co</td>\n",
       "      <td>333290.0</td>\n",
       "      <td>-31.447091</td>\n",
       "      <td>137.149981</td>\n",
       "      <td>Mount Gunson</td>\n",
       "      <td>16.670195</td>\n",
       "      <td>4.225797</td>\n",
       "      <td>37.180881</td>\n",
       "      <td>137.161769</td>\n",
       "      <td>-31.409967</td>\n",
       "      <td>+proj=omerc +lat_0=-31.409967128089512 +lonc=1...</td>\n",
       "      <td>Cu</td>\n",
       "      <td>Ag;Co;Cu</td>\n",
       "      <td>POLYGON ((137.34620 -31.43149, 137.13646 -31.5...</td>\n",
       "    </tr>\n",
       "  </tbody>\n",
       "</table>\n",
       "</div>"
      ],
      "text/plain": [
       "         id              age  \\\n",
       "0  57941438  Late Ordovician   \n",
       "1  21418444  Late Palaeozoic   \n",
       "2  28504073         Tertiary   \n",
       "3  09892066      Precambrian   \n",
       "4  46206860   Neoproterozoic   \n",
       "\n",
       "                                             comment commodities_string  \\\n",
       "0                           Late Ordovician-Silurian              Au;Cu   \n",
       "1                                                nan           Ag;Zn;Pb   \n",
       "2                                                nan                  U   \n",
       "3                                                nan                 Fe   \n",
       "4  coincides with NNW trending transcontinental g...           Ag;Cu;Co   \n",
       "\n",
       "   original_id   latitude   longitude          name  offset_azimuth  \\\n",
       "0     333286.0 -36.115388  147.091253      Bethanga      303.344109   \n",
       "1     333287.0 -18.710841  125.968020      Cadjebut      172.255972   \n",
       "2     333288.0 -31.740950  140.662364     Honeymoon      198.924483   \n",
       "3     333289.0 -22.635456  118.138599      Marandoo      300.876698   \n",
       "4     333290.0 -31.447091  137.149981  Mount Gunson       16.670195   \n",
       "\n",
       "   offset_distance   rotation  centre_longitude  centre_latitude  \\\n",
       "0         2.842514  54.786230        147.063229       -36.103610   \n",
       "1         0.258271  33.878547        125.968195       -18.713172   \n",
       "2         5.095457  39.470302        140.647504       -31.785548   \n",
       "3         0.669953  46.064688        118.133423       -22.631687   \n",
       "4         4.225797  37.180881        137.161769       -31.409967   \n",
       "\n",
       "                                    local_projection stratification_label  \\\n",
       "0  +proj=omerc +lat_0=-36.10360962430914 +lonc=14...                   Cu   \n",
       "1  +proj=omerc +lat_0=-18.713172195007903 +lonc=1...                   Pb   \n",
       "2  +proj=omerc +lat_0=-31.785548449603528 +lonc=1...                   Cu   \n",
       "3  +proj=omerc +lat_0=-22.631687090092235 +lonc=1...                   Fe   \n",
       "4  +proj=omerc +lat_0=-31.409967128089512 +lonc=1...                   Cu   \n",
       "\n",
       "  commodity_string                                           geometry  \n",
       "0            Au;Cu  POLYGON ((147.25693 -36.07651, 147.09679 -36.2...  \n",
       "1         Ag;Pb;Zn  POLYGON ((126.13276 -18.74376, 125.93585 -18.8...  \n",
       "2       Au;Cu;Mo;U  POLYGON ((140.83354 -31.80077, 140.62952 -31.9...  \n",
       "3               Fe  POLYGON ((118.30548 -22.62868, 118.13666 -22.7...  \n",
       "4         Ag;Co;Cu  POLYGON ((137.34620 -31.43149, 137.13646 -31.5...  "
      ]
     },
     "execution_count": 9,
     "metadata": {},
     "output_type": "execute_result"
    }
   ],
   "source": [
    "stamps.head()"
   ]
  },
  {
   "cell_type": "code",
   "execution_count": 13,
   "metadata": {},
   "outputs": [
    {
     "data": {
      "text/plain": [
       "'82771002'"
      ]
     },
     "execution_count": 13,
     "metadata": {},
     "output_type": "execute_result"
    }
   ],
   "source": [
    "trainids[0]"
   ]
  },
  {
   "cell_type": "code",
   "execution_count": 14,
   "metadata": {},
   "outputs": [],
   "source": [
    "commodity = 'commodities.csv'"
   ]
  },
  {
   "cell_type": "code",
   "execution_count": 15,
   "metadata": {},
   "outputs": [
    {
     "data": {
      "text/plain": [
       "'/Users/pedrojunqueira/Desktop/train/82771002/commodities.csv'"
      ]
     },
     "execution_count": 15,
     "metadata": {},
     "output_type": "execute_result"
    }
   ],
   "source": [
    "os.path.join(trainpath,trainids[0],commodity)"
   ]
  },
  {
   "cell_type": "code",
   "execution_count": 16,
   "metadata": {},
   "outputs": [
    {
     "data": {
      "text/plain": [
       "'Fe;Ag;Zn;Cu;Pb;Au'"
      ]
     },
     "execution_count": 16,
     "metadata": {},
     "output_type": "execute_result"
    }
   ],
   "source": [
    "';'.join(pd.read_csv(os.path.join(trainpath,trainids[0],commodity))['commodity'].tolist())"
   ]
  },
  {
   "cell_type": "code",
   "execution_count": 17,
   "metadata": {},
   "outputs": [],
   "source": [
    "# check all stamps on the train set to find the stamp with most amount fo deposits\n",
    "stamp_deposits = defaultdict(list)\n",
    "for i in trainids:\n",
    "    df = pd.read_csv(os.path.join(trainpath,i,commodity))\n",
    "    stamp_deposits['id'].append(i)\n",
    "    stamp_deposits['deposits'].append(df.shape[0])\n",
    "    stamp_deposits['commodities'].append(';'.join(df['commodity'].tolist()))\n",
    "  \n",
    "    "
   ]
  },
  {
   "cell_type": "code",
   "execution_count": 18,
   "metadata": {},
   "outputs": [],
   "source": [
    "number_deposits = pd.DataFrame(stamp_deposits)"
   ]
  },
  {
   "cell_type": "code",
   "execution_count": 19,
   "metadata": {},
   "outputs": [
    {
     "data": {
      "text/html": [
       "<div>\n",
       "<style scoped>\n",
       "    .dataframe tbody tr th:only-of-type {\n",
       "        vertical-align: middle;\n",
       "    }\n",
       "\n",
       "    .dataframe tbody tr th {\n",
       "        vertical-align: top;\n",
       "    }\n",
       "\n",
       "    .dataframe thead th {\n",
       "        text-align: right;\n",
       "    }\n",
       "</style>\n",
       "<table border=\"1\" class=\"dataframe\">\n",
       "  <thead>\n",
       "    <tr style=\"text-align: right;\">\n",
       "      <th></th>\n",
       "      <th>id</th>\n",
       "      <th>deposits</th>\n",
       "      <th>commodities</th>\n",
       "    </tr>\n",
       "  </thead>\n",
       "  <tbody>\n",
       "    <tr>\n",
       "      <th>0</th>\n",
       "      <td>82771002</td>\n",
       "      <td>2</td>\n",
       "      <td>Fe;Ag;Zn;Cu;Pb;Au</td>\n",
       "    </tr>\n",
       "    <tr>\n",
       "      <th>1</th>\n",
       "      <td>23922457</td>\n",
       "      <td>1</td>\n",
       "      <td>U</td>\n",
       "    </tr>\n",
       "    <tr>\n",
       "      <th>2</th>\n",
       "      <td>00613312</td>\n",
       "      <td>2</td>\n",
       "      <td>Au;Au</td>\n",
       "    </tr>\n",
       "    <tr>\n",
       "      <th>3</th>\n",
       "      <td>30527645</td>\n",
       "      <td>1</td>\n",
       "      <td>Mn</td>\n",
       "    </tr>\n",
       "    <tr>\n",
       "      <th>4</th>\n",
       "      <td>51982094</td>\n",
       "      <td>0</td>\n",
       "      <td></td>\n",
       "    </tr>\n",
       "    <tr>\n",
       "      <th>...</th>\n",
       "      <td>...</td>\n",
       "      <td>...</td>\n",
       "      <td>...</td>\n",
       "    </tr>\n",
       "    <tr>\n",
       "      <th>1858</th>\n",
       "      <td>47763108</td>\n",
       "      <td>4</td>\n",
       "      <td>Cu;Zn;Pb;Mn;Mn</td>\n",
       "    </tr>\n",
       "    <tr>\n",
       "      <th>1859</th>\n",
       "      <td>76723666</td>\n",
       "      <td>1</td>\n",
       "      <td>Mn</td>\n",
       "    </tr>\n",
       "    <tr>\n",
       "      <th>1860</th>\n",
       "      <td>42884730</td>\n",
       "      <td>1</td>\n",
       "      <td>Cu</td>\n",
       "    </tr>\n",
       "    <tr>\n",
       "      <th>1861</th>\n",
       "      <td>96499931</td>\n",
       "      <td>0</td>\n",
       "      <td></td>\n",
       "    </tr>\n",
       "    <tr>\n",
       "      <th>1862</th>\n",
       "      <td>44310191</td>\n",
       "      <td>0</td>\n",
       "      <td></td>\n",
       "    </tr>\n",
       "  </tbody>\n",
       "</table>\n",
       "<p>1863 rows × 3 columns</p>\n",
       "</div>"
      ],
      "text/plain": [
       "            id  deposits        commodities\n",
       "0     82771002         2  Fe;Ag;Zn;Cu;Pb;Au\n",
       "1     23922457         1                  U\n",
       "2     00613312         2              Au;Au\n",
       "3     30527645         1                 Mn\n",
       "4     51982094         0                   \n",
       "...        ...       ...                ...\n",
       "1858  47763108         4     Cu;Zn;Pb;Mn;Mn\n",
       "1859  76723666         1                 Mn\n",
       "1860  42884730         1                 Cu\n",
       "1861  96499931         0                   \n",
       "1862  44310191         0                   \n",
       "\n",
       "[1863 rows x 3 columns]"
      ]
     },
     "execution_count": 19,
     "metadata": {},
     "output_type": "execute_result"
    }
   ],
   "source": [
    "number_deposits"
   ]
  },
  {
   "cell_type": "code",
   "execution_count": 20,
   "metadata": {},
   "outputs": [
    {
     "data": {
      "text/html": [
       "<div>\n",
       "<style scoped>\n",
       "    .dataframe tbody tr th:only-of-type {\n",
       "        vertical-align: middle;\n",
       "    }\n",
       "\n",
       "    .dataframe tbody tr th {\n",
       "        vertical-align: top;\n",
       "    }\n",
       "\n",
       "    .dataframe thead th {\n",
       "        text-align: right;\n",
       "    }\n",
       "</style>\n",
       "<table border=\"1\" class=\"dataframe\">\n",
       "  <thead>\n",
       "    <tr style=\"text-align: right;\">\n",
       "      <th></th>\n",
       "      <th>id</th>\n",
       "      <th>deposits</th>\n",
       "      <th>commodities</th>\n",
       "    </tr>\n",
       "  </thead>\n",
       "  <tbody>\n",
       "    <tr>\n",
       "      <th>1202</th>\n",
       "      <td>54334295</td>\n",
       "      <td>36</td>\n",
       "      <td>Au;Au;Au;Au;Au;Au;Au;Au;Au;Au;Au;Au;Au;Au;Au;A...</td>\n",
       "    </tr>\n",
       "    <tr>\n",
       "      <th>1734</th>\n",
       "      <td>03441547</td>\n",
       "      <td>30</td>\n",
       "      <td>Au;Au;Au;Au;Au;Au;Au;Au;Au;Au;Au;Au;Au;Au;Au;A...</td>\n",
       "    </tr>\n",
       "    <tr>\n",
       "      <th>1695</th>\n",
       "      <td>61615669</td>\n",
       "      <td>28</td>\n",
       "      <td>Au;Au;Au;Au;Au;Au;Au;Au;Au;Au;Au;Au;Au;Au;Au;A...</td>\n",
       "    </tr>\n",
       "    <tr>\n",
       "      <th>45</th>\n",
       "      <td>28659318</td>\n",
       "      <td>26</td>\n",
       "      <td>Au;Au;Au;Au;Au;Au;Au;Au;Au;Au;Au;Au;Au;Au;Au;A...</td>\n",
       "    </tr>\n",
       "    <tr>\n",
       "      <th>1618</th>\n",
       "      <td>62179344</td>\n",
       "      <td>25</td>\n",
       "      <td>Au;Au;Au;Au;Au;Au;Au;Au;Au;Au;Au;Au;Au;Au;Au;A...</td>\n",
       "    </tr>\n",
       "    <tr>\n",
       "      <th>...</th>\n",
       "      <td>...</td>\n",
       "      <td>...</td>\n",
       "      <td>...</td>\n",
       "    </tr>\n",
       "    <tr>\n",
       "      <th>883</th>\n",
       "      <td>33829925</td>\n",
       "      <td>0</td>\n",
       "      <td></td>\n",
       "    </tr>\n",
       "    <tr>\n",
       "      <th>892</th>\n",
       "      <td>08398059</td>\n",
       "      <td>0</td>\n",
       "      <td></td>\n",
       "    </tr>\n",
       "    <tr>\n",
       "      <th>893</th>\n",
       "      <td>14476770</td>\n",
       "      <td>0</td>\n",
       "      <td></td>\n",
       "    </tr>\n",
       "    <tr>\n",
       "      <th>899</th>\n",
       "      <td>22144538</td>\n",
       "      <td>0</td>\n",
       "      <td></td>\n",
       "    </tr>\n",
       "    <tr>\n",
       "      <th>1862</th>\n",
       "      <td>44310191</td>\n",
       "      <td>0</td>\n",
       "      <td></td>\n",
       "    </tr>\n",
       "  </tbody>\n",
       "</table>\n",
       "<p>1863 rows × 3 columns</p>\n",
       "</div>"
      ],
      "text/plain": [
       "            id  deposits                                        commodities\n",
       "1202  54334295        36  Au;Au;Au;Au;Au;Au;Au;Au;Au;Au;Au;Au;Au;Au;Au;A...\n",
       "1734  03441547        30  Au;Au;Au;Au;Au;Au;Au;Au;Au;Au;Au;Au;Au;Au;Au;A...\n",
       "1695  61615669        28  Au;Au;Au;Au;Au;Au;Au;Au;Au;Au;Au;Au;Au;Au;Au;A...\n",
       "45    28659318        26  Au;Au;Au;Au;Au;Au;Au;Au;Au;Au;Au;Au;Au;Au;Au;A...\n",
       "1618  62179344        25  Au;Au;Au;Au;Au;Au;Au;Au;Au;Au;Au;Au;Au;Au;Au;A...\n",
       "...        ...       ...                                                ...\n",
       "883   33829925         0                                                   \n",
       "892   08398059         0                                                   \n",
       "893   14476770         0                                                   \n",
       "899   22144538         0                                                   \n",
       "1862  44310191         0                                                   \n",
       "\n",
       "[1863 rows x 3 columns]"
      ]
     },
     "execution_count": 20,
     "metadata": {},
     "output_type": "execute_result"
    }
   ],
   "source": [
    "number_deposits.sort_values(by='deposits',ascending=False)"
   ]
  },
  {
   "cell_type": "code",
   "execution_count": 21,
   "metadata": {},
   "outputs": [
    {
     "data": {
      "image/png": "[encoded data removed]",
      "text/plain": [
       "<Figure size 432x288 with 1 Axes>"
      ]
     },
     "metadata": {
      "needs_background": "light"
     },
     "output_type": "display_data"
    }
   ],
   "source": [
    "# plot the most busy stamp\n",
    "stamps[stamps['id']=='54334295'].plot();"
   ]
  },
  {
   "cell_type": "code",
   "execution_count": 22,
   "metadata": {},
   "outputs": [],
   "source": [
    "# Load up deposits of stamp\n",
    "\n",
    "df = pd.read_csv(os.path.join(trainpath,'54334295',commodity))\n"
   ]
  },
  {
   "cell_type": "code",
   "execution_count": 23,
   "metadata": {},
   "outputs": [],
   "source": [
    "df['geometry'] = list(zip(df.x, df.y))\n",
    "df['geometry'] = df['geometry'].apply(Point)\n",
    "df = gpd.GeoDataFrame(df)"
   ]
  },
  {
   "cell_type": "code",
   "execution_count": 24,
   "metadata": {},
   "outputs": [
    {
     "data": {
      "text/plain": [
       "<matplotlib.axes._subplots.AxesSubplot at 0x1a23854250>"
      ]
     },
     "execution_count": 24,
     "metadata": {},
     "output_type": "execute_result"
    },
    {
     "data": {
      "image/png": "[encoded data removed]",
      "text/plain": [
       "<Figure size 432x288 with 1 Axes>"
      ]
     },
     "metadata": {
      "needs_background": "light"
     },
     "output_type": "display_data"
    }
   ],
   "source": [
    "df.plot()"
   ]
  },
  {
   "cell_type": "code",
   "execution_count": 25,
   "metadata": {},
   "outputs": [],
   "source": [
    "# now load one raster file of this stamp say bouger_gravity anomaly\n",
    "mag_tif = os.path.join(trainpath,'54334295','geophysics/gravity/bouger_gravity_anomaly.tif')\n",
    "\n",
    "with rasterio.open(mag_tif, 'r') as src:\n",
    "    meta = src.meta\n",
    "    data = src.read(1)"
   ]
  },
  {
   "cell_type": "code",
   "execution_count": 26,
   "metadata": {},
   "outputs": [
    {
     "data": {
      "image/png": "[encoded data removed]",
      "text/plain": [
       "<Figure size 432x288 with 1 Axes>"
      ]
     },
     "metadata": {
      "needs_background": "light"
     },
     "output_type": "display_data"
    }
   ],
   "source": [
    "plt.imshow(data);"
   ]
  },
  {
   "cell_type": "code",
   "execution_count": 27,
   "metadata": {},
   "outputs": [
    {
     "data": {
      "text/plain": [
       "dtype('float32')"
      ]
     },
     "execution_count": 27,
     "metadata": {},
     "output_type": "execute_result"
    }
   ],
   "source": [
    "data.dtype"
   ]
  },
  {
   "cell_type": "code",
   "execution_count": 28,
   "metadata": {},
   "outputs": [],
   "source": [
    "# use Rasterio Window function to slice the tiff file in 100 tiles 50x50 \n",
    "# To certify check if some of pixels of all tiles is equal the sum of original image\n",
    "\n",
    "\n",
    "height = 500\n",
    "width = 500\n",
    "tilesheight = 50\n",
    "tileswidth = 50\n",
    "\n",
    "rows = range(int(height/tilesheight))\n",
    "cols = range(int(width/tileswidth))\n",
    "\n",
    "count= 0\n",
    "sums = []\n",
    "for i in rows:\n",
    "    for j in cols:\n",
    "        with rasterio.open(mag_tif, 'r') as src:\n",
    "            w = src.read(1, window=Window(i*tileswidth, j*tilesheight, 50, 50))\n",
    "            #print(f'col_off: {i*tileswidth}, row_off: {j*tilesheight}')\n",
    "            sums.append(w.sum())\n",
    "        \n",
    "        "
   ]
  },
  {
   "cell_type": "code",
   "execution_count": 29,
   "metadata": {},
   "outputs": [
    {
     "data": {
      "text/plain": [
       "-137460279.5625"
      ]
     },
     "execution_count": 29,
     "metadata": {},
     "output_type": "execute_result"
    }
   ],
   "source": [
    "sum(sums)"
   ]
  },
  {
   "cell_type": "code",
   "execution_count": 30,
   "metadata": {},
   "outputs": [
    {
     "data": {
      "text/plain": [
       "-137460290.0"
      ]
     },
     "execution_count": 30,
     "metadata": {},
     "output_type": "execute_result"
    }
   ],
   "source": [
    "data.sum() # close enough"
   ]
  },
  {
   "cell_type": "code",
   "execution_count": 31,
   "metadata": {},
   "outputs": [],
   "source": [
    "# save tiles data in a list\n",
    "\n",
    "height = 500\n",
    "width = 500\n",
    "tilesheight = 50\n",
    "tileswidth = 50\n",
    "\n",
    "rows = range(int(height/tilesheight))\n",
    "cols = range(int(width/tileswidth))\n",
    "\n",
    "count= 0\n",
    "tiles = []\n",
    "windows = []\n",
    "for i in rows:\n",
    "    for j in cols:\n",
    "        with rasterio.open(mag_tif, 'r') as src:\n",
    "            w = src.read(1, window=Window(i*tileswidth, j*tilesheight, 50, 50))\n",
    "            col_off = i*tileswidth\n",
    "            row_off = j*tilesheight\n",
    "            windows.append((col_off,row_off))\n",
    "            #print(f'col_off: {i*tileswidth}, row_off: {j*tilesheight}')\n",
    "            tiles.append(w)\n",
    "        \n",
    "        "
   ]
  },
  {
   "cell_type": "code",
   "execution_count": 32,
   "metadata": {},
   "outputs": [
    {
     "data": {
      "text/plain": [
       "100"
      ]
     },
     "execution_count": 32,
     "metadata": {},
     "output_type": "execute_result"
    }
   ],
   "source": [
    "len(tiles) # 100 tiles 50x50 each "
   ]
  },
  {
   "cell_type": "code",
   "execution_count": 33,
   "metadata": {},
   "outputs": [],
   "source": [
    "#windows"
   ]
  },
  {
   "cell_type": "code",
   "execution_count": 34,
   "metadata": {},
   "outputs": [
    {
     "data": {
      "image/png": "[encoded data removed]",
      "text/plain": [
       "<Figure size 432x288 with 1 Axes>"
      ]
     },
     "metadata": {
      "needs_background": "light"
     },
     "output_type": "display_data"
    }
   ],
   "source": [
    "plt.imshow(tiles[33]); # random tile"
   ]
  },
  {
   "cell_type": "code",
   "execution_count": 35,
   "metadata": {},
   "outputs": [
    {
     "name": "stderr",
     "output_type": "stream",
     "text": [
      "/Users/pedrojunqueira/anaconda3/envs/exploration/lib/python3.7/site-packages/rasterio/__init__.py:225: NotGeoreferencedWarning: Dataset has no geotransform set. The identity matrix may be returned.\n",
      "  **kwargs)\n"
     ]
    }
   ],
   "source": [
    "# reconstruct image aka stich tiles back together\n",
    "with rasterio.open(\n",
    "        'example.tif', \"w+\",\n",
    "        driver='GTiff', width=500, height=500, count=1,\n",
    "        dtype=tiles[1].dtype) as dst:\n",
    "    for tile, window in zip(tiles,windows):\n",
    "        col_off , row_off = window\n",
    "        dst.write(tile, window=Window(col_off, row_off, 50, 50), indexes=1)\n",
    "    d = dst.read(1)\n",
    "    \n",
    "    "
   ]
  },
  {
   "cell_type": "code",
   "execution_count": 36,
   "metadata": {},
   "outputs": [
    {
     "data": {
      "image/png": "[encoded data removed]",
      "text/plain": [
       "<Figure size 432x288 with 1 Axes>"
      ]
     },
     "metadata": {
      "needs_background": "light"
     },
     "output_type": "display_data"
    }
   ],
   "source": [
    "plt.imshow(d);"
   ]
  },
  {
   "cell_type": "code",
   "execution_count": 37,
   "metadata": {},
   "outputs": [
    {
     "name": "stderr",
     "output_type": "stream",
     "text": [
      "/Users/pedrojunqueira/anaconda3/envs/exploration/lib/python3.7/site-packages/rasterio/__init__.py:216: NotGeoreferencedWarning: Dataset has no geotransform set. The identity matrix may be returned.\n",
      "  s = DatasetReader(path, driver=driver, **kwargs)\n"
     ]
    }
   ],
   "source": [
    "# import sticked together image\n",
    "with rasterio.open('example.tif', 'r') as src:\n",
    "    meta_ex = src.meta\n",
    "    data_ex = src.read(1)"
   ]
  },
  {
   "cell_type": "code",
   "execution_count": 38,
   "metadata": {},
   "outputs": [
    {
     "data": {
      "image/png": "[encoded data removed]",
      "text/plain": [
       "<Figure size 432x288 with 1 Axes>"
      ]
     },
     "metadata": {
      "needs_background": "light"
     },
     "output_type": "display_data"
    }
   ],
   "source": [
    "plt.imshow(data_ex);"
   ]
  },
  {
   "cell_type": "code",
   "execution_count": 39,
   "metadata": {},
   "outputs": [
    {
     "data": {
      "text/html": [
       "<div>\n",
       "<style scoped>\n",
       "    .dataframe tbody tr th:only-of-type {\n",
       "        vertical-align: middle;\n",
       "    }\n",
       "\n",
       "    .dataframe tbody tr th {\n",
       "        vertical-align: top;\n",
       "    }\n",
       "\n",
       "    .dataframe thead th {\n",
       "        text-align: right;\n",
       "    }\n",
       "</style>\n",
       "<table border=\"1\" class=\"dataframe\">\n",
       "  <thead>\n",
       "    <tr style=\"text-align: right;\">\n",
       "      <th></th>\n",
       "      <th>age</th>\n",
       "      <th>comment</th>\n",
       "      <th>commodities_string</th>\n",
       "      <th>id</th>\n",
       "      <th>latitude</th>\n",
       "      <th>longitude</th>\n",
       "      <th>name</th>\n",
       "      <th>geometry</th>\n",
       "    </tr>\n",
       "  </thead>\n",
       "  <tbody>\n",
       "    <tr>\n",
       "      <th>0</th>\n",
       "      <td>Late Ordovician</td>\n",
       "      <td>Late Ordovician-Silurian</td>\n",
       "      <td>Au;Cu</td>\n",
       "      <td>333286</td>\n",
       "      <td>-36.115388</td>\n",
       "      <td>147.091253</td>\n",
       "      <td>Bethanga</td>\n",
       "      <td>POINT (147.09125 -36.11539)</td>\n",
       "    </tr>\n",
       "    <tr>\n",
       "      <th>1</th>\n",
       "      <td>Late Palaeozoic</td>\n",
       "      <td>nan</td>\n",
       "      <td>Ag;Zn;Pb</td>\n",
       "      <td>333287</td>\n",
       "      <td>-18.710841</td>\n",
       "      <td>125.968020</td>\n",
       "      <td>Cadjebut</td>\n",
       "      <td>POINT (125.96802 -18.71084)</td>\n",
       "    </tr>\n",
       "    <tr>\n",
       "      <th>2</th>\n",
       "      <td>Tertiary</td>\n",
       "      <td>nan</td>\n",
       "      <td>U</td>\n",
       "      <td>333288</td>\n",
       "      <td>-31.740950</td>\n",
       "      <td>140.662364</td>\n",
       "      <td>Honeymoon</td>\n",
       "      <td>POINT (140.66236 -31.74095)</td>\n",
       "    </tr>\n",
       "    <tr>\n",
       "      <th>3</th>\n",
       "      <td>Precambrian</td>\n",
       "      <td>nan</td>\n",
       "      <td>Fe</td>\n",
       "      <td>333289</td>\n",
       "      <td>-22.635456</td>\n",
       "      <td>118.138599</td>\n",
       "      <td>Marandoo</td>\n",
       "      <td>POINT (118.13860 -22.63546)</td>\n",
       "    </tr>\n",
       "    <tr>\n",
       "      <th>4</th>\n",
       "      <td>Neoproterozoic</td>\n",
       "      <td>coincides with NNW trending transcontinental g...</td>\n",
       "      <td>Ag;Cu;Co</td>\n",
       "      <td>333290</td>\n",
       "      <td>-31.447091</td>\n",
       "      <td>137.149981</td>\n",
       "      <td>Mount Gunson</td>\n",
       "      <td>POINT (137.14998 -31.44709)</td>\n",
       "    </tr>\n",
       "  </tbody>\n",
       "</table>\n",
       "</div>"
      ],
      "text/plain": [
       "               age                                            comment  \\\n",
       "0  Late Ordovician                           Late Ordovician-Silurian   \n",
       "1  Late Palaeozoic                                                nan   \n",
       "2         Tertiary                                                nan   \n",
       "3      Precambrian                                                nan   \n",
       "4   Neoproterozoic  coincides with NNW trending transcontinental g...   \n",
       "\n",
       "  commodities_string      id   latitude   longitude          name  \\\n",
       "0              Au;Cu  333286 -36.115388  147.091253      Bethanga   \n",
       "1           Ag;Zn;Pb  333287 -18.710841  125.968020      Cadjebut   \n",
       "2                  U  333288 -31.740950  140.662364     Honeymoon   \n",
       "3                 Fe  333289 -22.635456  118.138599      Marandoo   \n",
       "4           Ag;Cu;Co  333290 -31.447091  137.149981  Mount Gunson   \n",
       "\n",
       "                      geometry  \n",
       "0  POINT (147.09125 -36.11539)  \n",
       "1  POINT (125.96802 -18.71084)  \n",
       "2  POINT (140.66236 -31.74095)  \n",
       "3  POINT (118.13860 -22.63546)  \n",
       "4  POINT (137.14998 -31.44709)  "
      ]
     },
     "execution_count": 39,
     "metadata": {},
     "output_type": "execute_result"
    }
   ],
   "source": [
    "# import all depositis to clip a stamp\n",
    "\n",
    "data = Path('../data/deposit_locations.geo.json')\n",
    "deposits = gpd.read_file(data)\n",
    "deposits.head()"
   ]
  },
  {
   "cell_type": "code",
   "execution_count": 40,
   "metadata": {},
   "outputs": [],
   "source": [
    "def clip_out(stamp, to_crs, crs='epsg:4326'):\n",
    "    \"Clip out the area given by the stamp polygon\"\n",
    "    # We first subset to the set of units that intersects with the bounding box, then generate the intersection\n",
    "    stamp_reproj = reproject(stamp, crs, deposits.crs)\n",
    "    subset = deposits[deposits.intersects(stamp_reproj)]\n",
    "    clipped = subset.copy()\n",
    "    clipped = clipped.intersection(stamp_reproj).to_crs(to_crs)\n",
    "    return clipped"
   ]
  },
  {
   "cell_type": "code",
   "execution_count": 41,
   "metadata": {},
   "outputs": [
    {
     "data": {
      "text/html": [
       "<div>\n",
       "<style scoped>\n",
       "    .dataframe tbody tr th:only-of-type {\n",
       "        vertical-align: middle;\n",
       "    }\n",
       "\n",
       "    .dataframe tbody tr th {\n",
       "        vertical-align: top;\n",
       "    }\n",
       "\n",
       "    .dataframe thead th {\n",
       "        text-align: right;\n",
       "    }\n",
       "</style>\n",
       "<table border=\"1\" class=\"dataframe\">\n",
       "  <thead>\n",
       "    <tr style=\"text-align: right;\">\n",
       "      <th></th>\n",
       "      <th>centre_longitude</th>\n",
       "      <th>centre_latitude</th>\n",
       "      <th>rotation</th>\n",
       "    </tr>\n",
       "  </thead>\n",
       "  <tbody>\n",
       "    <tr>\n",
       "      <th>352</th>\n",
       "      <td>121.251981</td>\n",
       "      <td>-30.956905</td>\n",
       "      <td>83.489438</td>\n",
       "    </tr>\n",
       "  </tbody>\n",
       "</table>\n",
       "</div>"
      ],
      "text/plain": [
       "     centre_longitude  centre_latitude   rotation\n",
       "352        121.251981       -30.956905  83.489438"
      ]
     },
     "execution_count": 41,
     "metadata": {},
     "output_type": "execute_result"
    }
   ],
   "source": [
    "stamps.loc[stamps['id']=='54334295',['centre_longitude','centre_latitude','rotation']]"
   ]
  },
  {
   "cell_type": "code",
   "execution_count": 42,
   "metadata": {},
   "outputs": [],
   "source": [
    "# Make a rotated box to pull data from\n",
    "centre = Point(121.251981, -30.956905)\n",
    "angle = 83.489438\n",
    "stamp = make_stamp(centre, angle)"
   ]
  },
  {
   "cell_type": "code",
   "execution_count": 43,
   "metadata": {},
   "outputs": [
    {
     "data": {
      "image/svg+xml": [
       "<svg xmlns=\"http://www.w3.org/2000/svg\" xmlns:xlink=\"http://www.w3.org/1999/xlink\" width=\"100.0\" height=\"100.0\" viewBox=\"121.09536675016311 -31.09275489109273 0.31308149043374556 0.27178707951549086\" preserveAspectRatio=\"xMinYMin meet\"><g transform=\"matrix(1,0,0,-1,0,-61.91372270266997)\"><path fill-rule=\"evenodd\" fill=\"#66cc99\" stroke=\"#555555\" stroke-width=\"0.006261629808674911\" opacity=\"0.6\" d=\"M 121.39685262984005,-30.857997919068538 L 121.36745874264705,-31.081159280335925 L 121.10696236091991,-31.055665300228597 L 121.1369561503239,-30.832563422334047 L 121.39685262984005,-30.857997919068538 z\" /></g></svg>"
      ],
      "text/plain": [
       "<shapely.geometry.polygon.Polygon at 0x1a23832110>"
      ]
     },
     "execution_count": 43,
     "metadata": {},
     "output_type": "execute_result"
    }
   ],
   "source": [
    "stamp"
   ]
  },
  {
   "cell_type": "code",
   "execution_count": 44,
   "metadata": {},
   "outputs": [],
   "source": [
    "stamp_reproj = reproject(stamp, 'epsg:4326', deposits.crs)\n",
    "subset = deposits[deposits.intersects(stamp_reproj)]"
   ]
  },
  {
   "cell_type": "code",
   "execution_count": 45,
   "metadata": {},
   "outputs": [
    {
     "data": {
      "text/html": [
       "<div>\n",
       "<style scoped>\n",
       "    .dataframe tbody tr th:only-of-type {\n",
       "        vertical-align: middle;\n",
       "    }\n",
       "\n",
       "    .dataframe tbody tr th {\n",
       "        vertical-align: top;\n",
       "    }\n",
       "\n",
       "    .dataframe thead th {\n",
       "        text-align: right;\n",
       "    }\n",
       "</style>\n",
       "<table border=\"1\" class=\"dataframe\">\n",
       "  <thead>\n",
       "    <tr style=\"text-align: right;\">\n",
       "      <th></th>\n",
       "      <th>age</th>\n",
       "      <th>commodities_string</th>\n",
       "    </tr>\n",
       "  </thead>\n",
       "  <tbody>\n",
       "    <tr>\n",
       "      <th>116</th>\n",
       "      <td>Archean</td>\n",
       "      <td>Au</td>\n",
       "    </tr>\n",
       "    <tr>\n",
       "      <th>328</th>\n",
       "      <td>Archean</td>\n",
       "      <td>Au</td>\n",
       "    </tr>\n",
       "    <tr>\n",
       "      <th>332</th>\n",
       "      <td>None</td>\n",
       "      <td>Au</td>\n",
       "    </tr>\n",
       "    <tr>\n",
       "      <th>380</th>\n",
       "      <td>Archean</td>\n",
       "      <td>Au</td>\n",
       "    </tr>\n",
       "    <tr>\n",
       "      <th>405</th>\n",
       "      <td>Archaean</td>\n",
       "      <td>Au</td>\n",
       "    </tr>\n",
       "    <tr>\n",
       "      <th>595</th>\n",
       "      <td>None</td>\n",
       "      <td>Au</td>\n",
       "    </tr>\n",
       "    <tr>\n",
       "      <th>657</th>\n",
       "      <td>Archean</td>\n",
       "      <td>Au</td>\n",
       "    </tr>\n",
       "    <tr>\n",
       "      <th>756</th>\n",
       "      <td>Archaean</td>\n",
       "      <td>Au</td>\n",
       "    </tr>\n",
       "    <tr>\n",
       "      <th>877</th>\n",
       "      <td>Archaean</td>\n",
       "      <td>Au</td>\n",
       "    </tr>\n",
       "    <tr>\n",
       "      <th>953</th>\n",
       "      <td>Archaean</td>\n",
       "      <td>Au</td>\n",
       "    </tr>\n",
       "    <tr>\n",
       "      <th>1003</th>\n",
       "      <td>Archaean</td>\n",
       "      <td>Au</td>\n",
       "    </tr>\n",
       "    <tr>\n",
       "      <th>1091</th>\n",
       "      <td>Archaean</td>\n",
       "      <td>Au</td>\n",
       "    </tr>\n",
       "    <tr>\n",
       "      <th>1269</th>\n",
       "      <td>Archean</td>\n",
       "      <td>Au</td>\n",
       "    </tr>\n",
       "    <tr>\n",
       "      <th>1344</th>\n",
       "      <td>Archean</td>\n",
       "      <td>Au</td>\n",
       "    </tr>\n",
       "    <tr>\n",
       "      <th>1393</th>\n",
       "      <td>None</td>\n",
       "      <td>Au</td>\n",
       "    </tr>\n",
       "    <tr>\n",
       "      <th>1472</th>\n",
       "      <td>Archean</td>\n",
       "      <td>Au</td>\n",
       "    </tr>\n",
       "    <tr>\n",
       "      <th>1513</th>\n",
       "      <td>Archean</td>\n",
       "      <td>Au</td>\n",
       "    </tr>\n",
       "    <tr>\n",
       "      <th>1573</th>\n",
       "      <td>Archean</td>\n",
       "      <td>Au</td>\n",
       "    </tr>\n",
       "    <tr>\n",
       "      <th>1653</th>\n",
       "      <td>None</td>\n",
       "      <td>Au</td>\n",
       "    </tr>\n",
       "    <tr>\n",
       "      <th>1924</th>\n",
       "      <td>Archaean</td>\n",
       "      <td>Au</td>\n",
       "    </tr>\n",
       "    <tr>\n",
       "      <th>2087</th>\n",
       "      <td>Archean</td>\n",
       "      <td>Au</td>\n",
       "    </tr>\n",
       "    <tr>\n",
       "      <th>2132</th>\n",
       "      <td>Archean</td>\n",
       "      <td>Au</td>\n",
       "    </tr>\n",
       "    <tr>\n",
       "      <th>2269</th>\n",
       "      <td>None</td>\n",
       "      <td>Au</td>\n",
       "    </tr>\n",
       "    <tr>\n",
       "      <th>2316</th>\n",
       "      <td>Archean</td>\n",
       "      <td>Au</td>\n",
       "    </tr>\n",
       "    <tr>\n",
       "      <th>2317</th>\n",
       "      <td>Archean</td>\n",
       "      <td>Au</td>\n",
       "    </tr>\n",
       "    <tr>\n",
       "      <th>2573</th>\n",
       "      <td>Archean</td>\n",
       "      <td>Au</td>\n",
       "    </tr>\n",
       "    <tr>\n",
       "      <th>2605</th>\n",
       "      <td>None</td>\n",
       "      <td>Au</td>\n",
       "    </tr>\n",
       "    <tr>\n",
       "      <th>2752</th>\n",
       "      <td>Archean</td>\n",
       "      <td>Au</td>\n",
       "    </tr>\n",
       "    <tr>\n",
       "      <th>2753</th>\n",
       "      <td>Archean</td>\n",
       "      <td>Au</td>\n",
       "    </tr>\n",
       "    <tr>\n",
       "      <th>2771</th>\n",
       "      <td>Archean</td>\n",
       "      <td>Au</td>\n",
       "    </tr>\n",
       "    <tr>\n",
       "      <th>2941</th>\n",
       "      <td>Archean</td>\n",
       "      <td>Au</td>\n",
       "    </tr>\n",
       "    <tr>\n",
       "      <th>2942</th>\n",
       "      <td>Archean</td>\n",
       "      <td>Au</td>\n",
       "    </tr>\n",
       "    <tr>\n",
       "      <th>2943</th>\n",
       "      <td>Archean</td>\n",
       "      <td>Au</td>\n",
       "    </tr>\n",
       "    <tr>\n",
       "      <th>2949</th>\n",
       "      <td>None</td>\n",
       "      <td>Au</td>\n",
       "    </tr>\n",
       "    <tr>\n",
       "      <th>3032</th>\n",
       "      <td>Archean</td>\n",
       "      <td>Au</td>\n",
       "    </tr>\n",
       "    <tr>\n",
       "      <th>3033</th>\n",
       "      <td>Archean</td>\n",
       "      <td>Au</td>\n",
       "    </tr>\n",
       "  </tbody>\n",
       "</table>\n",
       "</div>"
      ],
      "text/plain": [
       "           age commodities_string\n",
       "116    Archean                 Au\n",
       "328    Archean                 Au\n",
       "332       None                 Au\n",
       "380    Archean                 Au\n",
       "405   Archaean                 Au\n",
       "595       None                 Au\n",
       "657    Archean                 Au\n",
       "756   Archaean                 Au\n",
       "877   Archaean                 Au\n",
       "953   Archaean                 Au\n",
       "1003  Archaean                 Au\n",
       "1091  Archaean                 Au\n",
       "1269   Archean                 Au\n",
       "1344   Archean                 Au\n",
       "1393      None                 Au\n",
       "1472   Archean                 Au\n",
       "1513   Archean                 Au\n",
       "1573   Archean                 Au\n",
       "1653      None                 Au\n",
       "1924  Archaean                 Au\n",
       "2087   Archean                 Au\n",
       "2132   Archean                 Au\n",
       "2269      None                 Au\n",
       "2316   Archean                 Au\n",
       "2317   Archean                 Au\n",
       "2573   Archean                 Au\n",
       "2605      None                 Au\n",
       "2752   Archean                 Au\n",
       "2753   Archean                 Au\n",
       "2771   Archean                 Au\n",
       "2941   Archean                 Au\n",
       "2942   Archean                 Au\n",
       "2943   Archean                 Au\n",
       "2949      None                 Au\n",
       "3032   Archean                 Au\n",
       "3033   Archean                 Au"
      ]
     },
     "execution_count": 45,
     "metadata": {},
     "output_type": "execute_result"
    }
   ],
   "source": [
    "subset.loc[:,['age','commodities_string']]"
   ]
  },
  {
   "cell_type": "code",
   "execution_count": 46,
   "metadata": {},
   "outputs": [],
   "source": [
    "# # Clip the data and reproject to a locally aligned grid in m\n",
    "projection = omerc_projection(centre, angle)\n",
    "\n",
    "clipped = clip_out(stamp, crs='epsg:4326', to_crs=projection)\n",
    "\n"
   ]
  },
  {
   "cell_type": "code",
   "execution_count": 47,
   "metadata": {},
   "outputs": [
    {
     "data": {
      "image/png": "[encoded data removed]",
      "text/plain": [
       "<Figure size 432x288 with 1 Axes>"
      ]
     },
     "metadata": {
      "needs_background": "light"
     },
     "output_type": "display_data"
    }
   ],
   "source": [
    "clipped.plot(); # how to divide in 100 boxes and find what point fall in what box?\n",
    "\n"
   ]
  },
  {
   "cell_type": "code",
   "execution_count": 48,
   "metadata": {},
   "outputs": [
    {
     "data": {
      "text/plain": [
       "116     POINT (-4473.563 7303.392)\n",
       "328     POINT (-3485.414 5791.956)\n",
       "332     POINT (-3527.788 4430.851)\n",
       "380      POINT (-438.241 7439.886)\n",
       "405       POINT (-523.953 443.360)\n",
       "595     POINT (-4383.552 7332.960)\n",
       "657     POINT (-3245.012 6031.064)\n",
       "756       POINT (356.167 6838.575)\n",
       "877      POINT (2712.252 5463.877)\n",
       "953     POINT (-4293.321 6997.205)\n",
       "1003     POINT (2893.360 7923.620)\n",
       "1091     POINT (2100.601 5153.284)\n",
       "1269      POINT (713.051 7812.564)\n",
       "1344    POINT (-2415.402 7164.767)\n",
       "1393     POINT (4674.358 5169.166)\n",
       "1472    POINT (-5235.861 7138.925)\n",
       "1513    POINT (-2138.818 6407.995)\n",
       "1573      POINT (250.107 7470.837)\n",
       "1653     POINT (4793.722 4100.652)\n",
       "1924    POINT (6235.162 10333.514)\n",
       "2087     POINT (-629.220 7062.102)\n",
       "2132    POINT (-9065.331 9966.637)\n",
       "2269    POINT (-4766.884 6125.648)\n",
       "2316    POINT (-4294.769 6718.223)\n",
       "2317    POINT (-3658.837 7108.523)\n",
       "2573    POINT (-1502.782 -711.786)\n",
       "2605     POINT (4945.154 3526.054)\n",
       "2752    POINT (-4119.151 7132.580)\n",
       "2753    POINT (-2702.638 7333.718)\n",
       "2771      POINT (-805.716 415.874)\n",
       "2941    POINT (-3603.515 6432.215)\n",
       "2942    POINT (-3723.464 6504.982)\n",
       "2943    POINT (-4630.296 7016.194)\n",
       "2949    POINT (-4873.666 4565.618)\n",
       "3032      POINT (-41.091 7091.145)\n",
       "3033    POINT (-4459.987 6699.255)\n",
       "dtype: geometry"
      ]
     },
     "execution_count": 48,
     "metadata": {},
     "output_type": "execute_result"
    }
   ],
   "source": [
    "clipped"
   ]
  },
  {
   "cell_type": "code",
   "execution_count": 49,
   "metadata": {},
   "outputs": [],
   "source": [
    "randpoint = clipped[116]"
   ]
  },
  {
   "cell_type": "code",
   "execution_count": 50,
   "metadata": {},
   "outputs": [],
   "source": [
    "# import raster to mask depositis\n",
    "mag_tif = os.path.join(trainpath,'54334295','geophysics/gravity/bouger_gravity_anomaly.tif')\n",
    "\n",
    "with rasterio.open(mag_tif, 'r') as src:\n",
    "    data_ex = src.read(1)\n",
    "    out_image, _ = mask(src, [randpoint], nodata=nan)\n",
    "\n",
    "    "
   ]
  },
  {
   "cell_type": "code",
   "execution_count": 51,
   "metadata": {},
   "outputs": [
    {
     "data": {
      "text/plain": [
       "array([[[nan, nan, nan, ..., nan, nan, nan],\n",
       "        [nan, nan, nan, ..., nan, nan, nan],\n",
       "        [nan, nan, nan, ..., nan, nan, nan],\n",
       "        ...,\n",
       "        [nan, nan, nan, ..., nan, nan, nan],\n",
       "        [nan, nan, nan, ..., nan, nan, nan],\n",
       "        [nan, nan, nan, ..., nan, nan, nan]]], dtype=float32)"
      ]
     },
     "execution_count": 51,
     "metadata": {},
     "output_type": "execute_result"
    }
   ],
   "source": [
    "out_image"
   ]
  },
  {
   "cell_type": "code",
   "execution_count": 52,
   "metadata": {},
   "outputs": [
    {
     "data": {
      "image/png": "[encoded data removed]",
      "text/plain": [
       "<Figure size 432x288 with 1 Axes>"
      ]
     },
     "metadata": {
      "needs_background": "light"
     },
     "output_type": "display_data"
    }
   ],
   "source": [
    "plt.imshow(out_image[0]);"
   ]
  },
  {
   "cell_type": "code",
   "execution_count": 53,
   "metadata": {},
   "outputs": [
    {
     "data": {
      "text/plain": [
       "numpy.ndarray"
      ]
     },
     "execution_count": 53,
     "metadata": {},
     "output_type": "execute_result"
    }
   ],
   "source": [
    "type(out_image[0])"
   ]
  },
  {
   "cell_type": "code",
   "execution_count": 54,
   "metadata": {},
   "outputs": [
    {
     "data": {
      "text/plain": [
       "nan"
      ]
     },
     "execution_count": 54,
     "metadata": {},
     "output_type": "execute_result"
    }
   ],
   "source": [
    "out_image[0].sum() # cannot mask the points.... \n"
   ]
  },
  {
   "cell_type": "markdown",
   "metadata": {},
   "source": [
    "The above method to mask have not worket and I was using points and it may be too small to be able to mask\n",
    "One option is to find a buffer and the try this technique again.\n",
    "What I will try to attemp is to slice the box in 100 shape files to loop and find which geofisics tile has deposits"
   ]
  },
  {
   "cell_type": "code",
   "execution_count": 55,
   "metadata": {},
   "outputs": [],
   "source": [
    "# create a range from -12500 to 12500 which is the x coordinates of the stamp in meters \n",
    "start = -12500\n",
    "xs = [start]\n",
    "\n",
    "for i in range(10):\n",
    "    start+= 2500\n",
    "    xs.append(start)"
   ]
  },
  {
   "cell_type": "code",
   "execution_count": 56,
   "metadata": {},
   "outputs": [],
   "source": [
    "# create a range from -12500 to 12500 which is the y coordinates of the stamp in meters \n",
    "start = 12500\n",
    "ys = [start]\n",
    "\n",
    "for i in range(10):\n",
    "    start -= 2500\n",
    "    ys.append(start)"
   ]
  },
  {
   "cell_type": "code",
   "execution_count": 57,
   "metadata": {},
   "outputs": [
    {
     "name": "stdout",
     "output_type": "stream",
     "text": [
      "[-12500, -10000, -7500, -5000, -2500, 0, 2500, 5000, 7500, 10000, 12500]\n",
      "[12500, 10000, 7500, 5000, 2500, 0, -2500, -5000, -7500, -10000, -12500]\n"
     ]
    }
   ],
   "source": [
    "print(xs)\n",
    "print(ys)"
   ]
  },
  {
   "cell_type": "code",
   "execution_count": 58,
   "metadata": {},
   "outputs": [],
   "source": [
    "# create a list of tuples of the coors of stamp boxes from bottom to top from left to right\n",
    "coords = list()\n",
    "for i in xs:\n",
    "    for j in ys:\n",
    "        coords.append((i,j))"
   ]
  },
  {
   "cell_type": "code",
   "execution_count": 59,
   "metadata": {
    "scrolled": false
   },
   "outputs": [
    {
     "data": {
      "text/plain": [
       "[(-12500, 12500),\n",
       " (-12500, 10000),\n",
       " (-12500, 7500),\n",
       " (-12500, 5000),\n",
       " (-12500, 2500),\n",
       " (-12500, 0),\n",
       " (-12500, -2500),\n",
       " (-12500, -5000),\n",
       " (-12500, -7500),\n",
       " (-12500, -10000),\n",
       " (-12500, -12500),\n",
       " (-10000, 12500),\n",
       " (-10000, 10000),\n",
       " (-10000, 7500),\n",
       " (-10000, 5000),\n",
       " (-10000, 2500),\n",
       " (-10000, 0),\n",
       " (-10000, -2500),\n",
       " (-10000, -5000),\n",
       " (-10000, -7500),\n",
       " (-10000, -10000),\n",
       " (-10000, -12500),\n",
       " (-7500, 12500),\n",
       " (-7500, 10000),\n",
       " (-7500, 7500),\n",
       " (-7500, 5000),\n",
       " (-7500, 2500),\n",
       " (-7500, 0),\n",
       " (-7500, -2500),\n",
       " (-7500, -5000),\n",
       " (-7500, -7500),\n",
       " (-7500, -10000),\n",
       " (-7500, -12500),\n",
       " (-5000, 12500),\n",
       " (-5000, 10000),\n",
       " (-5000, 7500),\n",
       " (-5000, 5000),\n",
       " (-5000, 2500),\n",
       " (-5000, 0),\n",
       " (-5000, -2500),\n",
       " (-5000, -5000),\n",
       " (-5000, -7500),\n",
       " (-5000, -10000),\n",
       " (-5000, -12500),\n",
       " (-2500, 12500),\n",
       " (-2500, 10000),\n",
       " (-2500, 7500),\n",
       " (-2500, 5000),\n",
       " (-2500, 2500),\n",
       " (-2500, 0),\n",
       " (-2500, -2500),\n",
       " (-2500, -5000),\n",
       " (-2500, -7500),\n",
       " (-2500, -10000),\n",
       " (-2500, -12500),\n",
       " (0, 12500),\n",
       " (0, 10000),\n",
       " (0, 7500),\n",
       " (0, 5000),\n",
       " (0, 2500),\n",
       " (0, 0),\n",
       " (0, -2500),\n",
       " (0, -5000),\n",
       " (0, -7500),\n",
       " (0, -10000),\n",
       " (0, -12500),\n",
       " (2500, 12500),\n",
       " (2500, 10000),\n",
       " (2500, 7500),\n",
       " (2500, 5000),\n",
       " (2500, 2500),\n",
       " (2500, 0),\n",
       " (2500, -2500),\n",
       " (2500, -5000),\n",
       " (2500, -7500),\n",
       " (2500, -10000),\n",
       " (2500, -12500),\n",
       " (5000, 12500),\n",
       " (5000, 10000),\n",
       " (5000, 7500),\n",
       " (5000, 5000),\n",
       " (5000, 2500),\n",
       " (5000, 0),\n",
       " (5000, -2500),\n",
       " (5000, -5000),\n",
       " (5000, -7500),\n",
       " (5000, -10000),\n",
       " (5000, -12500),\n",
       " (7500, 12500),\n",
       " (7500, 10000),\n",
       " (7500, 7500),\n",
       " (7500, 5000),\n",
       " (7500, 2500),\n",
       " (7500, 0),\n",
       " (7500, -2500),\n",
       " (7500, -5000),\n",
       " (7500, -7500),\n",
       " (7500, -10000),\n",
       " (7500, -12500),\n",
       " (10000, 12500),\n",
       " (10000, 10000),\n",
       " (10000, 7500),\n",
       " (10000, 5000),\n",
       " (10000, 2500),\n",
       " (10000, 0),\n",
       " (10000, -2500),\n",
       " (10000, -5000),\n",
       " (10000, -7500),\n",
       " (10000, -10000),\n",
       " (10000, -12500),\n",
       " (12500, 12500),\n",
       " (12500, 10000),\n",
       " (12500, 7500),\n",
       " (12500, 5000),\n",
       " (12500, 2500),\n",
       " (12500, 0),\n",
       " (12500, -2500),\n",
       " (12500, -5000),\n",
       " (12500, -7500),\n",
       " (12500, -10000),\n",
       " (12500, -12500)]"
      ]
     },
     "execution_count": 59,
     "metadata": {},
     "output_type": "execute_result"
    }
   ],
   "source": [
    "coords"
   ]
  },
  {
   "cell_type": "code",
   "execution_count": 60,
   "metadata": {
    "scrolled": false
   },
   "outputs": [],
   "source": [
    "# create the 100 shape files\n",
    "nobox = [10,21,32,43,54,65,76,87,98]\n",
    "boxes = []\n",
    "for i in range(109):\n",
    "    if i in nobox:\n",
    "        continue\n",
    "    else:\n",
    "        #print([coords[i+1], coords[i+12], coords[i+11], coords[i]])\n",
    "        #box = Polygon([(minx, miny), (maxx,miny), (maxx, maxy), (minx,maxy)])\n",
    "        box = Polygon([coords[i+1], coords[i+12], coords[i+11], coords[i]])\n",
    "        boxes.append(box)\n",
    "\n",
    "    "
   ]
  },
  {
   "cell_type": "code",
   "execution_count": 61,
   "metadata": {},
   "outputs": [
    {
     "data": {
      "text/plain": [
       "(10000.0, -12500.0, 12500.0, -10000.0)"
      ]
     },
     "execution_count": 61,
     "metadata": {},
     "output_type": "execute_result"
    }
   ],
   "source": [
    "box.bounds #Its x-y bounding box is a (minx, miny, maxx, maxy) tuple."
   ]
  },
  {
   "cell_type": "code",
   "execution_count": 62,
   "metadata": {},
   "outputs": [
    {
     "data": {
      "text/plain": [
       "100"
      ]
     },
     "execution_count": 62,
     "metadata": {},
     "output_type": "execute_result"
    }
   ],
   "source": [
    "len(boxes) # all 100 boxes"
   ]
  },
  {
   "cell_type": "code",
   "execution_count": 63,
   "metadata": {},
   "outputs": [
    {
     "data": {
      "text/plain": [
       "(-12500.0, 10000.0, -10000.0, 12500.0)"
      ]
     },
     "execution_count": 63,
     "metadata": {},
     "output_type": "execute_result"
    }
   ],
   "source": [
    "boxes[0].bounds # top left box"
   ]
  },
  {
   "cell_type": "code",
   "execution_count": 64,
   "metadata": {},
   "outputs": [
    {
     "data": {
      "text/plain": [
       "(10000.0, -12500.0, 12500.0, -10000.0)"
      ]
     },
     "execution_count": 64,
     "metadata": {},
     "output_type": "execute_result"
    }
   ],
   "source": [
    "boxes[99].bounds # bottom right box"
   ]
  },
  {
   "cell_type": "markdown",
   "metadata": {},
   "source": [
    "The loop goes from top to bottom from left to right"
   ]
  },
  {
   "cell_type": "code",
   "execution_count": 65,
   "metadata": {},
   "outputs": [
    {
     "name": "stdout",
     "output_type": "stream",
     "text": [
      "in box (-10000.0, 7500.0, -7500.0, 10000.0) there are 1 deposits\n",
      "in box (-7500.0, 5000.0, -5000.0, 7500.0) there are 1 deposits\n",
      "in box (-5000.0, 5000.0, -2500.0, 7500.0) there are 14 deposits\n",
      "in box (-5000.0, 2500.0, -2500.0, 5000.0) there are 2 deposits\n",
      "in box (-2500.0, 5000.0, 0.0, 7500.0) there are 5 deposits\n",
      "in box (-2500.0, 0.0, 0.0, 2500.0) there are 2 deposits\n",
      "in box (-2500.0, -2500.0, 0.0, 0.0) there are 1 deposits\n",
      "in box (0.0, 7500.0, 2500.0, 10000.0) there are 1 deposits\n",
      "in box (0.0, 5000.0, 2500.0, 7500.0) there are 3 deposits\n",
      "in box (2500.0, 7500.0, 5000.0, 10000.0) there are 1 deposits\n",
      "in box (2500.0, 5000.0, 5000.0, 7500.0) there are 2 deposits\n",
      "in box (2500.0, 2500.0, 5000.0, 5000.0) there are 2 deposits\n",
      "in box (5000.0, 10000.0, 7500.0, 12500.0) there are 1 deposits\n"
     ]
    }
   ],
   "source": [
    "# clipped.within(box)\n",
    "\n",
    "boxes_with_deposit = []\n",
    "box_number = []\n",
    "for i, box in enumerate(boxes):\n",
    "    if clipped.within(box).sum():\n",
    "        print(f'in box {box.bounds} there are {clipped.within(box).sum()} deposits')\n",
    "        boxes_with_deposit.append(box)\n",
    "        box_number.append(i+1)"
   ]
  },
  {
   "cell_type": "code",
   "execution_count": 66,
   "metadata": {},
   "outputs": [
    {
     "data": {
      "text/plain": [
       "[<shapely.geometry.polygon.Polygon at 0x1a247a2890>,\n",
       " <shapely.geometry.polygon.Polygon at 0x1a247a2bd0>,\n",
       " <shapely.geometry.polygon.Polygon at 0x1a247a7210>,\n",
       " <shapely.geometry.polygon.Polygon at 0x1a247a74d0>,\n",
       " <shapely.geometry.polygon.Polygon at 0x1a247a7a50>,\n",
       " <shapely.geometry.polygon.Polygon at 0x1a247a7910>,\n",
       " <shapely.geometry.polygon.Polygon at 0x1a247a78d0>,\n",
       " <shapely.geometry.polygon.Polygon at 0x1a247a7b50>,\n",
       " <shapely.geometry.polygon.Polygon at 0x1a247a7d90>,\n",
       " <shapely.geometry.polygon.Polygon at 0x1a23852ad0>,\n",
       " <shapely.geometry.polygon.Polygon at 0x1a23502510>,\n",
       " <shapely.geometry.polygon.Polygon at 0x1a23852690>,\n",
       " <shapely.geometry.polygon.Polygon at 0x1a234fb3d0>]"
      ]
     },
     "execution_count": 66,
     "metadata": {},
     "output_type": "execute_result"
    }
   ],
   "source": [
    "boxes_with_deposit"
   ]
  },
  {
   "cell_type": "code",
   "execution_count": 67,
   "metadata": {},
   "outputs": [
    {
     "data": {
      "text/plain": [
       "[12, 23, 33, 34, 43, 45, 46, 52, 53, 62, 63, 64, 71]"
      ]
     },
     "execution_count": 67,
     "metadata": {},
     "output_type": "execute_result"
    }
   ],
   "source": [
    "box_number"
   ]
  },
  {
   "cell_type": "code",
   "execution_count": 68,
   "metadata": {},
   "outputs": [],
   "source": [
    "boxesframe = gpd.GeoDataFrame(geometry=boxes_with_deposit)"
   ]
  },
  {
   "cell_type": "code",
   "execution_count": 69,
   "metadata": {},
   "outputs": [
    {
     "data": {
      "text/plain": [
       "<matplotlib.axes._subplots.AxesSubplot at 0x1a2477ffd0>"
      ]
     },
     "execution_count": 69,
     "metadata": {},
     "output_type": "execute_result"
    },
    {
     "data": {
      "image/png": "[encoded data removed]",
      "text/plain": [
       "<Figure size 432x288 with 1 Axes>"
      ]
     },
     "metadata": {
      "needs_background": "light"
     },
     "output_type": "display_data"
    }
   ],
   "source": [
    "boxesframe.plot()"
   ]
  },
  {
   "cell_type": "code",
   "execution_count": 70,
   "metadata": {},
   "outputs": [
    {
     "data": {
      "image/png": "[encoded data removed]",
      "text/plain": [
       "<Figure size 432x288 with 1 Axes>"
      ]
     },
     "metadata": {
      "needs_background": "light"
     },
     "output_type": "display_data"
    }
   ],
   "source": [
    "plt.imshow(data_ex);"
   ]
  },
  {
   "cell_type": "code",
   "execution_count": 71,
   "metadata": {},
   "outputs": [
    {
     "data": {
      "image/png": "[encoded data removed]",
      "text/plain": [
       "<Figure size 432x288 with 1 Axes>"
      ]
     },
     "metadata": {
      "needs_background": "light"
     },
     "output_type": "display_data"
    }
   ],
   "source": [
    "clipped.plot();"
   ]
  },
  {
   "cell_type": "code",
   "execution_count": 72,
   "metadata": {},
   "outputs": [
    {
     "data": {
      "text/plain": [
       "<matplotlib.axes._subplots.AxesSubplot at 0x1a2388c790>"
      ]
     },
     "execution_count": 72,
     "metadata": {},
     "output_type": "execute_result"
    },
    {
     "data": {
      "image/png": "[encoded data removed]",
      "text/plain": [
       "<Figure size 432x288 with 1 Axes>"
      ]
     },
     "metadata": {
      "needs_background": "light"
     },
     "output_type": "display_data"
    }
   ],
   "source": [
    "allboxes= gpd.GeoDataFrame(geometry=boxes)\n",
    "allboxes.plot()"
   ]
  },
  {
   "cell_type": "code",
   "execution_count": 73,
   "metadata": {
    "scrolled": false
   },
   "outputs": [
    {
     "name": "stdout",
     "output_type": "stream",
     "text": [
      "in box 1 there are 0 deposits\n",
      "in box 2 there are 0 deposits\n",
      "in box 3 there are 0 deposits\n",
      "in box 4 there are 0 deposits\n",
      "in box 5 there are 0 deposits\n",
      "in box 6 there are 0 deposits\n",
      "in box 7 there are 0 deposits\n",
      "in box 8 there are 0 deposits\n",
      "in box 9 there are 0 deposits\n",
      "in box 10 there are 0 deposits\n",
      "in box 11 there are 0 deposits\n",
      "in box 12 there are 1 deposits\n",
      "in box 13 there are 0 deposits\n",
      "in box 14 there are 0 deposits\n",
      "in box 15 there are 0 deposits\n",
      "in box 16 there are 0 deposits\n",
      "in box 17 there are 0 deposits\n",
      "in box 18 there are 0 deposits\n",
      "in box 19 there are 0 deposits\n",
      "in box 20 there are 0 deposits\n",
      "in box 21 there are 0 deposits\n",
      "in box 22 there are 0 deposits\n",
      "in box 23 there are 1 deposits\n",
      "in box 24 there are 0 deposits\n",
      "in box 25 there are 0 deposits\n",
      "in box 26 there are 0 deposits\n",
      "in box 27 there are 0 deposits\n",
      "in box 28 there are 0 deposits\n",
      "in box 29 there are 0 deposits\n",
      "in box 30 there are 0 deposits\n",
      "in box 31 there are 0 deposits\n",
      "in box 32 there are 0 deposits\n",
      "in box 33 there are 14 deposits\n",
      "in box 34 there are 2 deposits\n",
      "in box 35 there are 0 deposits\n",
      "in box 36 there are 0 deposits\n",
      "in box 37 there are 0 deposits\n",
      "in box 38 there are 0 deposits\n",
      "in box 39 there are 0 deposits\n",
      "in box 40 there are 0 deposits\n",
      "in box 41 there are 0 deposits\n",
      "in box 42 there are 0 deposits\n",
      "in box 43 there are 5 deposits\n",
      "in box 44 there are 0 deposits\n",
      "in box 45 there are 2 deposits\n",
      "in box 46 there are 1 deposits\n",
      "in box 47 there are 0 deposits\n",
      "in box 48 there are 0 deposits\n",
      "in box 49 there are 0 deposits\n",
      "in box 50 there are 0 deposits\n",
      "in box 51 there are 0 deposits\n",
      "in box 52 there are 1 deposits\n",
      "in box 53 there are 3 deposits\n",
      "in box 54 there are 0 deposits\n",
      "in box 55 there are 0 deposits\n",
      "in box 56 there are 0 deposits\n",
      "in box 57 there are 0 deposits\n",
      "in box 58 there are 0 deposits\n",
      "in box 59 there are 0 deposits\n",
      "in box 60 there are 0 deposits\n",
      "in box 61 there are 0 deposits\n",
      "in box 62 there are 1 deposits\n",
      "in box 63 there are 2 deposits\n",
      "in box 64 there are 2 deposits\n",
      "in box 65 there are 0 deposits\n",
      "in box 66 there are 0 deposits\n",
      "in box 67 there are 0 deposits\n",
      "in box 68 there are 0 deposits\n",
      "in box 69 there are 0 deposits\n",
      "in box 70 there are 0 deposits\n",
      "in box 71 there are 1 deposits\n",
      "in box 72 there are 0 deposits\n",
      "in box 73 there are 0 deposits\n",
      "in box 74 there are 0 deposits\n",
      "in box 75 there are 0 deposits\n",
      "in box 76 there are 0 deposits\n",
      "in box 77 there are 0 deposits\n",
      "in box 78 there are 0 deposits\n",
      "in box 79 there are 0 deposits\n",
      "in box 80 there are 0 deposits\n",
      "in box 81 there are 0 deposits\n",
      "in box 82 there are 0 deposits\n",
      "in box 83 there are 0 deposits\n",
      "in box 84 there are 0 deposits\n",
      "in box 85 there are 0 deposits\n",
      "in box 86 there are 0 deposits\n",
      "in box 87 there are 0 deposits\n",
      "in box 88 there are 0 deposits\n",
      "in box 89 there are 0 deposits\n",
      "in box 90 there are 0 deposits\n",
      "in box 91 there are 0 deposits\n",
      "in box 92 there are 0 deposits\n",
      "in box 93 there are 0 deposits\n",
      "in box 94 there are 0 deposits\n",
      "in box 95 there are 0 deposits\n",
      "in box 96 there are 0 deposits\n",
      "in box 97 there are 0 deposits\n",
      "in box 98 there are 0 deposits\n",
      "in box 99 there are 0 deposits\n",
      "in box 100 there are 0 deposits\n"
     ]
    }
   ],
   "source": [
    "\n",
    "for i, box in enumerate(boxes):\n",
    "    print(f'in box {i+1} there are {clipped.within(box).sum()} deposits')\n",
    "    "
   ]
  },
  {
   "cell_type": "code",
   "execution_count": 74,
   "metadata": {},
   "outputs": [
    {
     "name": "stderr",
     "output_type": "stream",
     "text": [
      "/Users/pedrojunqueira/anaconda3/envs/exploration/lib/python3.7/site-packages/rasterio/__init__.py:225: NotGeoreferencedWarning: Dataset has no geotransform set. The identity matrix may be returned.\n",
      "  **kwargs)\n"
     ]
    }
   ],
   "source": [
    "# reconstruct image aka stich tiles back together only tiles with deposit\n",
    "with rasterio.open(\n",
    "        'example_cliped.tif', \"w+\",\n",
    "        driver='GTiff', width=500, height=500, count=1,\n",
    "        dtype=tiles[1].dtype) as dst:\n",
    "    for i, (tile, window) in enumerate(zip(tiles,windows)):\n",
    "        if i in box_number:\n",
    "            col_off , row_off = window\n",
    "            dst.write(tile, window=Window(col_off, row_off, 50, 50), indexes=1)\n",
    "    d = dst.read(1)\n",
    "\n",
    "    "
   ]
  },
  {
   "cell_type": "code",
   "execution_count": 75,
   "metadata": {},
   "outputs": [
    {
     "data": {
      "image/png": "[encoded data removed]",
      "text/plain": [
       "<Figure size 432x288 with 1 Axes>"
      ]
     },
     "metadata": {
      "needs_background": "light"
     },
     "output_type": "display_data"
    }
   ],
   "source": [
    "plt.imshow(d);"
   ]
  },
  {
   "cell_type": "code",
   "execution_count": 76,
   "metadata": {},
   "outputs": [
    {
     "data": {
      "text/plain": [
       "100"
      ]
     },
     "execution_count": 76,
     "metadata": {},
     "output_type": "execute_result"
    }
   ],
   "source": [
    "len(tiles)"
   ]
  },
  {
   "cell_type": "code",
   "execution_count": 77,
   "metadata": {},
   "outputs": [],
   "source": [
    "# reconstruct image aka stich tiles back together only tiles with deposit\n",
    "with rasterio.open(\n",
    "        'example_not_cliped.tif', \"w+\",\n",
    "        driver='GTiff', width=500, height=500, count=1,\n",
    "        dtype=tiles[1].dtype) as dst:\n",
    "    for i, (tile, window) in enumerate(zip(tiles,windows)):\n",
    "        if i not in box_number:\n",
    "            col_off , row_off = window\n",
    "            dst.write(tile, window=Window(col_off, row_off, 50, 50), indexes=1)\n",
    "    d = dst.read(1)\n"
   ]
  },
  {
   "cell_type": "code",
   "execution_count": 78,
   "metadata": {},
   "outputs": [
    {
     "data": {
      "image/png": "[encoded data removed]",
      "text/plain": [
       "<Figure size 432x288 with 1 Axes>"
      ]
     },
     "metadata": {
      "needs_background": "light"
     },
     "output_type": "display_data"
    }
   ],
   "source": [
    "plt.imshow(d);"
   ]
  },
  {
   "cell_type": "code",
   "execution_count": 79,
   "metadata": {},
   "outputs": [
    {
     "name": "stdout",
     "output_type": "stream",
     "text": [
      "100\n"
     ]
    },
    {
     "data": {
      "text/plain": [
       "{'54334295_1': (0, 'None', 0),\n",
       " '54334295_2': (1, 'None', 0),\n",
       " '54334295_3': (2, 'None', 0),\n",
       " '54334295_4': (3, 'None', 0),\n",
       " '54334295_5': (4, 'None', 0),\n",
       " '54334295_6': (5, 'None', 0),\n",
       " '54334295_7': (6, 'None', 0),\n",
       " '54334295_8': (7, 'None', 0),\n",
       " '54334295_9': (8, 'None', 0),\n",
       " '54334295_10': (9, 'None', 0),\n",
       " '54334295_11': (10, 'None', 0),\n",
       " '54334295_12': (11, 'Au', 1),\n",
       " '54334295_13': (12, 'None', 0),\n",
       " '54334295_14': (13, 'None', 0),\n",
       " '54334295_15': (14, 'None', 0),\n",
       " '54334295_16': (15, 'None', 0),\n",
       " '54334295_17': (16, 'None', 0),\n",
       " '54334295_18': (17, 'None', 0),\n",
       " '54334295_19': (18, 'None', 0),\n",
       " '54334295_20': (19, 'None', 0),\n",
       " '54334295_21': (20, 'None', 0),\n",
       " '54334295_22': (21, 'None', 0),\n",
       " '54334295_23': (22, 'Au', 1),\n",
       " '54334295_24': (23, 'None', 0),\n",
       " '54334295_25': (24, 'None', 0),\n",
       " '54334295_26': (25, 'None', 0),\n",
       " '54334295_27': (26, 'None', 0),\n",
       " '54334295_28': (27, 'None', 0),\n",
       " '54334295_29': (28, 'None', 0),\n",
       " '54334295_30': (29, 'None', 0),\n",
       " '54334295_31': (30, 'None', 0),\n",
       " '54334295_32': (31, 'None', 0),\n",
       " '54334295_33': (32, 'Au', 14),\n",
       " '54334295_34': (33, 'Au', 2),\n",
       " '54334295_35': (34, 'None', 0),\n",
       " '54334295_36': (35, 'None', 0),\n",
       " '54334295_37': (36, 'None', 0),\n",
       " '54334295_38': (37, 'None', 0),\n",
       " '54334295_39': (38, 'None', 0),\n",
       " '54334295_40': (39, 'None', 0),\n",
       " '54334295_41': (40, 'None', 0),\n",
       " '54334295_42': (41, 'None', 0),\n",
       " '54334295_43': (42, 'Au', 5),\n",
       " '54334295_44': (43, 'None', 0),\n",
       " '54334295_45': (44, 'Au', 2),\n",
       " '54334295_46': (45, 'Au', 1),\n",
       " '54334295_47': (46, 'None', 0),\n",
       " '54334295_48': (47, 'None', 0),\n",
       " '54334295_49': (48, 'None', 0),\n",
       " '54334295_50': (49, 'None', 0),\n",
       " '54334295_51': (50, 'None', 0),\n",
       " '54334295_52': (51, 'Au', 1),\n",
       " '54334295_53': (52, 'Au', 3),\n",
       " '54334295_54': (53, 'None', 0),\n",
       " '54334295_55': (54, 'None', 0),\n",
       " '54334295_56': (55, 'None', 0),\n",
       " '54334295_57': (56, 'None', 0),\n",
       " '54334295_58': (57, 'None', 0),\n",
       " '54334295_59': (58, 'None', 0),\n",
       " '54334295_60': (59, 'None', 0),\n",
       " '54334295_61': (60, 'None', 0),\n",
       " '54334295_62': (61, 'Au', 1),\n",
       " '54334295_63': (62, 'Au', 2),\n",
       " '54334295_64': (63, 'Au', 2),\n",
       " '54334295_65': (64, 'None', 0),\n",
       " '54334295_66': (65, 'None', 0),\n",
       " '54334295_67': (66, 'None', 0),\n",
       " '54334295_68': (67, 'None', 0),\n",
       " '54334295_69': (68, 'None', 0),\n",
       " '54334295_70': (69, 'None', 0),\n",
       " '54334295_71': (70, 'Au', 1),\n",
       " '54334295_72': (71, 'None', 0),\n",
       " '54334295_73': (72, 'None', 0),\n",
       " '54334295_74': (73, 'None', 0),\n",
       " '54334295_75': (74, 'None', 0),\n",
       " '54334295_76': (75, 'None', 0),\n",
       " '54334295_77': (76, 'None', 0),\n",
       " '54334295_78': (77, 'None', 0),\n",
       " '54334295_79': (78, 'None', 0),\n",
       " '54334295_80': (79, 'None', 0),\n",
       " '54334295_81': (80, 'None', 0),\n",
       " '54334295_82': (81, 'None', 0),\n",
       " '54334295_83': (82, 'None', 0),\n",
       " '54334295_84': (83, 'None', 0),\n",
       " '54334295_85': (84, 'None', 0),\n",
       " '54334295_86': (85, 'None', 0),\n",
       " '54334295_87': (86, 'None', 0),\n",
       " '54334295_88': (87, 'None', 0),\n",
       " '54334295_89': (88, 'None', 0),\n",
       " '54334295_90': (89, 'None', 0),\n",
       " '54334295_91': (90, 'None', 0),\n",
       " '54334295_92': (91, 'None', 0),\n",
       " '54334295_93': (92, 'None', 0),\n",
       " '54334295_94': (93, 'None', 0),\n",
       " '54334295_95': (94, 'None', 0),\n",
       " '54334295_96': (95, 'None', 0),\n",
       " '54334295_97': (96, 'None', 0),\n",
       " '54334295_98': (97, 'None', 0),\n",
       " '54334295_99': (98, 'None', 0),\n",
       " '54334295_100': (99, 'None', 0)}"
      ]
     },
     "execution_count": 79,
     "metadata": {},
     "output_type": "execute_result"
    }
   ],
   "source": [
    "stamp_id = '54334295'\n",
    "commodity = 'Au'\n",
    "stamp_map = dict()\n",
    "\n",
    "for i, box in enumerate(boxes):\n",
    "    if clipped.within(box).sum() > 0 :\n",
    "        stamp_map[f'{stamp_id}_{i+1}'] = (i, commodity, clipped.within(box).sum())\n",
    "    else:\n",
    "        stamp_map[f'{stamp_id}_{i+1}'] = (i, 'None', clipped.within(box).sum())\n",
    "        \n",
    "print(len(stamp_map))\n",
    "stamp_map"
   ]
  },
  {
   "cell_type": "code",
   "execution_count": 80,
   "metadata": {},
   "outputs": [],
   "source": [
    "box_plot_data = defaultdict(list)\n",
    "\n",
    "for key, value in stamp_map.items():\n",
    "    box_plot_data['tile_id'].append(key)\n",
    "    i, commodity, depos = value\n",
    "    box_plot_data['commodity'].append(commodity)\n",
    "    box_plot_data['n_deposits'].append(depos)\n",
    "    box_plot_data['mean'].append(tiles[i].mean())\n",
    "    \n",
    "    \n",
    "    \n",
    "\n"
   ]
  },
  {
   "cell_type": "code",
   "execution_count": 81,
   "metadata": {},
   "outputs": [],
   "source": [
    "df = pd.DataFrame(box_plot_data)"
   ]
  },
  {
   "cell_type": "code",
   "execution_count": 82,
   "metadata": {},
   "outputs": [
    {
     "data": {
      "text/html": [
       "<div>\n",
       "<style scoped>\n",
       "    .dataframe tbody tr th:only-of-type {\n",
       "        vertical-align: middle;\n",
       "    }\n",
       "\n",
       "    .dataframe tbody tr th {\n",
       "        vertical-align: top;\n",
       "    }\n",
       "\n",
       "    .dataframe thead th {\n",
       "        text-align: right;\n",
       "    }\n",
       "</style>\n",
       "<table border=\"1\" class=\"dataframe\">\n",
       "  <thead>\n",
       "    <tr style=\"text-align: right;\">\n",
       "      <th></th>\n",
       "      <th>tile_id</th>\n",
       "      <th>commodity</th>\n",
       "      <th>n_deposits</th>\n",
       "      <th>mean</th>\n",
       "    </tr>\n",
       "  </thead>\n",
       "  <tbody>\n",
       "    <tr>\n",
       "      <th>0</th>\n",
       "      <td>54334295_1</td>\n",
       "      <td>None</td>\n",
       "      <td>0</td>\n",
       "      <td>-470.595764</td>\n",
       "    </tr>\n",
       "    <tr>\n",
       "      <th>1</th>\n",
       "      <td>54334295_2</td>\n",
       "      <td>None</td>\n",
       "      <td>0</td>\n",
       "      <td>-501.907257</td>\n",
       "    </tr>\n",
       "    <tr>\n",
       "      <th>2</th>\n",
       "      <td>54334295_3</td>\n",
       "      <td>None</td>\n",
       "      <td>0</td>\n",
       "      <td>-580.611206</td>\n",
       "    </tr>\n",
       "    <tr>\n",
       "      <th>3</th>\n",
       "      <td>54334295_4</td>\n",
       "      <td>None</td>\n",
       "      <td>0</td>\n",
       "      <td>-609.089111</td>\n",
       "    </tr>\n",
       "    <tr>\n",
       "      <th>4</th>\n",
       "      <td>54334295_5</td>\n",
       "      <td>None</td>\n",
       "      <td>0</td>\n",
       "      <td>-599.758179</td>\n",
       "    </tr>\n",
       "    <tr>\n",
       "      <th>...</th>\n",
       "      <td>...</td>\n",
       "      <td>...</td>\n",
       "      <td>...</td>\n",
       "      <td>...</td>\n",
       "    </tr>\n",
       "    <tr>\n",
       "      <th>95</th>\n",
       "      <td>54334295_96</td>\n",
       "      <td>None</td>\n",
       "      <td>0</td>\n",
       "      <td>-667.312683</td>\n",
       "    </tr>\n",
       "    <tr>\n",
       "      <th>96</th>\n",
       "      <td>54334295_97</td>\n",
       "      <td>None</td>\n",
       "      <td>0</td>\n",
       "      <td>-616.859619</td>\n",
       "    </tr>\n",
       "    <tr>\n",
       "      <th>97</th>\n",
       "      <td>54334295_98</td>\n",
       "      <td>None</td>\n",
       "      <td>0</td>\n",
       "      <td>-581.369568</td>\n",
       "    </tr>\n",
       "    <tr>\n",
       "      <th>98</th>\n",
       "      <td>54334295_99</td>\n",
       "      <td>None</td>\n",
       "      <td>0</td>\n",
       "      <td>-547.480774</td>\n",
       "    </tr>\n",
       "    <tr>\n",
       "      <th>99</th>\n",
       "      <td>54334295_100</td>\n",
       "      <td>None</td>\n",
       "      <td>0</td>\n",
       "      <td>-533.151489</td>\n",
       "    </tr>\n",
       "  </tbody>\n",
       "</table>\n",
       "<p>100 rows × 4 columns</p>\n",
       "</div>"
      ],
      "text/plain": [
       "         tile_id commodity  n_deposits        mean\n",
       "0     54334295_1      None           0 -470.595764\n",
       "1     54334295_2      None           0 -501.907257\n",
       "2     54334295_3      None           0 -580.611206\n",
       "3     54334295_4      None           0 -609.089111\n",
       "4     54334295_5      None           0 -599.758179\n",
       "..           ...       ...         ...         ...\n",
       "95   54334295_96      None           0 -667.312683\n",
       "96   54334295_97      None           0 -616.859619\n",
       "97   54334295_98      None           0 -581.369568\n",
       "98   54334295_99      None           0 -547.480774\n",
       "99  54334295_100      None           0 -533.151489\n",
       "\n",
       "[100 rows x 4 columns]"
      ]
     },
     "execution_count": 82,
     "metadata": {},
     "output_type": "execute_result"
    }
   ],
   "source": [
    "df"
   ]
  },
  {
   "cell_type": "code",
   "execution_count": 83,
   "metadata": {},
   "outputs": [
    {
     "data": {
      "image/png": "[encoded data removed]",
      "text/plain": [
       "<Figure size 432x288 with 1 Axes>"
      ]
     },
     "metadata": {
      "needs_background": "light"
     },
     "output_type": "display_data"
    }
   ],
   "source": [
    "sns.boxplot(y='mean',x='commodity',data=df);"
   ]
  },
  {
   "cell_type": "code",
   "execution_count": null,
   "metadata": {},
   "outputs": [],
   "source": []
  }
 ],
 "metadata": {
  "kernelspec": {
   "display_name": "Python 3",
   "language": "python",
   "name": "python3"
  },
  "language_info": {
   "codemirror_mode": {
    "name": "ipython",
    "version": 3
   },
   "file_extension": ".py",
   "mimetype": "text/x-python",
   "name": "python",
   "nbconvert_exporter": "python",
   "pygments_lexer": "ipython3",
   "version": "3.7.6"
  }
 },
 "nbformat": 4,
 "nbformat_minor": 4
}
