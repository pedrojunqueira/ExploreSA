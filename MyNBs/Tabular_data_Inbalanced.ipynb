{
 "cells": [
  {
   "cell_type": "code",
   "execution_count": 75,
   "metadata": {},
   "outputs": [],
   "source": [
    "import numpy as np\n",
    "import pandas as pd\n",
    "import os\n",
    "import geopandas as gpd\n",
    "import matplotlib.pyplot as plt\n",
    "from sklearn.model_selection import train_test_split\n",
    "from sklearn.preprocessing import StandardScaler\n",
    "from sklearn.ensemble import RandomForestClassifier\n",
    "from sklearn.metrics import confusion_matrix\n",
    "from sklearn.metrics import classification_report\n",
    "from sklearn import preprocessing\n",
    "from sklearn.preprocessing import LabelEncoder\n",
    "from sklearn.model_selection import cross_val_score\n",
    "from sklearn.model_selection import RepeatedStratifiedKFold\n",
    "from sklearn.svm import LinearSVC\n",
    "from sklearn.discriminant_analysis import LinearDiscriminantAnalysis\n",
    "from sklearn.ensemble import RandomForestClassifier\n",
    "from sklearn.ensemble import ExtraTreesClassifier\n",
    "from sklearn.ensemble import BaggingClassifier\n",
    "from collections import Counter\n",
    "from numpy import mean\n",
    "from numpy import std\n",
    "from imblearn.over_sampling import SMOTE\n",
    "from sklearn.externals import joblib\n",
    "import json"
   ]
  },
  {
   "cell_type": "code",
   "execution_count": 76,
   "metadata": {},
   "outputs": [],
   "source": [
    "path = '/Users/pedrojunqueira/Desktop/explore_australia/MyNBs/tile_features'"
   ]
  },
  {
   "cell_type": "code",
   "execution_count": 77,
   "metadata": {},
   "outputs": [],
   "source": [
    "train_feature_paths = [path for path in os.listdir(path) if 'test' not in path]\n"
   ]
  },
  {
   "cell_type": "code",
   "execution_count": 78,
   "metadata": {},
   "outputs": [],
   "source": [
    "df_template = pd.read_csv('./tile_features/filtered_thorium_ppm.csv')\n",
    "df_template = df_template.set_index('tile_id')\n",
    "df_template = df_template.drop(columns='mean_')\n",
    "df_template\n",
    "\n",
    "for file in train_feature_paths:\n",
    "    if file == 'stamps_label.csv':\n",
    "        continue\n",
    "    else:\n",
    "\n",
    "        df = pd.read_csv(f'./tile_features/{file}')\n",
    "        col_name = file.split('.')[:-1][0]\n",
    "        df.rename(columns={'mean_':col_name},inplace=True)\n",
    "        df = df.set_index('tile_id')\n",
    "        df_template = df_template.join(df)\n",
    "\n",
    "    \n"
   ]
  },
  {
   "cell_type": "code",
   "execution_count": 113,
   "metadata": {},
   "outputs": [
    {
     "data": {
      "text/html": [
       "<div>\n",
       "<style scoped>\n",
       "    .dataframe tbody tr th:only-of-type {\n",
       "        vertical-align: middle;\n",
       "    }\n",
       "\n",
       "    .dataframe tbody tr th {\n",
       "        vertical-align: top;\n",
       "    }\n",
       "\n",
       "    .dataframe thead th {\n",
       "        text-align: right;\n",
       "    }\n",
       "</style>\n",
       "<table border=\"1\" class=\"dataframe\">\n",
       "  <thead>\n",
       "    <tr style=\"text-align: right;\">\n",
       "      <th></th>\n",
       "      <th>filtered_thorium_ppm</th>\n",
       "      <th>aloh_groun_content</th>\n",
       "      <th>thermal_infrared_gypsum_index</th>\n",
       "      <th>mgoh_group_content</th>\n",
       "      <th>variable_reduction_to_pole</th>\n",
       "      <th>filtered_terrestrial_dose</th>\n",
       "      <th>tir_quartz_index</th>\n",
       "      <th>ferrous_iron_index</th>\n",
       "      <th>total_magnetic_intensity</th>\n",
       "      <th>opaque_index</th>\n",
       "      <th>bouger_gravity_anomaly</th>\n",
       "      <th>kaolin_group_index</th>\n",
       "      <th>ferric_oxide_content</th>\n",
       "      <th>filtered_uranium_ppm</th>\n",
       "      <th>filtered_potassium_pct</th>\n",
       "      <th>thermal_infrared_silica_index</th>\n",
       "      <th>ferrous_iron_content</th>\n",
       "      <th>isostatic_residual_gravity_anomaly</th>\n",
       "      <th>aloh_group_composition</th>\n",
       "    </tr>\n",
       "    <tr>\n",
       "      <th>tile_id</th>\n",
       "      <th></th>\n",
       "      <th></th>\n",
       "      <th></th>\n",
       "      <th></th>\n",
       "      <th></th>\n",
       "      <th></th>\n",
       "      <th></th>\n",
       "      <th></th>\n",
       "      <th></th>\n",
       "      <th></th>\n",
       "      <th></th>\n",
       "      <th></th>\n",
       "      <th></th>\n",
       "      <th></th>\n",
       "      <th></th>\n",
       "      <th></th>\n",
       "      <th></th>\n",
       "      <th></th>\n",
       "      <th></th>\n",
       "    </tr>\n",
       "  </thead>\n",
       "  <tbody>\n",
       "    <tr>\n",
       "      <th>82771002_1</th>\n",
       "      <td>8.805973</td>\n",
       "      <td>1.207136</td>\n",
       "      <td>2.002400</td>\n",
       "      <td>1.346882e-03</td>\n",
       "      <td>24.531391</td>\n",
       "      <td>39.618580</td>\n",
       "      <td>0.499420</td>\n",
       "      <td>0.005771</td>\n",
       "      <td>226.028381</td>\n",
       "      <td>0.254697</td>\n",
       "      <td>-490.953339</td>\n",
       "      <td>1.367060e-03</td>\n",
       "      <td>0.665925</td>\n",
       "      <td>1.517591</td>\n",
       "      <td>0.691555</td>\n",
       "      <td>0.983973</td>\n",
       "      <td>4.270475e-04</td>\n",
       "      <td>128.521851</td>\n",
       "      <td>8.643450e-04</td>\n",
       "    </tr>\n",
       "    <tr>\n",
       "      <th>82771002_2</th>\n",
       "      <td>9.500074</td>\n",
       "      <td>1.722189</td>\n",
       "      <td>2.002574</td>\n",
       "      <td>1.304077e-03</td>\n",
       "      <td>178.597244</td>\n",
       "      <td>52.291016</td>\n",
       "      <td>0.499375</td>\n",
       "      <td>0.008890</td>\n",
       "      <td>383.378815</td>\n",
       "      <td>0.139382</td>\n",
       "      <td>-515.577942</td>\n",
       "      <td>1.280869e-03</td>\n",
       "      <td>1.059804</td>\n",
       "      <td>1.851557</td>\n",
       "      <td>1.383258</td>\n",
       "      <td>0.979297</td>\n",
       "      <td>8.063276e-04</td>\n",
       "      <td>98.456902</td>\n",
       "      <td>5.788009e-17</td>\n",
       "    </tr>\n",
       "    <tr>\n",
       "      <th>82771002_3</th>\n",
       "      <td>8.564956</td>\n",
       "      <td>1.776963</td>\n",
       "      <td>2.003246</td>\n",
       "      <td>2.266835e-03</td>\n",
       "      <td>24.163748</td>\n",
       "      <td>49.513794</td>\n",
       "      <td>0.499204</td>\n",
       "      <td>0.004488</td>\n",
       "      <td>206.624451</td>\n",
       "      <td>0.065563</td>\n",
       "      <td>-557.685486</td>\n",
       "      <td>2.070052e-03</td>\n",
       "      <td>1.180172</td>\n",
       "      <td>1.830847</td>\n",
       "      <td>1.358215</td>\n",
       "      <td>0.978186</td>\n",
       "      <td>1.333789e-03</td>\n",
       "      <td>53.019714</td>\n",
       "      <td>4.367347e-04</td>\n",
       "    </tr>\n",
       "    <tr>\n",
       "      <th>82771002_4</th>\n",
       "      <td>9.368314</td>\n",
       "      <td>1.794851</td>\n",
       "      <td>1.996829</td>\n",
       "      <td>3.358016e-03</td>\n",
       "      <td>-60.085445</td>\n",
       "      <td>46.980427</td>\n",
       "      <td>0.499206</td>\n",
       "      <td>0.022453</td>\n",
       "      <td>93.918381</td>\n",
       "      <td>0.066347</td>\n",
       "      <td>-588.684082</td>\n",
       "      <td>3.144597e-03</td>\n",
       "      <td>1.179249</td>\n",
       "      <td>1.714181</td>\n",
       "      <td>1.061926</td>\n",
       "      <td>0.986710</td>\n",
       "      <td>8.919314e-04</td>\n",
       "      <td>21.473490</td>\n",
       "      <td>2.998317e-03</td>\n",
       "    </tr>\n",
       "    <tr>\n",
       "      <th>82771002_5</th>\n",
       "      <td>9.275356</td>\n",
       "      <td>1.562870</td>\n",
       "      <td>1.998725</td>\n",
       "      <td>1.301057e-14</td>\n",
       "      <td>-56.750549</td>\n",
       "      <td>46.783932</td>\n",
       "      <td>0.500335</td>\n",
       "      <td>0.007538</td>\n",
       "      <td>98.735710</td>\n",
       "      <td>0.179266</td>\n",
       "      <td>-586.073303</td>\n",
       "      <td>1.171623e-14</td>\n",
       "      <td>0.900817</td>\n",
       "      <td>1.741891</td>\n",
       "      <td>1.052604</td>\n",
       "      <td>0.992173</td>\n",
       "      <td>8.252288e-15</td>\n",
       "      <td>21.336618</td>\n",
       "      <td>8.013311e-04</td>\n",
       "    </tr>\n",
       "    <tr>\n",
       "      <th>...</th>\n",
       "      <td>...</td>\n",
       "      <td>...</td>\n",
       "      <td>...</td>\n",
       "      <td>...</td>\n",
       "      <td>...</td>\n",
       "      <td>...</td>\n",
       "      <td>...</td>\n",
       "      <td>...</td>\n",
       "      <td>...</td>\n",
       "      <td>...</td>\n",
       "      <td>...</td>\n",
       "      <td>...</td>\n",
       "      <td>...</td>\n",
       "      <td>...</td>\n",
       "      <td>...</td>\n",
       "      <td>...</td>\n",
       "      <td>...</td>\n",
       "      <td>...</td>\n",
       "      <td>...</td>\n",
       "    </tr>\n",
       "    <tr>\n",
       "      <th>44310191_96</th>\n",
       "      <td>8.667921</td>\n",
       "      <td>1.978963</td>\n",
       "      <td>1.979787</td>\n",
       "      <td>1.957909e-01</td>\n",
       "      <td>-127.956902</td>\n",
       "      <td>45.510365</td>\n",
       "      <td>0.505117</td>\n",
       "      <td>0.846437</td>\n",
       "      <td>114.081711</td>\n",
       "      <td>0.015084</td>\n",
       "      <td>-30.500875</td>\n",
       "      <td>1.837412e-01</td>\n",
       "      <td>1.389902</td>\n",
       "      <td>0.901214</td>\n",
       "      <td>1.435860</td>\n",
       "      <td>1.094604</td>\n",
       "      <td>2.559036e-02</td>\n",
       "      <td>499.661011</td>\n",
       "      <td>6.976674e-01</td>\n",
       "    </tr>\n",
       "    <tr>\n",
       "      <th>44310191_97</th>\n",
       "      <td>8.626774</td>\n",
       "      <td>2.025151</td>\n",
       "      <td>1.972213</td>\n",
       "      <td>1.092326e-01</td>\n",
       "      <td>-124.325623</td>\n",
       "      <td>45.366833</td>\n",
       "      <td>0.507058</td>\n",
       "      <td>0.858045</td>\n",
       "      <td>133.140076</td>\n",
       "      <td>0.000000</td>\n",
       "      <td>4.472719</td>\n",
       "      <td>1.037338e-01</td>\n",
       "      <td>1.366053</td>\n",
       "      <td>0.866658</td>\n",
       "      <td>1.447727</td>\n",
       "      <td>1.120325</td>\n",
       "      <td>3.276177e-04</td>\n",
       "      <td>534.880920</td>\n",
       "      <td>9.815037e-01</td>\n",
       "    </tr>\n",
       "    <tr>\n",
       "      <th>44310191_98</th>\n",
       "      <td>8.897718</td>\n",
       "      <td>1.988651</td>\n",
       "      <td>1.977096</td>\n",
       "      <td>1.221370e-01</td>\n",
       "      <td>-117.358086</td>\n",
       "      <td>47.030758</td>\n",
       "      <td>0.505808</td>\n",
       "      <td>0.831115</td>\n",
       "      <td>153.860657</td>\n",
       "      <td>0.029454</td>\n",
       "      <td>42.715897</td>\n",
       "      <td>1.151988e-01</td>\n",
       "      <td>1.429045</td>\n",
       "      <td>0.970187</td>\n",
       "      <td>1.478364</td>\n",
       "      <td>1.091279</td>\n",
       "      <td>1.844336e-02</td>\n",
       "      <td>572.944458</td>\n",
       "      <td>6.920288e-01</td>\n",
       "    </tr>\n",
       "    <tr>\n",
       "      <th>44310191_99</th>\n",
       "      <td>9.062735</td>\n",
       "      <td>1.992354</td>\n",
       "      <td>1.977485</td>\n",
       "      <td>1.376304e-01</td>\n",
       "      <td>-103.946869</td>\n",
       "      <td>47.505619</td>\n",
       "      <td>0.505709</td>\n",
       "      <td>0.832621</td>\n",
       "      <td>174.796982</td>\n",
       "      <td>0.037675</td>\n",
       "      <td>76.542480</td>\n",
       "      <td>1.289211e-01</td>\n",
       "      <td>1.430352</td>\n",
       "      <td>0.914170</td>\n",
       "      <td>1.507513</td>\n",
       "      <td>1.095984</td>\n",
       "      <td>2.834954e-02</td>\n",
       "      <td>607.993225</td>\n",
       "      <td>7.536783e-01</td>\n",
       "    </tr>\n",
       "    <tr>\n",
       "      <th>44310191_100</th>\n",
       "      <td>8.881855</td>\n",
       "      <td>2.005254</td>\n",
       "      <td>1.972720</td>\n",
       "      <td>1.712735e-01</td>\n",
       "      <td>-76.144615</td>\n",
       "      <td>46.885277</td>\n",
       "      <td>0.506930</td>\n",
       "      <td>0.847029</td>\n",
       "      <td>194.114929</td>\n",
       "      <td>0.004772</td>\n",
       "      <td>107.701477</td>\n",
       "      <td>1.653674e-01</td>\n",
       "      <td>1.386318</td>\n",
       "      <td>0.898320</td>\n",
       "      <td>1.501450</td>\n",
       "      <td>1.134072</td>\n",
       "      <td>6.845515e-04</td>\n",
       "      <td>639.055664</td>\n",
       "      <td>8.675140e-01</td>\n",
       "    </tr>\n",
       "  </tbody>\n",
       "</table>\n",
       "<p>186300 rows × 19 columns</p>\n",
       "</div>"
      ],
      "text/plain": [
       "              filtered_thorium_ppm  aloh_groun_content  \\\n",
       "tile_id                                                  \n",
       "82771002_1                8.805973            1.207136   \n",
       "82771002_2                9.500074            1.722189   \n",
       "82771002_3                8.564956            1.776963   \n",
       "82771002_4                9.368314            1.794851   \n",
       "82771002_5                9.275356            1.562870   \n",
       "...                            ...                 ...   \n",
       "44310191_96               8.667921            1.978963   \n",
       "44310191_97               8.626774            2.025151   \n",
       "44310191_98               8.897718            1.988651   \n",
       "44310191_99               9.062735            1.992354   \n",
       "44310191_100              8.881855            2.005254   \n",
       "\n",
       "              thermal_infrared_gypsum_index  mgoh_group_content  \\\n",
       "tile_id                                                           \n",
       "82771002_1                         2.002400        1.346882e-03   \n",
       "82771002_2                         2.002574        1.304077e-03   \n",
       "82771002_3                         2.003246        2.266835e-03   \n",
       "82771002_4                         1.996829        3.358016e-03   \n",
       "82771002_5                         1.998725        1.301057e-14   \n",
       "...                                     ...                 ...   \n",
       "44310191_96                        1.979787        1.957909e-01   \n",
       "44310191_97                        1.972213        1.092326e-01   \n",
       "44310191_98                        1.977096        1.221370e-01   \n",
       "44310191_99                        1.977485        1.376304e-01   \n",
       "44310191_100                       1.972720        1.712735e-01   \n",
       "\n",
       "              variable_reduction_to_pole  filtered_terrestrial_dose  \\\n",
       "tile_id                                                               \n",
       "82771002_1                     24.531391                  39.618580   \n",
       "82771002_2                    178.597244                  52.291016   \n",
       "82771002_3                     24.163748                  49.513794   \n",
       "82771002_4                    -60.085445                  46.980427   \n",
       "82771002_5                    -56.750549                  46.783932   \n",
       "...                                  ...                        ...   \n",
       "44310191_96                  -127.956902                  45.510365   \n",
       "44310191_97                  -124.325623                  45.366833   \n",
       "44310191_98                  -117.358086                  47.030758   \n",
       "44310191_99                  -103.946869                  47.505619   \n",
       "44310191_100                  -76.144615                  46.885277   \n",
       "\n",
       "              tir_quartz_index  ferrous_iron_index  total_magnetic_intensity  \\\n",
       "tile_id                                                                        \n",
       "82771002_1            0.499420            0.005771                226.028381   \n",
       "82771002_2            0.499375            0.008890                383.378815   \n",
       "82771002_3            0.499204            0.004488                206.624451   \n",
       "82771002_4            0.499206            0.022453                 93.918381   \n",
       "82771002_5            0.500335            0.007538                 98.735710   \n",
       "...                        ...                 ...                       ...   \n",
       "44310191_96           0.505117            0.846437                114.081711   \n",
       "44310191_97           0.507058            0.858045                133.140076   \n",
       "44310191_98           0.505808            0.831115                153.860657   \n",
       "44310191_99           0.505709            0.832621                174.796982   \n",
       "44310191_100          0.506930            0.847029                194.114929   \n",
       "\n",
       "              opaque_index  bouger_gravity_anomaly  kaolin_group_index  \\\n",
       "tile_id                                                                  \n",
       "82771002_1        0.254697             -490.953339        1.367060e-03   \n",
       "82771002_2        0.139382             -515.577942        1.280869e-03   \n",
       "82771002_3        0.065563             -557.685486        2.070052e-03   \n",
       "82771002_4        0.066347             -588.684082        3.144597e-03   \n",
       "82771002_5        0.179266             -586.073303        1.171623e-14   \n",
       "...                    ...                     ...                 ...   \n",
       "44310191_96       0.015084              -30.500875        1.837412e-01   \n",
       "44310191_97       0.000000                4.472719        1.037338e-01   \n",
       "44310191_98       0.029454               42.715897        1.151988e-01   \n",
       "44310191_99       0.037675               76.542480        1.289211e-01   \n",
       "44310191_100      0.004772              107.701477        1.653674e-01   \n",
       "\n",
       "              ferric_oxide_content  filtered_uranium_ppm  \\\n",
       "tile_id                                                    \n",
       "82771002_1                0.665925              1.517591   \n",
       "82771002_2                1.059804              1.851557   \n",
       "82771002_3                1.180172              1.830847   \n",
       "82771002_4                1.179249              1.714181   \n",
       "82771002_5                0.900817              1.741891   \n",
       "...                            ...                   ...   \n",
       "44310191_96               1.389902              0.901214   \n",
       "44310191_97               1.366053              0.866658   \n",
       "44310191_98               1.429045              0.970187   \n",
       "44310191_99               1.430352              0.914170   \n",
       "44310191_100              1.386318              0.898320   \n",
       "\n",
       "              filtered_potassium_pct  thermal_infrared_silica_index  \\\n",
       "tile_id                                                               \n",
       "82771002_1                  0.691555                       0.983973   \n",
       "82771002_2                  1.383258                       0.979297   \n",
       "82771002_3                  1.358215                       0.978186   \n",
       "82771002_4                  1.061926                       0.986710   \n",
       "82771002_5                  1.052604                       0.992173   \n",
       "...                              ...                            ...   \n",
       "44310191_96                 1.435860                       1.094604   \n",
       "44310191_97                 1.447727                       1.120325   \n",
       "44310191_98                 1.478364                       1.091279   \n",
       "44310191_99                 1.507513                       1.095984   \n",
       "44310191_100                1.501450                       1.134072   \n",
       "\n",
       "              ferrous_iron_content  isostatic_residual_gravity_anomaly  \\\n",
       "tile_id                                                                  \n",
       "82771002_1            4.270475e-04                          128.521851   \n",
       "82771002_2            8.063276e-04                           98.456902   \n",
       "82771002_3            1.333789e-03                           53.019714   \n",
       "82771002_4            8.919314e-04                           21.473490   \n",
       "82771002_5            8.252288e-15                           21.336618   \n",
       "...                            ...                                 ...   \n",
       "44310191_96           2.559036e-02                          499.661011   \n",
       "44310191_97           3.276177e-04                          534.880920   \n",
       "44310191_98           1.844336e-02                          572.944458   \n",
       "44310191_99           2.834954e-02                          607.993225   \n",
       "44310191_100          6.845515e-04                          639.055664   \n",
       "\n",
       "              aloh_group_composition  \n",
       "tile_id                               \n",
       "82771002_1              8.643450e-04  \n",
       "82771002_2              5.788009e-17  \n",
       "82771002_3              4.367347e-04  \n",
       "82771002_4              2.998317e-03  \n",
       "82771002_5              8.013311e-04  \n",
       "...                              ...  \n",
       "44310191_96             6.976674e-01  \n",
       "44310191_97             9.815037e-01  \n",
       "44310191_98             6.920288e-01  \n",
       "44310191_99             7.536783e-01  \n",
       "44310191_100            8.675140e-01  \n",
       "\n",
       "[186300 rows x 19 columns]"
      ]
     },
     "execution_count": 113,
     "metadata": {},
     "output_type": "execute_result"
    }
   ],
   "source": [
    "df_template"
   ]
  },
  {
   "cell_type": "code",
   "execution_count": 80,
   "metadata": {},
   "outputs": [],
   "source": [
    "train_set = pd.read_csv('./tile_features/stamps_label.csv')\n",
    "train_set = train_set.set_index('stamp_id')\n",
    "train_set.rename(columns={'Unnamed: 0':'instance'},inplace=True)\n",
    "train_set.loc[:,'stamp'] = [i.split('_')[0] for i in train_set.index]"
   ]
  },
  {
   "cell_type": "code",
   "execution_count": 81,
   "metadata": {},
   "outputs": [],
   "source": [
    "train_set = train_set.join(df_template)"
   ]
  },
  {
   "cell_type": "code",
   "execution_count": 82,
   "metadata": {},
   "outputs": [],
   "source": [
    "#train_set"
   ]
  },
  {
   "cell_type": "code",
   "execution_count": 83,
   "metadata": {},
   "outputs": [],
   "source": [
    "stamps_data = '../data/stamp_locations.geo.json'\n",
    "stamps = gpd.read_file(stamps_data)"
   ]
  },
  {
   "cell_type": "code",
   "execution_count": 84,
   "metadata": {},
   "outputs": [],
   "source": [
    "# adding age to the feature\n",
    "stamp_feature = stamps.loc[:,['id','age']]\n",
    "stamp_feature.loc[:,'age'] = stamp_feature['age'].str.replace('Archean','Archaean')"
   ]
  },
  {
   "cell_type": "code",
   "execution_count": 85,
   "metadata": {},
   "outputs": [],
   "source": [
    "train_set = pd.merge(left=train_set,right=stamp_feature,left_on='stamp',right_on='id',how='left')"
   ]
  },
  {
   "cell_type": "code",
   "execution_count": 86,
   "metadata": {},
   "outputs": [],
   "source": [
    "train_set = train_set.drop(columns=['instance','comm','deps','id','stamp'])"
   ]
  },
  {
   "cell_type": "code",
   "execution_count": 87,
   "metadata": {},
   "outputs": [],
   "source": [
    "\n",
    "# create dummy column for age and adding to dataset\n",
    "train_set = train_set.join(pd.get_dummies(train_set[\"age\"]))"
   ]
  },
  {
   "cell_type": "code",
   "execution_count": 88,
   "metadata": {},
   "outputs": [],
   "source": [
    "dataset = train_set.copy()"
   ]
  },
  {
   "cell_type": "code",
   "execution_count": 89,
   "metadata": {},
   "outputs": [],
   "source": [
    "# dropping age column\n",
    "dataset.drop(columns=['age'], inplace=True)"
   ]
  },
  {
   "cell_type": "code",
   "execution_count": 90,
   "metadata": {},
   "outputs": [],
   "source": [
    "dataset.rename(columns={'strat':'label'},inplace=True)"
   ]
  },
  {
   "cell_type": "code",
   "execution_count": 91,
   "metadata": {},
   "outputs": [],
   "source": [
    "# drop inf rows\n",
    "dataset = dataset[dataset['filtered_uranium_ppm']!=np.inf]\n",
    "# drop nan\n",
    "dataset = dataset.dropna()"
   ]
  },
  {
   "cell_type": "code",
   "execution_count": 92,
   "metadata": {},
   "outputs": [],
   "source": [
    "#dataset"
   ]
  },
  {
   "cell_type": "code",
   "execution_count": 93,
   "metadata": {},
   "outputs": [],
   "source": [
    "# # # factorizing labels \n",
    "# factor = pd.factorize(dataset['label'])\n",
    "# dataset.loc[:,'label'] = factor[0]\n",
    "# definitions = factor[1]\n",
    "# print(dataset['label'].head())\n",
    "# print(definitions)"
   ]
  },
  {
   "cell_type": "code",
   "execution_count": 94,
   "metadata": {},
   "outputs": [
    {
     "data": {
      "text/plain": [
       "none     181685\n",
       "Au         1297\n",
       "Cu          990\n",
       "other       316\n",
       "Fe          277\n",
       "PGE         206\n",
       "Pb           29\n",
       "Name: label, dtype: int64"
      ]
     },
     "execution_count": 94,
     "metadata": {},
     "output_type": "execute_result"
    }
   ],
   "source": [
    "dataset['label'].value_counts()"
   ]
  },
  {
   "cell_type": "code",
   "execution_count": 95,
   "metadata": {},
   "outputs": [
    {
     "name": "stdout",
     "output_type": "stream",
     "text": [
      "(184800, 59)\n",
      "(184800,)\n"
     ]
    }
   ],
   "source": [
    "# creating X matrix and y target vector\n",
    "X = dataset.iloc[:,1:].values\n",
    "y = dataset.iloc[:,0].values\n",
    "\n",
    "print(X.shape)\n",
    "print(y.shape)\n"
   ]
  },
  {
   "cell_type": "code",
   "execution_count": 96,
   "metadata": {},
   "outputs": [],
   "source": [
    "le = LabelEncoder()\n",
    "y = le.fit_transform(y)"
   ]
  },
  {
   "cell_type": "code",
   "execution_count": 97,
   "metadata": {},
   "outputs": [
    {
     "data": {
      "text/plain": [
       "array(['Au', 'Cu', 'Fe', 'PGE', 'Pb', 'none', 'other'], dtype=object)"
      ]
     },
     "execution_count": 97,
     "metadata": {},
     "output_type": "execute_result"
    }
   ],
   "source": [
    "le.classes_"
   ]
  },
  {
   "cell_type": "code",
   "execution_count": 23,
   "metadata": {},
   "outputs": [],
   "source": [
    "min_max_scaler = preprocessing.MinMaxScaler()\n",
    "X_scaled = min_max_scaler.fit_transform(X)"
   ]
  },
  {
   "cell_type": "code",
   "execution_count": 24,
   "metadata": {},
   "outputs": [
    {
     "name": "stdout",
     "output_type": "stream",
     "text": [
      "0.0\n",
      "1.0000000000000002\n"
     ]
    }
   ],
   "source": [
    "print(X_scaled.min())\n",
    "print(X_scaled.max())"
   ]
  },
  {
   "cell_type": "code",
   "execution_count": 30,
   "metadata": {},
   "outputs": [],
   "source": [
    "# split train test\n",
    "trainX, testX, trainY, testY = train_test_split(X_scaled, y,\n",
    "                                                  test_size=0.25, random_state=42)"
   ]
  },
  {
   "cell_type": "code",
   "execution_count": 32,
   "metadata": {},
   "outputs": [
    {
     "name": "stdout",
     "output_type": "stream",
     "text": [
      "Mean accuracy: 0.983\n"
     ]
    }
   ],
   "source": [
    "model = RandomForestClassifier()\n",
    "# evaluate pipeline\n",
    "#cv = RepeatedStratifiedKFold(n_splits=10, n_repeats=3, random_state=1)\n",
    "scores = cross_val_score(model, trainX, trainY, scoring='accuracy', cv=3, n_jobs=-1)\n",
    "print('Mean accuracy: %.3f' % mean(scores))"
   ]
  },
  {
   "cell_type": "code",
   "execution_count": 33,
   "metadata": {},
   "outputs": [],
   "source": [
    "# fit\n",
    "model.fit(trainX, trainY)\n",
    "\n",
    "# # Predicting the Test set results\n",
    "predY = model.predict(testX)"
   ]
  },
  {
   "cell_type": "code",
   "execution_count": 36,
   "metadata": {},
   "outputs": [
    {
     "name": "stdout",
     "output_type": "stream",
     "text": [
      "Predicted Classes  Au  Cu   none\n",
      "Actual Classes                  \n",
      "Au                  2   0    327\n",
      "Cu                  1   2    265\n",
      "Fe                  0   0     53\n",
      "PGE                 0   0     59\n",
      "Pb                  0   0      8\n",
      "none                0   1  45399\n",
      "other               0   0     83\n"
     ]
    }
   ],
   "source": [
    "testY = le.inverse_transform(testY)\n",
    "predY = le.inverse_transform(predY)\n",
    "# Making the Confusion Matrix\n",
    "print(pd.crosstab(testY, predY, rownames=['Actual Classes'], colnames=['Predicted Classes']))"
   ]
  },
  {
   "cell_type": "code",
   "execution_count": 37,
   "metadata": {},
   "outputs": [
    {
     "name": "stderr",
     "output_type": "stream",
     "text": [
      "/Users/pedrojunqueira/anaconda3/envs/exploration/lib/python3.7/site-packages/sklearn/metrics/_classification.py:1272: UndefinedMetricWarning: Precision and F-score are ill-defined and being set to 0.0 in labels with no predicted samples. Use `zero_division` parameter to control this behavior.\n",
      "  _warn_prf(average, modifier, msg_start, len(result))\n"
     ]
    },
    {
     "name": "stdout",
     "output_type": "stream",
     "text": [
      "              precision    recall  f1-score   support\n",
      "\n",
      "          Au       0.67      0.01      0.01       329\n",
      "          Cu       0.67      0.01      0.01       268\n",
      "          Fe       0.00      0.00      0.00        53\n",
      "         PGE       0.00      0.00      0.00        59\n",
      "          Pb       0.00      0.00      0.00         8\n",
      "        none       0.98      1.00      0.99     45400\n",
      "       other       0.00      0.00      0.00        83\n",
      "\n",
      "    accuracy                           0.98     46200\n",
      "   macro avg       0.33      0.14      0.15     46200\n",
      "weighted avg       0.97      0.98      0.97     46200\n",
      "\n"
     ]
    }
   ],
   "source": [
    "# # class report\n",
    "\n",
    "print(classification_report(testY,predY,le.classes_))"
   ]
  },
  {
   "cell_type": "markdown",
   "metadata": {},
   "source": [
    "# Using Smote to oversample"
   ]
  },
  {
   "cell_type": "code",
   "execution_count": 40,
   "metadata": {},
   "outputs": [],
   "source": [
    "# oversampling using SMOTE method\n",
    "oversample = SMOTE()\n",
    "X, y = oversample.fit_resample(X, y)"
   ]
  },
  {
   "cell_type": "code",
   "execution_count": 47,
   "metadata": {},
   "outputs": [
    {
     "data": {
      "text/plain": [
       "Counter({'none': 181685,\n",
       "         'Cu': 181685,\n",
       "         'other': 181685,\n",
       "         'Au': 181685,\n",
       "         'PGE': 181685,\n",
       "         'Fe': 181685,\n",
       "         'Pb': 181685})"
      ]
     },
     "execution_count": 47,
     "metadata": {},
     "output_type": "execute_result"
    }
   ],
   "source": [
    "# Check if all classes are now with same sample\n",
    "Counter(le.inverse_transform(y))"
   ]
  },
  {
   "cell_type": "code",
   "execution_count": 48,
   "metadata": {},
   "outputs": [],
   "source": [
    "min_max_scaler = preprocessing.MinMaxScaler()\n",
    "X_scaled = min_max_scaler.fit_transform(X)"
   ]
  },
  {
   "cell_type": "code",
   "execution_count": 25,
   "metadata": {},
   "outputs": [],
   "source": [
    "# split train test\n",
    "trainX, testX, trainY, testY = train_test_split(X_scaled, y,\n",
    "                                                  test_size=0.25, random_state=42)"
   ]
  },
  {
   "cell_type": "code",
   "execution_count": 57,
   "metadata": {},
   "outputs": [
    {
     "name": "stdout",
     "output_type": "stream",
     "text": [
      "Mean accuracy: 0.994\n"
     ]
    }
   ],
   "source": [
    "model = RandomForestClassifier()\n",
    "# evaluate pipeline\n",
    "#cv = RepeatedStratifiedKFold(n_splits=10, n_repeats=3, random_state=1)\n",
    "scores = cross_val_score(model, trainX, trainY, scoring='accuracy', cv=3, n_jobs=-1)\n",
    "print('Mean accuracy: %.3f' % mean(scores))"
   ]
  },
  {
   "cell_type": "code",
   "execution_count": 58,
   "metadata": {},
   "outputs": [],
   "source": [
    "# fit\n",
    "model.fit(trainX, trainY)\n",
    "\n",
    "# # Predicting the Test set results\n",
    "predY = model.predict(testX)"
   ]
  },
  {
   "cell_type": "code",
   "execution_count": 59,
   "metadata": {},
   "outputs": [
    {
     "name": "stdout",
     "output_type": "stream",
     "text": [
      "Predicted Classes     Au     Cu     Fe    PGE     Pb   none  other\n",
      "Actual Classes                                                    \n",
      "Au                 45224      3      3      1      0     62      0\n",
      "Cu                    22  45457      0      0      0     37      0\n",
      "Fe                     0      0  45527      0      0      2      0\n",
      "PGE                    0      0      0  45158      0      5      0\n",
      "Pb                     0      0      0      0  45588      1      0\n",
      "none                 522    305    108     32      5  44249     90\n",
      "other                  0      0      0      0      0      8  45540\n"
     ]
    }
   ],
   "source": [
    "testY = le.inverse_transform(testY)\n",
    "predY = le.inverse_transform(predY)\n",
    "# Making the Confusion Matrix\n",
    "print(pd.crosstab(testY, predY, rownames=['Actual Classes'], colnames=['Predicted Classes']))"
   ]
  },
  {
   "cell_type": "code",
   "execution_count": 60,
   "metadata": {},
   "outputs": [
    {
     "name": "stdout",
     "output_type": "stream",
     "text": [
      "              precision    recall  f1-score   support\n",
      "\n",
      "          Au       0.99      1.00      0.99     45293\n",
      "          Cu       0.99      1.00      1.00     45516\n",
      "          Fe       1.00      1.00      1.00     45529\n",
      "         PGE       1.00      1.00      1.00     45163\n",
      "          Pb       1.00      1.00      1.00     45589\n",
      "        none       1.00      0.98      0.99     45311\n",
      "       other       1.00      1.00      1.00     45548\n",
      "\n",
      "    accuracy                           1.00    317949\n",
      "   macro avg       1.00      1.00      1.00    317949\n",
      "weighted avg       1.00      1.00      1.00    317949\n",
      "\n"
     ]
    }
   ],
   "source": [
    "# # class report\n",
    "\n",
    "print(classification_report(testY,predY,le.classes_))"
   ]
  },
  {
   "cell_type": "markdown",
   "metadata": {},
   "source": [
    "# Oversampling only Validation Train set and predicting on an inbalanced test set"
   ]
  },
  {
   "cell_type": "code",
   "execution_count": 61,
   "metadata": {},
   "outputs": [
    {
     "name": "stdout",
     "output_type": "stream",
     "text": [
      "(184800, 59)\n",
      "(184800,)\n"
     ]
    }
   ],
   "source": [
    "# creating X matrix and y target vector\n",
    "X = dataset.iloc[:,1:].values\n",
    "y = dataset.iloc[:,0].values\n",
    "\n",
    "print(X.shape)\n",
    "print(y.shape)"
   ]
  },
  {
   "cell_type": "code",
   "execution_count": 62,
   "metadata": {},
   "outputs": [],
   "source": [
    "min_max_scaler = preprocessing.MinMaxScaler()\n",
    "X_scaled = min_max_scaler.fit_transform(X)"
   ]
  },
  {
   "cell_type": "code",
   "execution_count": 63,
   "metadata": {},
   "outputs": [],
   "source": [
    "le = LabelEncoder()\n",
    "y = le.fit_transform(y)"
   ]
  },
  {
   "cell_type": "code",
   "execution_count": 67,
   "metadata": {},
   "outputs": [],
   "source": [
    "# split train test\n",
    "trainX, testX, trainY, testY = train_test_split(X_scaled, y,\n",
    "                                                  test_size=0.25, random_state=42)"
   ]
  },
  {
   "cell_type": "code",
   "execution_count": 68,
   "metadata": {},
   "outputs": [
    {
     "name": "stdout",
     "output_type": "stream",
     "text": [
      "(138600, 59)\n"
     ]
    },
    {
     "data": {
      "text/plain": [
       "Counter({'none': 136285,\n",
       "         'Au': 136285,\n",
       "         'Cu': 136285,\n",
       "         'Fe': 136285,\n",
       "         'other': 136285,\n",
       "         'PGE': 136285,\n",
       "         'Pb': 136285})"
      ]
     },
     "execution_count": 68,
     "metadata": {},
     "output_type": "execute_result"
    }
   ],
   "source": [
    "# oversample only train set\n",
    "\n",
    "print(trainX.shape)\n",
    "\n",
    "# oversampling using SMOTE method\n",
    "oversample = SMOTE()\n",
    "trainX, trainY = oversample.fit_resample(trainX, trainY)\n",
    "\n",
    "# Check if all classes are now with same sample\n",
    "Counter(le.inverse_transform(trainY))"
   ]
  },
  {
   "cell_type": "code",
   "execution_count": 69,
   "metadata": {},
   "outputs": [
    {
     "data": {
      "text/plain": [
       "Counter({'none': 45400,\n",
       "         'Cu': 268,\n",
       "         'Au': 329,\n",
       "         'other': 83,\n",
       "         'PGE': 59,\n",
       "         'Pb': 8,\n",
       "         'Fe': 53})"
      ]
     },
     "execution_count": 69,
     "metadata": {},
     "output_type": "execute_result"
    }
   ],
   "source": [
    "# validation test still inbalanced\n",
    "\n",
    "Counter(le.inverse_transform(testY))"
   ]
  },
  {
   "cell_type": "code",
   "execution_count": 70,
   "metadata": {},
   "outputs": [
    {
     "name": "stdout",
     "output_type": "stream",
     "text": [
      "Mean accuracy: 0.997\n"
     ]
    }
   ],
   "source": [
    "model = RandomForestClassifier()\n",
    "# evaluate pipeline\n",
    "#cv = RepeatedStratifiedKFold(n_splits=10, n_repeats=3, random_state=1)\n",
    "scores = cross_val_score(model, trainX, trainY, scoring='accuracy', cv=3, n_jobs=-1)\n",
    "print('Mean accuracy: %.3f' % mean(scores))"
   ]
  },
  {
   "cell_type": "code",
   "execution_count": 71,
   "metadata": {},
   "outputs": [],
   "source": [
    "# fit\n",
    "model.fit(trainX, trainY)\n",
    "\n",
    "# # Predicting the Test set results\n",
    "predY = model.predict(testX)"
   ]
  },
  {
   "cell_type": "code",
   "execution_count": 72,
   "metadata": {},
   "outputs": [
    {
     "name": "stdout",
     "output_type": "stream",
     "text": [
      "Predicted Classes   Au   Cu  Fe  PGE  Pb   none  other\n",
      "Actual Classes                                        \n",
      "Au                  82    4   1    1   0    241      0\n",
      "Cu                   5   44   0    2   0    216      1\n",
      "Fe                   1    0   7    0   0     45      0\n",
      "PGE                  1    2   0    9   0     47      0\n",
      "Pb                   0    0   0    0   0      8      0\n",
      "none               278  172  95   16   7  44772     60\n",
      "other                0    2   0    0   0     75      6\n"
     ]
    }
   ],
   "source": [
    "testY = le.inverse_transform(testY)\n",
    "predY = le.inverse_transform(predY)\n",
    "# Making the Confusion Matrix\n",
    "print(pd.crosstab(testY, predY, rownames=['Actual Classes'], colnames=['Predicted Classes']))"
   ]
  },
  {
   "cell_type": "code",
   "execution_count": 73,
   "metadata": {},
   "outputs": [
    {
     "name": "stdout",
     "output_type": "stream",
     "text": [
      "              precision    recall  f1-score   support\n",
      "\n",
      "          Au       0.22      0.25      0.24       329\n",
      "          Cu       0.20      0.16      0.18       268\n",
      "          Fe       0.07      0.13      0.09        53\n",
      "         PGE       0.32      0.15      0.21        59\n",
      "          Pb       0.00      0.00      0.00         8\n",
      "        none       0.99      0.99      0.99     45400\n",
      "       other       0.09      0.07      0.08        83\n",
      "\n",
      "    accuracy                           0.97     46200\n",
      "   macro avg       0.27      0.25      0.25     46200\n",
      "weighted avg       0.97      0.97      0.97     46200\n",
      "\n"
     ]
    }
   ],
   "source": [
    "# # class report\n",
    "\n",
    "print(classification_report(testY,predY,le.classes_))"
   ]
  },
  {
   "cell_type": "code",
   "execution_count": 77,
   "metadata": {},
   "outputs": [
    {
     "data": {
      "text/plain": [
       "['RF_imbalanced_trained.pkl']"
      ]
     },
     "execution_count": 77,
     "metadata": {},
     "output_type": "execute_result"
    }
   ],
   "source": [
    "# save model to disk\n",
    "\n",
    "\n",
    "joblib.dump(model, 'RF_imbalanced_trained.pkl') \n"
   ]
  },
  {
   "cell_type": "code",
   "execution_count": 27,
   "metadata": {},
   "outputs": [],
   "source": [
    "# load model from disk\n",
    "model_RF_loaded = joblib.load('RF_imbalanced_trained.pkl')"
   ]
  },
  {
   "cell_type": "code",
   "execution_count": 28,
   "metadata": {},
   "outputs": [
    {
     "data": {
      "text/plain": [
       "array([5, 5, 5, ..., 5, 5, 5])"
      ]
     },
     "execution_count": 28,
     "metadata": {},
     "output_type": "execute_result"
    }
   ],
   "source": [
    "model_RF_loaded.predict(testX)\n"
   ]
  },
  {
   "cell_type": "code",
   "execution_count": 29,
   "metadata": {},
   "outputs": [
    {
     "data": {
      "text/plain": [
       "Counter({'none': 45404,\n",
       "         'Fe': 103,\n",
       "         'Au': 367,\n",
       "         'Cu': 224,\n",
       "         'PGE': 28,\n",
       "         'other': 67,\n",
       "         'Pb': 7})"
      ]
     },
     "execution_count": 29,
     "metadata": {},
     "output_type": "execute_result"
    }
   ],
   "source": [
    "Counter(le.inverse_transform(model_RF_loaded.predict(testX)))"
   ]
  },
  {
   "cell_type": "markdown",
   "metadata": {},
   "source": [
    "# Pre-Process Test Set"
   ]
  },
  {
   "cell_type": "code",
   "execution_count": 2,
   "metadata": {},
   "outputs": [],
   "source": [
    "path = '/Users/pedrojunqueira/Desktop/explore_australia/MyNBs/tile_features'"
   ]
  },
  {
   "cell_type": "code",
   "execution_count": 8,
   "metadata": {},
   "outputs": [],
   "source": [
    "test_feature_paths = [path for path in os.listdir(path) if 'test' in path]"
   ]
  },
  {
   "cell_type": "code",
   "execution_count": 9,
   "metadata": {},
   "outputs": [
    {
     "data": {
      "text/plain": [
       "'total_magnetic_intensity_test.csv'"
      ]
     },
     "execution_count": 9,
     "metadata": {},
     "output_type": "execute_result"
    }
   ],
   "source": [
    "test_feature_paths[0]"
   ]
  },
  {
   "cell_type": "code",
   "execution_count": 62,
   "metadata": {},
   "outputs": [],
   "source": [
    "df_template_t = pd.read_csv('./tile_features/total_magnetic_intensity_test.csv')\n",
    "df_template_t = df_template_t.set_index('tile_id')\n",
    "df_template_t = df_template_t.drop(columns='mean_')\n",
    "df_template_t\n",
    "\n",
    "for file in test_feature_paths:\n",
    "    df = pd.read_csv(f'./tile_features/{file}')\n",
    "    col_name = file.split('.')[:-1][0]\n",
    "    col_name = '_'.join(col_name.split('_')[:-1])\n",
    "    df.rename(columns={'mean_':col_name},inplace=True)\n",
    "    df = df.set_index('tile_id')\n",
    "    df_template_t = df_template_t.join(df)\n"
   ]
  },
  {
   "cell_type": "code",
   "execution_count": 63,
   "metadata": {},
   "outputs": [],
   "source": [
    "# order column as in the train set\n",
    "df_template_t = df_template_t.loc[:,['filtered_thorium_ppm', 'aloh_groun_content',\n",
    "       'thermal_infrared_gypsum_index', 'mgoh_group_content',\n",
    "       'variable_reduction_to_pole', 'filtered_terrestrial_dose',\n",
    "       'tir_quartz_index', 'ferrous_iron_index', 'total_magnetic_intensity',\n",
    "       'opaque_index', 'bouger_gravity_anomaly', 'kaolin_group_index',\n",
    "       'ferric_oxide_content', 'filtered_uranium_ppm',\n",
    "       'filtered_potassium_pct', 'thermal_infrared_silica_index',\n",
    "       'ferrous_iron_content', 'isostatic_residual_gravity_anomaly',\n",
    "       'aloh_group_composition']]"
   ]
  },
  {
   "cell_type": "code",
   "execution_count": 68,
   "metadata": {},
   "outputs": [],
   "source": [
    "df_template_t.loc[:,'stamp'] = [i.split('_')[0] for i in df_template_t.index]\n",
    "df_template_t = df_template_t.reset_index()"
   ]
  },
  {
   "cell_type": "code",
   "execution_count": 69,
   "metadata": {},
   "outputs": [],
   "source": [
    "test_set = pd.merge(left=df_template_t,right=stamp_feature,left_on='stamp',right_on='id',how='left')\n",
    "test_set = test_set.drop(columns=['id','stamp'])"
   ]
  },
  {
   "cell_type": "code",
   "execution_count": 71,
   "metadata": {},
   "outputs": [],
   "source": [
    "# create dummy column for age and adding to dataset\n",
    "test_set = test_set.join(pd.get_dummies(test_set[\"age\"]))\n"
   ]
  },
  {
   "cell_type": "code",
   "execution_count": 72,
   "metadata": {},
   "outputs": [],
   "source": [
    "test_dataset = test_set.copy()\n",
    "# dropping age column\n",
    "test_dataset.drop(columns=['age'], inplace=True)\n"
   ]
  },
  {
   "cell_type": "code",
   "execution_count": 73,
   "metadata": {},
   "outputs": [],
   "source": [
    "# drop inf rows\n",
    "test_dataset = test_dataset[test_dataset['filtered_uranium_ppm']!=np.inf]\n",
    "# drop nan\n",
    "test_dataset = test_dataset.dropna()"
   ]
  },
  {
   "cell_type": "code",
   "execution_count": 74,
   "metadata": {},
   "outputs": [
    {
     "data": {
      "text/html": [
       "<div>\n",
       "<style scoped>\n",
       "    .dataframe tbody tr th:only-of-type {\n",
       "        vertical-align: middle;\n",
       "    }\n",
       "\n",
       "    .dataframe tbody tr th {\n",
       "        vertical-align: top;\n",
       "    }\n",
       "\n",
       "    .dataframe thead th {\n",
       "        text-align: right;\n",
       "    }\n",
       "</style>\n",
       "<table border=\"1\" class=\"dataframe\">\n",
       "  <thead>\n",
       "    <tr style=\"text-align: right;\">\n",
       "      <th></th>\n",
       "      <th>tile_id</th>\n",
       "      <th>filtered_thorium_ppm</th>\n",
       "      <th>aloh_groun_content</th>\n",
       "      <th>thermal_infrared_gypsum_index</th>\n",
       "      <th>mgoh_group_content</th>\n",
       "      <th>variable_reduction_to_pole</th>\n",
       "      <th>filtered_terrestrial_dose</th>\n",
       "      <th>tir_quartz_index</th>\n",
       "      <th>ferrous_iron_index</th>\n",
       "      <th>total_magnetic_intensity</th>\n",
       "      <th>...</th>\n",
       "      <th>Palaeozoic</th>\n",
       "      <th>Paleoproterozoic</th>\n",
       "      <th>Permian</th>\n",
       "      <th>Precambrian</th>\n",
       "      <th>Proterozoic</th>\n",
       "      <th>Quaternary</th>\n",
       "      <th>Silurian</th>\n",
       "      <th>Tertiary</th>\n",
       "      <th>Triassic</th>\n",
       "      <th>unknown</th>\n",
       "    </tr>\n",
       "  </thead>\n",
       "  <tbody>\n",
       "    <tr>\n",
       "      <th>0</th>\n",
       "      <td>27801422_1</td>\n",
       "      <td>14.583928</td>\n",
       "      <td>1.841413</td>\n",
       "      <td>1.998361</td>\n",
       "      <td>0.006573</td>\n",
       "      <td>-23.938871</td>\n",
       "      <td>68.840126</td>\n",
       "      <td>0.500420</td>\n",
       "      <td>0.319090</td>\n",
       "      <td>-36.350555</td>\n",
       "      <td>...</td>\n",
       "      <td>0</td>\n",
       "      <td>0</td>\n",
       "      <td>0</td>\n",
       "      <td>0</td>\n",
       "      <td>0</td>\n",
       "      <td>0</td>\n",
       "      <td>0</td>\n",
       "      <td>0</td>\n",
       "      <td>0</td>\n",
       "      <td>0</td>\n",
       "    </tr>\n",
       "    <tr>\n",
       "      <th>1</th>\n",
       "      <td>27801422_2</td>\n",
       "      <td>14.019094</td>\n",
       "      <td>1.834027</td>\n",
       "      <td>1.996632</td>\n",
       "      <td>0.006522</td>\n",
       "      <td>-22.846136</td>\n",
       "      <td>64.751541</td>\n",
       "      <td>0.500852</td>\n",
       "      <td>0.470932</td>\n",
       "      <td>-38.031258</td>\n",
       "      <td>...</td>\n",
       "      <td>0</td>\n",
       "      <td>0</td>\n",
       "      <td>0</td>\n",
       "      <td>0</td>\n",
       "      <td>0</td>\n",
       "      <td>0</td>\n",
       "      <td>0</td>\n",
       "      <td>0</td>\n",
       "      <td>0</td>\n",
       "      <td>0</td>\n",
       "    </tr>\n",
       "    <tr>\n",
       "      <th>2</th>\n",
       "      <td>27801422_3</td>\n",
       "      <td>15.167210</td>\n",
       "      <td>1.845156</td>\n",
       "      <td>1.995486</td>\n",
       "      <td>0.017611</td>\n",
       "      <td>-22.193148</td>\n",
       "      <td>72.486549</td>\n",
       "      <td>0.501140</td>\n",
       "      <td>0.480541</td>\n",
       "      <td>-38.811146</td>\n",
       "      <td>...</td>\n",
       "      <td>0</td>\n",
       "      <td>0</td>\n",
       "      <td>0</td>\n",
       "      <td>0</td>\n",
       "      <td>0</td>\n",
       "      <td>0</td>\n",
       "      <td>0</td>\n",
       "      <td>0</td>\n",
       "      <td>0</td>\n",
       "      <td>0</td>\n",
       "    </tr>\n",
       "    <tr>\n",
       "      <th>3</th>\n",
       "      <td>27801422_4</td>\n",
       "      <td>14.073159</td>\n",
       "      <td>1.830946</td>\n",
       "      <td>1.995834</td>\n",
       "      <td>0.033020</td>\n",
       "      <td>-27.158535</td>\n",
       "      <td>65.638809</td>\n",
       "      <td>0.501054</td>\n",
       "      <td>0.536202</td>\n",
       "      <td>-43.594757</td>\n",
       "      <td>...</td>\n",
       "      <td>0</td>\n",
       "      <td>0</td>\n",
       "      <td>0</td>\n",
       "      <td>0</td>\n",
       "      <td>0</td>\n",
       "      <td>0</td>\n",
       "      <td>0</td>\n",
       "      <td>0</td>\n",
       "      <td>0</td>\n",
       "      <td>0</td>\n",
       "    </tr>\n",
       "    <tr>\n",
       "      <th>4</th>\n",
       "      <td>27801422_5</td>\n",
       "      <td>11.649189</td>\n",
       "      <td>1.835220</td>\n",
       "      <td>1.997195</td>\n",
       "      <td>0.027035</td>\n",
       "      <td>-29.215328</td>\n",
       "      <td>49.744656</td>\n",
       "      <td>0.500713</td>\n",
       "      <td>0.537161</td>\n",
       "      <td>-45.382557</td>\n",
       "      <td>...</td>\n",
       "      <td>0</td>\n",
       "      <td>0</td>\n",
       "      <td>0</td>\n",
       "      <td>0</td>\n",
       "      <td>0</td>\n",
       "      <td>0</td>\n",
       "      <td>0</td>\n",
       "      <td>0</td>\n",
       "      <td>0</td>\n",
       "      <td>0</td>\n",
       "    </tr>\n",
       "    <tr>\n",
       "      <th>...</th>\n",
       "      <td>...</td>\n",
       "      <td>...</td>\n",
       "      <td>...</td>\n",
       "      <td>...</td>\n",
       "      <td>...</td>\n",
       "      <td>...</td>\n",
       "      <td>...</td>\n",
       "      <td>...</td>\n",
       "      <td>...</td>\n",
       "      <td>...</td>\n",
       "      <td>...</td>\n",
       "      <td>...</td>\n",
       "      <td>...</td>\n",
       "      <td>...</td>\n",
       "      <td>...</td>\n",
       "      <td>...</td>\n",
       "      <td>...</td>\n",
       "      <td>...</td>\n",
       "      <td>...</td>\n",
       "      <td>...</td>\n",
       "      <td>...</td>\n",
       "    </tr>\n",
       "    <tr>\n",
       "      <th>62195</th>\n",
       "      <td>33920526_96</td>\n",
       "      <td>5.635985</td>\n",
       "      <td>1.958360</td>\n",
       "      <td>1.989640</td>\n",
       "      <td>0.052890</td>\n",
       "      <td>-117.751373</td>\n",
       "      <td>19.386864</td>\n",
       "      <td>0.502622</td>\n",
       "      <td>0.692879</td>\n",
       "      <td>13.258567</td>\n",
       "      <td>...</td>\n",
       "      <td>0</td>\n",
       "      <td>0</td>\n",
       "      <td>0</td>\n",
       "      <td>0</td>\n",
       "      <td>0</td>\n",
       "      <td>0</td>\n",
       "      <td>0</td>\n",
       "      <td>0</td>\n",
       "      <td>0</td>\n",
       "      <td>0</td>\n",
       "    </tr>\n",
       "    <tr>\n",
       "      <th>62196</th>\n",
       "      <td>33920526_97</td>\n",
       "      <td>15.240803</td>\n",
       "      <td>1.939375</td>\n",
       "      <td>1.992917</td>\n",
       "      <td>0.028339</td>\n",
       "      <td>191.223267</td>\n",
       "      <td>54.273273</td>\n",
       "      <td>0.501793</td>\n",
       "      <td>0.661870</td>\n",
       "      <td>46.915806</td>\n",
       "      <td>...</td>\n",
       "      <td>0</td>\n",
       "      <td>0</td>\n",
       "      <td>0</td>\n",
       "      <td>0</td>\n",
       "      <td>0</td>\n",
       "      <td>0</td>\n",
       "      <td>0</td>\n",
       "      <td>0</td>\n",
       "      <td>0</td>\n",
       "      <td>0</td>\n",
       "    </tr>\n",
       "    <tr>\n",
       "      <th>62197</th>\n",
       "      <td>33920526_98</td>\n",
       "      <td>8.546436</td>\n",
       "      <td>1.925508</td>\n",
       "      <td>1.995121</td>\n",
       "      <td>0.026268</td>\n",
       "      <td>988.674805</td>\n",
       "      <td>29.854349</td>\n",
       "      <td>0.501234</td>\n",
       "      <td>0.681896</td>\n",
       "      <td>726.817505</td>\n",
       "      <td>...</td>\n",
       "      <td>0</td>\n",
       "      <td>0</td>\n",
       "      <td>0</td>\n",
       "      <td>0</td>\n",
       "      <td>0</td>\n",
       "      <td>0</td>\n",
       "      <td>0</td>\n",
       "      <td>0</td>\n",
       "      <td>0</td>\n",
       "      <td>0</td>\n",
       "    </tr>\n",
       "    <tr>\n",
       "      <th>62198</th>\n",
       "      <td>33920526_99</td>\n",
       "      <td>9.816708</td>\n",
       "      <td>1.954946</td>\n",
       "      <td>1.991299</td>\n",
       "      <td>0.042597</td>\n",
       "      <td>850.099609</td>\n",
       "      <td>31.823103</td>\n",
       "      <td>0.502207</td>\n",
       "      <td>0.599986</td>\n",
       "      <td>658.049500</td>\n",
       "      <td>...</td>\n",
       "      <td>0</td>\n",
       "      <td>0</td>\n",
       "      <td>0</td>\n",
       "      <td>0</td>\n",
       "      <td>0</td>\n",
       "      <td>0</td>\n",
       "      <td>0</td>\n",
       "      <td>0</td>\n",
       "      <td>0</td>\n",
       "      <td>0</td>\n",
       "    </tr>\n",
       "    <tr>\n",
       "      <th>62199</th>\n",
       "      <td>33920526_100</td>\n",
       "      <td>10.019975</td>\n",
       "      <td>1.979238</td>\n",
       "      <td>1.992580</td>\n",
       "      <td>0.029430</td>\n",
       "      <td>782.527161</td>\n",
       "      <td>33.114578</td>\n",
       "      <td>0.501874</td>\n",
       "      <td>0.643730</td>\n",
       "      <td>593.498474</td>\n",
       "      <td>...</td>\n",
       "      <td>0</td>\n",
       "      <td>0</td>\n",
       "      <td>0</td>\n",
       "      <td>0</td>\n",
       "      <td>0</td>\n",
       "      <td>0</td>\n",
       "      <td>0</td>\n",
       "      <td>0</td>\n",
       "      <td>0</td>\n",
       "      <td>0</td>\n",
       "    </tr>\n",
       "  </tbody>\n",
       "</table>\n",
       "<p>61700 rows × 53 columns</p>\n",
       "</div>"
      ],
      "text/plain": [
       "            tile_id  filtered_thorium_ppm  aloh_groun_content  \\\n",
       "0        27801422_1             14.583928            1.841413   \n",
       "1        27801422_2             14.019094            1.834027   \n",
       "2        27801422_3             15.167210            1.845156   \n",
       "3        27801422_4             14.073159            1.830946   \n",
       "4        27801422_5             11.649189            1.835220   \n",
       "...             ...                   ...                 ...   \n",
       "62195   33920526_96              5.635985            1.958360   \n",
       "62196   33920526_97             15.240803            1.939375   \n",
       "62197   33920526_98              8.546436            1.925508   \n",
       "62198   33920526_99              9.816708            1.954946   \n",
       "62199  33920526_100             10.019975            1.979238   \n",
       "\n",
       "       thermal_infrared_gypsum_index  mgoh_group_content  \\\n",
       "0                           1.998361            0.006573   \n",
       "1                           1.996632            0.006522   \n",
       "2                           1.995486            0.017611   \n",
       "3                           1.995834            0.033020   \n",
       "4                           1.997195            0.027035   \n",
       "...                              ...                 ...   \n",
       "62195                       1.989640            0.052890   \n",
       "62196                       1.992917            0.028339   \n",
       "62197                       1.995121            0.026268   \n",
       "62198                       1.991299            0.042597   \n",
       "62199                       1.992580            0.029430   \n",
       "\n",
       "       variable_reduction_to_pole  filtered_terrestrial_dose  \\\n",
       "0                      -23.938871                  68.840126   \n",
       "1                      -22.846136                  64.751541   \n",
       "2                      -22.193148                  72.486549   \n",
       "3                      -27.158535                  65.638809   \n",
       "4                      -29.215328                  49.744656   \n",
       "...                           ...                        ...   \n",
       "62195                 -117.751373                  19.386864   \n",
       "62196                  191.223267                  54.273273   \n",
       "62197                  988.674805                  29.854349   \n",
       "62198                  850.099609                  31.823103   \n",
       "62199                  782.527161                  33.114578   \n",
       "\n",
       "       tir_quartz_index  ferrous_iron_index  total_magnetic_intensity  ...  \\\n",
       "0              0.500420            0.319090                -36.350555  ...   \n",
       "1              0.500852            0.470932                -38.031258  ...   \n",
       "2              0.501140            0.480541                -38.811146  ...   \n",
       "3              0.501054            0.536202                -43.594757  ...   \n",
       "4              0.500713            0.537161                -45.382557  ...   \n",
       "...                 ...                 ...                       ...  ...   \n",
       "62195          0.502622            0.692879                 13.258567  ...   \n",
       "62196          0.501793            0.661870                 46.915806  ...   \n",
       "62197          0.501234            0.681896                726.817505  ...   \n",
       "62198          0.502207            0.599986                658.049500  ...   \n",
       "62199          0.501874            0.643730                593.498474  ...   \n",
       "\n",
       "       Palaeozoic  Paleoproterozoic  Permian  Precambrian  Proterozoic  \\\n",
       "0               0                 0        0            0            0   \n",
       "1               0                 0        0            0            0   \n",
       "2               0                 0        0            0            0   \n",
       "3               0                 0        0            0            0   \n",
       "4               0                 0        0            0            0   \n",
       "...           ...               ...      ...          ...          ...   \n",
       "62195           0                 0        0            0            0   \n",
       "62196           0                 0        0            0            0   \n",
       "62197           0                 0        0            0            0   \n",
       "62198           0                 0        0            0            0   \n",
       "62199           0                 0        0            0            0   \n",
       "\n",
       "       Quaternary  Silurian  Tertiary  Triassic  unknown  \n",
       "0               0         0         0         0        0  \n",
       "1               0         0         0         0        0  \n",
       "2               0         0         0         0        0  \n",
       "3               0         0         0         0        0  \n",
       "4               0         0         0         0        0  \n",
       "...           ...       ...       ...       ...      ...  \n",
       "62195           0         0         0         0        0  \n",
       "62196           0         0         0         0        0  \n",
       "62197           0         0         0         0        0  \n",
       "62198           0         0         0         0        0  \n",
       "62199           0         0         0         0        0  \n",
       "\n",
       "[61700 rows x 53 columns]"
      ]
     },
     "execution_count": 74,
     "metadata": {},
     "output_type": "execute_result"
    }
   ],
   "source": [
    "test_dataset"
   ]
  },
  {
   "cell_type": "code",
   "execution_count": 102,
   "metadata": {},
   "outputs": [],
   "source": [
    "dscols = dataset.columns[1:]\n",
    "tdscols = test_dataset.columns"
   ]
  },
  {
   "cell_type": "code",
   "execution_count": 103,
   "metadata": {},
   "outputs": [],
   "source": [
    "# missing columns in testdataset\n",
    "misscols = [col for col in dscols if col not in tdscols]"
   ]
  },
  {
   "cell_type": "code",
   "execution_count": 104,
   "metadata": {},
   "outputs": [
    {
     "data": {
      "text/plain": [
       "['Cambrian',\n",
       " 'Early Carboniferous',\n",
       " 'Early Ordovician',\n",
       " 'Holocene',\n",
       " 'Jurassic',\n",
       " 'Paleogene',\n",
       " 'Pleistocene',\n",
       " 'Pliocene']"
      ]
     },
     "execution_count": 104,
     "metadata": {},
     "output_type": "execute_result"
    }
   ],
   "source": [
    "misscols"
   ]
  },
  {
   "cell_type": "code",
   "execution_count": 105,
   "metadata": {},
   "outputs": [],
   "source": [
    "extracol = [col for col in tdscols if col not in dscols]"
   ]
  },
  {
   "cell_type": "code",
   "execution_count": 106,
   "metadata": {},
   "outputs": [
    {
     "data": {
      "text/plain": [
       "['tile_id', 'Middle Triassic']"
      ]
     },
     "execution_count": 106,
     "metadata": {},
     "output_type": "execute_result"
    }
   ],
   "source": [
    "extracol"
   ]
  },
  {
   "cell_type": "code",
   "execution_count": 107,
   "metadata": {},
   "outputs": [
    {
     "data": {
      "text/plain": [
       "(61700, 52)"
      ]
     },
     "execution_count": 107,
     "metadata": {},
     "output_type": "execute_result"
    }
   ],
   "source": [
    "test_dataset.drop(columns='Middle Triassic', inplace=True)\n",
    "test_dataset.shape"
   ]
  },
  {
   "cell_type": "code",
   "execution_count": 109,
   "metadata": {},
   "outputs": [
    {
     "data": {
      "text/plain": [
       "(61700, 60)"
      ]
     },
     "execution_count": 109,
     "metadata": {},
     "output_type": "execute_result"
    }
   ],
   "source": [
    "# add missing columns\n",
    "for col in misscols:\n",
    "    test_dataset.loc[:,col] = 0\n",
    "test_dataset.shape    "
   ]
  },
  {
   "cell_type": "code",
   "execution_count": 116,
   "metadata": {},
   "outputs": [],
   "source": [
    "# same columns as in the train same order\n",
    "test_dataset = test_dataset.loc[:,['tile_id', 'filtered_thorium_ppm', 'aloh_groun_content',\n",
    "       'thermal_infrared_gypsum_index', 'mgoh_group_content',\n",
    "       'variable_reduction_to_pole', 'filtered_terrestrial_dose',\n",
    "       'tir_quartz_index', 'ferrous_iron_index', 'total_magnetic_intensity',\n",
    "       'opaque_index', 'bouger_gravity_anomaly', 'kaolin_group_index',\n",
    "       'ferric_oxide_content', 'filtered_uranium_ppm',\n",
    "       'filtered_potassium_pct', 'thermal_infrared_silica_index',\n",
    "       'ferrous_iron_content', 'isostatic_residual_gravity_anomaly',\n",
    "       'aloh_group_composition', 'Archaean', 'Cainozoic', 'Cambrian',\n",
    "       'Carboniferous', 'Cretaceous', 'Devonian', 'Early Carboniferous',\n",
    "       'Early Cretaceous', 'Early Devonian', 'Early Ordovician',\n",
    "       'Early Palaeozoic', 'Early Permian', 'Early Pliocene', 'Holocene',\n",
    "       'Jurassic', 'Late Cambrian', 'Late Carboniferous', 'Late Ordovician',\n",
    "       'Late Palaeozoic', 'Late Permian', 'Late Silurian', 'Late Triassic',\n",
    "       'Mesoproterozoic', 'Middle Devonian', 'Neoproterozoic', 'Ordovician',\n",
    "       'Palaeoproterozoic', 'Palaeozoic', 'Paleogene', 'Paleoproterozoic',\n",
    "       'Permian', 'Pleistocene', 'Pliocene', 'Precambrian', 'Proterozoic',\n",
    "       'Quaternary', 'Silurian', 'Tertiary', 'Triassic', 'unknown']]"
   ]
  },
  {
   "cell_type": "code",
   "execution_count": 117,
   "metadata": {},
   "outputs": [],
   "source": [
    "# creating X matrix and y target vector\n",
    "test_X = test_dataset.iloc[:,1:].values\n",
    "tile_id = test_dataset.iloc[:,0].values"
   ]
  },
  {
   "cell_type": "code",
   "execution_count": 118,
   "metadata": {},
   "outputs": [
    {
     "data": {
      "text/plain": [
       "(61700, 59)"
      ]
     },
     "execution_count": 118,
     "metadata": {},
     "output_type": "execute_result"
    }
   ],
   "source": [
    "test_X.shape"
   ]
  },
  {
   "cell_type": "code",
   "execution_count": 120,
   "metadata": {},
   "outputs": [],
   "source": [
    "min_max_scaler = preprocessing.MinMaxScaler()\n",
    "test_X = min_max_scaler.fit_transform(test_X)"
   ]
  },
  {
   "cell_type": "markdown",
   "metadata": {},
   "source": [
    "# Predict"
   ]
  },
  {
   "cell_type": "code",
   "execution_count": 124,
   "metadata": {},
   "outputs": [],
   "source": [
    "# load model from disk\n",
    "model_RF_loaded = joblib.load('RF_imbalanced_trained.pkl')"
   ]
  },
  {
   "cell_type": "code",
   "execution_count": 125,
   "metadata": {},
   "outputs": [
    {
     "data": {
      "text/plain": [
       "array([5, 5, 5, ..., 5, 5, 5])"
      ]
     },
     "execution_count": 125,
     "metadata": {},
     "output_type": "execute_result"
    }
   ],
   "source": [
    "model_RF_loaded.predict(test_X)"
   ]
  },
  {
   "cell_type": "code",
   "execution_count": 127,
   "metadata": {},
   "outputs": [
    {
     "data": {
      "text/plain": [
       "Counter({'none': 61700})"
      ]
     },
     "execution_count": 127,
     "metadata": {},
     "output_type": "execute_result"
    }
   ],
   "source": [
    "Counter(le.inverse_transform(model_RF_loaded.predict(test_X)))"
   ]
  },
  {
   "cell_type": "code",
   "execution_count": null,
   "metadata": {},
   "outputs": [],
   "source": [
    "# def get_models():\n",
    "#     models, names = list(), list()\n",
    "#     # LDA\n",
    "#     models.append(LinearDiscriminantAnalysis())\n",
    "#     names.append('LDA')\n",
    "#     # SVM\n",
    "#     models.append(LinearSVC())\n",
    "#     names.append('SVM')\n",
    "#     # Bagging\n",
    "#     models.append(BaggingClassifier(n_estimators=1000))\n",
    "#     names.append('BAG')\n",
    "#     # RF\n",
    "#     models.append(RandomForestClassifier(n_estimators=1000))\n",
    "#     names.append('RF')\n",
    "#     # ET\n",
    "#     models.append(ExtraTreesClassifier(n_estimators=1000))\n",
    "#     names.append('ET')\n",
    "#     return models, names\n",
    "\n",
    "\n",
    "# def evaluate_model(X, y, model):\n",
    "#     # define evaluation procedure\n",
    "#     cv = RepeatedStratifiedKFold(n_splits=5, n_repeats=3, random_state=1)\n",
    "#     # evaluate model\n",
    "#     scores = cross_val_score(model, X, y, scoring='accuracy', cv=cv, n_jobs=-1)\n",
    "#     return scores\n",
    "\n",
    "# models, names = get_models()\n",
    "# results = list()\n",
    "# # evaluate each model\n",
    "# for i in range(len(models)):\n",
    "#     # evaluate the model and store results\n",
    "#     scores = evaluate_model(trainX, trainY, models[i])\n",
    "#     results.append(scores)\n",
    "#     # summarize performance\n",
    "#     print('>%s %.3f (%.3f)' % (names[i], mean(scores), std(scores)))\n",
    "# # plot the results\n",
    "# plt.boxplot(results, labels=names, showmeans=True)\n",
    "# plt.show()\n",
    "\n",
    "\n",
    "# # # Fitting Random Forest Classification to the Training set\n",
    "# classifier = RandomForestClassifier(n_estimators = 10, criterion = 'entropy', random_state = 42)\n",
    "# classifier.fit(trainX, trainY)"
   ]
  }
 ],
 "metadata": {
  "kernelspec": {
   "display_name": "Python [conda env:exploration] *",
   "language": "python",
   "name": "conda-env-exploration-py"
  },
  "language_info": {
   "codemirror_mode": {
    "name": "ipython",
    "version": 3
   },
   "file_extension": ".py",
   "mimetype": "text/x-python",
   "name": "python",
   "nbconvert_exporter": "python",
   "pygments_lexer": "ipython3",
   "version": "3.7.6"
  }
 },
 "nbformat": 4,
 "nbformat_minor": 4
}
