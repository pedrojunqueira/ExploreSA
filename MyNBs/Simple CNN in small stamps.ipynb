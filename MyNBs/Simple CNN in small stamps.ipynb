{
 "cells": [
  {
   "cell_type": "code",
   "execution_count": 1,
   "metadata": {},
   "outputs": [],
   "source": [
    "# build a simple CNN to classify geophysics dataset\n",
    "\n",
    "import numpy as np\n",
    "import os\n",
    "import rasterio\n",
    "import geopandas as gpd\n",
    "from sklearn.preprocessing import MinMaxScaler\n",
    "from sklearn.model_selection import train_test_split\n",
    "import pandas as pd\n",
    "\n",
    "from tensorflow.keras import models\n",
    "from tensorflow.keras import layers\n",
    "from tensorflow.keras.utils import to_categorical\n",
    "\n",
    "import h5py\n",
    "from datetime import datetime"
   ]
  },
  {
   "cell_type": "code",
   "execution_count": 2,
   "metadata": {},
   "outputs": [],
   "source": [
    "# load dataser\n",
    "db = h5py.File('deposits_classes.hdf5', 'r')"
   ]
  },
  {
   "cell_type": "code",
   "execution_count": 3,
   "metadata": {},
   "outputs": [
    {
     "data": {
      "text/plain": [
       "<KeysViewHDF5 ['features', 'label', 'stamp_id']>"
      ]
     },
     "execution_count": 3,
     "metadata": {},
     "output_type": "execute_result"
    }
   ],
   "source": [
    "db.keys()"
   ]
  },
  {
   "cell_type": "code",
   "execution_count": 4,
   "metadata": {},
   "outputs": [],
   "source": [
    "# unpack X, y from the dataset\n",
    "X_ , y = db['features'], db['label']"
   ]
  },
  {
   "cell_type": "code",
   "execution_count": 5,
   "metadata": {},
   "outputs": [
    {
     "name": "stdout",
     "output_type": "stream",
     "text": [
      "['Cu' 'other' 'Au' 'PGE' 'Fe' 'Pb']\n"
     ]
    },
    {
     "data": {
      "text/plain": [
       "array([0, 0, 1, ..., 0, 1, 0])"
      ]
     },
     "execution_count": 5,
     "metadata": {},
     "output_type": "execute_result"
    }
   ],
   "source": [
    "# factorizing labels to integers\n",
    "factor = pd.factorize(y)\n",
    "y = factor[0]\n",
    "definitions = factor[1]\n",
    "print(definitions)\n",
    "y"
   ]
  },
  {
   "cell_type": "code",
   "execution_count": 6,
   "metadata": {},
   "outputs": [],
   "source": [
    "X = np.zeros(X_.shape)"
   ]
  },
  {
   "cell_type": "code",
   "execution_count": 7,
   "metadata": {},
   "outputs": [],
   "source": [
    "# assign values to a np array\n",
    "for i in range(len(X_)):\n",
    "    X[i,:,:] = X_[i,:,:]"
   ]
  },
  {
   "cell_type": "code",
   "execution_count": 8,
   "metadata": {},
   "outputs": [
    {
     "data": {
      "text/plain": [
       "numpy.ndarray"
      ]
     },
     "execution_count": 8,
     "metadata": {},
     "output_type": "execute_result"
    }
   ],
   "source": [
    "type(X)"
   ]
  },
  {
   "cell_type": "code",
   "execution_count": 9,
   "metadata": {},
   "outputs": [],
   "source": [
    "# scale image features 0-1\n",
    "min_max_scaler = MinMaxScaler()\n",
    "\n",
    "for i in range(len(X)):\n",
    "    X[i,:,:] = min_max_scaler.fit_transform(X[i,:,:]) "
   ]
  },
  {
   "cell_type": "code",
   "execution_count": 10,
   "metadata": {},
   "outputs": [],
   "source": [
    "# split train test\n",
    "trainX, testX, trainY, testY = train_test_split(X, y,\n",
    "                                                  test_size=0.25, random_state=42)"
   ]
  },
  {
   "cell_type": "code",
   "execution_count": 11,
   "metadata": {},
   "outputs": [],
   "source": [
    "# reshape for cnn ingest and also chenge datatype to float\n",
    "trainX = trainX.reshape((len(trainX), 50, 50, 1))\n",
    "trainX = trainX.astype('float32')\n",
    "testX = testX.reshape((len(testX), 50, 50, 1))\n",
    "testX = testX.astype('float32')\n",
    "\n",
    "\n",
    "trainY = to_categorical(trainY)\n",
    "trainY = trainY.astype('float32')\n",
    "\n",
    "testY = to_categorical(testY)\n",
    "testY = testY.astype('float32')"
   ]
  },
  {
   "cell_type": "code",
   "execution_count": 12,
   "metadata": {},
   "outputs": [
    {
     "name": "stdout",
     "output_type": "stream",
     "text": [
      "(2340, 50, 50, 1) float32\n",
      "(2340, 6) float32\n",
      "(781, 50, 50, 1) float32\n",
      "(781, 6) float32\n"
     ]
    }
   ],
   "source": [
    "print(trainX.shape,trainX.dtype)\n",
    "print(trainY.shape,trainY.dtype)\n",
    "print(testX.shape,testX.dtype)\n",
    "print(testY.shape,testX.dtype)"
   ]
  },
  {
   "cell_type": "code",
   "execution_count": 13,
   "metadata": {},
   "outputs": [],
   "source": [
    "model = models.Sequential()\n",
    "model.add(layers.Conv2D(32, (3, 3), activation='relu', input_shape=(50, 50, 1)))\n",
    "model.add(layers.MaxPooling2D((2, 2)))\n",
    "model.add(layers.Conv2D(64, (3, 3), activation='relu'))\n",
    "model.add(layers.MaxPooling2D((2, 2)))\n",
    "model.add(layers.Conv2D(64, (3, 3), activation='relu'))\n",
    "model.add(layers.Flatten())\n",
    "model.add(layers.Dense(64, activation='relu'))\n",
    "model.add(layers.Dense(6, activation='softmax'))"
   ]
  },
  {
   "cell_type": "code",
   "execution_count": 14,
   "metadata": {},
   "outputs": [
    {
     "name": "stdout",
     "output_type": "stream",
     "text": [
      "Model: \"sequential\"\n",
      "_________________________________________________________________\n",
      "Layer (type)                 Output Shape              Param #   \n",
      "=================================================================\n",
      "conv2d (Conv2D)              (None, 48, 48, 32)        320       \n",
      "_________________________________________________________________\n",
      "max_pooling2d (MaxPooling2D) (None, 24, 24, 32)        0         \n",
      "_________________________________________________________________\n",
      "conv2d_1 (Conv2D)            (None, 22, 22, 64)        18496     \n",
      "_________________________________________________________________\n",
      "max_pooling2d_1 (MaxPooling2 (None, 11, 11, 64)        0         \n",
      "_________________________________________________________________\n",
      "conv2d_2 (Conv2D)            (None, 9, 9, 64)          36928     \n",
      "_________________________________________________________________\n",
      "flatten (Flatten)            (None, 5184)              0         \n",
      "_________________________________________________________________\n",
      "dense (Dense)                (None, 64)                331840    \n",
      "_________________________________________________________________\n",
      "dense_1 (Dense)              (None, 6)                 390       \n",
      "=================================================================\n",
      "Total params: 387,974\n",
      "Trainable params: 387,974\n",
      "Non-trainable params: 0\n",
      "_________________________________________________________________\n"
     ]
    }
   ],
   "source": [
    "model.summary()"
   ]
  },
  {
   "cell_type": "code",
   "execution_count": 15,
   "metadata": {},
   "outputs": [],
   "source": [
    "model.compile(optimizer='rmsprop',\n",
    "              loss='categorical_crossentropy',\n",
    "              metrics=['accuracy'])"
   ]
  },
  {
   "cell_type": "code",
   "execution_count": 16,
   "metadata": {},
   "outputs": [
    {
     "name": "stdout",
     "output_type": "stream",
     "text": [
      "Train on 2340 samples\n",
      "Epoch 1/30\n",
      "2340/2340 [==============================] - 5s 2ms/sample - loss: 1.4796 - accuracy: 0.4145\n",
      "Epoch 2/30\n",
      "2340/2340 [==============================] - 4s 2ms/sample - loss: 1.4219 - accuracy: 0.4197\n",
      "Epoch 3/30\n",
      "2340/2340 [==============================] - 4s 2ms/sample - loss: 1.4179 - accuracy: 0.4252\n",
      "Epoch 4/30\n",
      "2340/2340 [==============================] - 4s 2ms/sample - loss: 1.4014 - accuracy: 0.4368\n",
      "Epoch 5/30\n",
      "2340/2340 [==============================] - 4s 2ms/sample - loss: 1.3835 - accuracy: 0.4406\n",
      "Epoch 6/30\n",
      "2340/2340 [==============================] - 4s 2ms/sample - loss: 1.3624 - accuracy: 0.4504\n",
      "Epoch 7/30\n",
      "2340/2340 [==============================] - 4s 2ms/sample - loss: 1.3268 - accuracy: 0.4650\n",
      "Epoch 8/30\n",
      "2340/2340 [==============================] - 4s 2ms/sample - loss: 1.2945 - accuracy: 0.4684\n",
      "Epoch 9/30\n",
      "2340/2340 [==============================] - 4s 2ms/sample - loss: 1.2564 - accuracy: 0.4962\n",
      "Epoch 10/30\n",
      "2340/2340 [==============================] - 4s 2ms/sample - loss: 1.1927 - accuracy: 0.5308\n",
      "Epoch 11/30\n",
      "2340/2340 [==============================] - 4s 2ms/sample - loss: 1.1195 - accuracy: 0.5440\n",
      "Epoch 12/30\n",
      "2340/2340 [==============================] - 5s 2ms/sample - loss: 1.0409 - accuracy: 0.5932\n",
      "Epoch 13/30\n",
      "2340/2340 [==============================] - 5s 2ms/sample - loss: 0.9528 - accuracy: 0.6410\n",
      "Epoch 14/30\n",
      "2340/2340 [==============================] - 5s 2ms/sample - loss: 0.8701 - accuracy: 0.6731\n",
      "Epoch 15/30\n",
      "2340/2340 [==============================] - 5s 2ms/sample - loss: 0.7800 - accuracy: 0.7098\n",
      "Epoch 16/30\n",
      "2340/2340 [==============================] - 4s 2ms/sample - loss: 0.6936 - accuracy: 0.7376\n",
      "Epoch 17/30\n",
      "2340/2340 [==============================] - 5s 2ms/sample - loss: 0.6056 - accuracy: 0.7739\n",
      "Epoch 18/30\n",
      "2340/2340 [==============================] - 4s 2ms/sample - loss: 0.5335 - accuracy: 0.8060\n",
      "Epoch 19/30\n",
      "2340/2340 [==============================] - 5s 2ms/sample - loss: 0.4372 - accuracy: 0.8530\n",
      "Epoch 20/30\n",
      "2340/2340 [==============================] - 4s 2ms/sample - loss: 0.3706 - accuracy: 0.8697\n",
      "Epoch 21/30\n",
      "2340/2340 [==============================] - 4s 2ms/sample - loss: 0.3090 - accuracy: 0.8910\n",
      "Epoch 22/30\n",
      "2340/2340 [==============================] - 4s 2ms/sample - loss: 0.2621 - accuracy: 0.9145\n",
      "Epoch 23/30\n",
      "2340/2340 [==============================] - 4s 2ms/sample - loss: 0.2014 - accuracy: 0.9359\n",
      "Epoch 24/30\n",
      "2340/2340 [==============================] - 5s 2ms/sample - loss: 0.1922 - accuracy: 0.9321\n",
      "Epoch 25/30\n",
      "2340/2340 [==============================] - 5s 2ms/sample - loss: 0.1425 - accuracy: 0.9543\n",
      "Epoch 26/30\n",
      "2340/2340 [==============================] - 5s 2ms/sample - loss: 0.1448 - accuracy: 0.9462\n",
      "Epoch 27/30\n",
      "2340/2340 [==============================] - 5s 2ms/sample - loss: 0.0774 - accuracy: 0.9803\n",
      "Epoch 28/30\n",
      "2340/2340 [==============================] - 5s 2ms/sample - loss: 0.0915 - accuracy: 0.9705\n",
      "Epoch 29/30\n",
      "2340/2340 [==============================] - 4s 2ms/sample - loss: 0.0775 - accuracy: 0.9769\n",
      "Epoch 30/30\n",
      "2340/2340 [==============================] - 4s 2ms/sample - loss: 0.0538 - accuracy: 0.9850\n"
     ]
    },
    {
     "data": {
      "text/plain": [
       "<tensorflow.python.keras.callbacks.History at 0x1a40470c50>"
      ]
     },
     "execution_count": 16,
     "metadata": {},
     "output_type": "execute_result"
    }
   ],
   "source": [
    "model.fit(trainX, trainY, epochs=30, batch_size=64)"
   ]
  },
  {
   "cell_type": "code",
   "execution_count": 17,
   "metadata": {},
   "outputs": [
    {
     "name": "stdout",
     "output_type": "stream",
     "text": [
      "781/781 [==============================] - 1s 776us/sample - loss: 6.8413 - accuracy: 0.3265\n"
     ]
    }
   ],
   "source": [
    "test_loss, test_acc = model.evaluate(testX, testY)"
   ]
  },
  {
   "cell_type": "code",
   "execution_count": 18,
   "metadata": {},
   "outputs": [],
   "source": [
    "test_predictions = model.predict_classes(testX)"
   ]
  },
  {
   "cell_type": "code",
   "execution_count": 19,
   "metadata": {},
   "outputs": [
    {
     "data": {
      "text/plain": [
       "array([2, 2, 0, 0, 2, 2, 0, 2, 2, 4, 4, 2, 0, 2, 2, 1, 2, 0, 2, 0, 0, 2,\n",
       "       0, 2, 2, 1, 4, 0, 0, 2, 1, 0, 0, 0, 0, 0, 0, 2, 2, 2, 2, 0, 3, 2,\n",
       "       2, 1, 2, 0, 2, 2, 2, 0, 2, 0, 0, 1, 2, 0, 0, 2, 0, 0, 2, 0, 2, 0,\n",
       "       0, 2, 0, 0, 2, 0, 2, 0, 0, 1, 0, 2, 0, 3, 2, 2, 2, 2, 2, 0, 0, 0,\n",
       "       2, 4, 0, 0, 2, 0, 0, 0, 0, 0, 0, 1, 2, 3, 0, 4, 1, 2, 0, 0, 2, 0,\n",
       "       2, 0, 0, 0, 4, 0, 2, 0, 0, 0, 2, 2, 2, 2, 2, 2, 0, 0, 4, 2, 0, 1,\n",
       "       2, 4, 0, 2, 2, 0, 3, 0, 2, 2, 2, 2, 2, 0, 2, 2, 2, 0, 0, 0, 2, 0,\n",
       "       2, 0, 1, 2, 0, 0, 2, 4, 0, 1, 4, 0, 2, 2, 0, 2, 4, 4, 0, 2, 2, 2,\n",
       "       2, 0, 4, 0, 2, 2, 2, 1, 2, 0, 0, 2, 4, 2, 3, 1, 4, 0, 0, 0, 0, 4,\n",
       "       0, 0, 0, 2, 2, 0, 4, 0, 4, 0, 2, 2, 2, 0, 3, 2, 0, 3, 0, 0, 2, 0,\n",
       "       0, 2, 0, 0, 2, 0, 2, 0, 0, 0, 0, 0, 0, 0, 3, 0, 1, 2, 0, 0, 0, 1,\n",
       "       0, 0, 2, 0, 2, 0, 0, 0, 0, 4, 0, 2, 0, 2, 4, 1, 2, 0, 2, 0, 1, 0,\n",
       "       0, 0, 2, 0, 2, 0, 0, 1, 4, 0, 0, 2, 4, 4, 0, 2, 0, 2, 0, 0, 0, 1,\n",
       "       0, 3, 0, 2, 0, 0, 2, 0, 0, 0, 0, 1, 2, 0, 0, 3, 3, 2, 0, 2, 1, 0,\n",
       "       0, 0, 1, 2, 2, 2, 2, 0, 0, 0, 0, 0, 3, 0, 2, 4, 0, 0, 0, 1, 0, 3,\n",
       "       0, 0, 0, 2, 0, 0, 0, 1, 0, 0, 2, 1, 1, 0, 1, 0, 1, 4, 0, 0, 2, 0,\n",
       "       0, 2, 1, 4, 1, 2, 0, 0, 2, 1, 2, 0, 0, 2, 0, 0, 1, 0, 0, 2, 2, 0,\n",
       "       0, 2, 0, 0, 0, 2, 2, 0, 2, 2, 2, 1, 2, 2, 2, 0, 0, 2, 0, 0, 0, 0,\n",
       "       3, 2, 0, 0, 2, 0, 2, 4, 0, 2, 2, 0, 3, 2, 0, 0, 2, 0, 2, 0, 4, 0,\n",
       "       2, 2, 2, 3, 0, 0, 2, 2, 1, 2, 1, 2, 0, 2, 2, 0, 0, 2, 2, 0, 2, 4,\n",
       "       2, 2, 0, 0, 1, 2, 4, 2, 0, 2, 2, 0, 2, 4, 2, 0, 2, 0, 0, 1, 1, 2,\n",
       "       0, 0, 2, 2, 0, 4, 2, 2, 2, 0, 4, 0, 2, 0, 2, 2, 2, 1, 2, 2, 0, 0,\n",
       "       0, 0, 0, 0, 1, 0, 0, 0, 0, 0, 2, 0, 0, 2, 0, 1, 2, 0, 0, 2, 1, 2,\n",
       "       2, 2, 2, 4, 0, 2, 4, 1, 1, 2, 3, 1, 2, 2, 0, 2, 0, 0, 4, 2, 3, 2,\n",
       "       0, 0, 2, 1, 3, 2, 0, 0, 2, 0, 0, 1, 0, 0, 0, 0, 2, 2, 0, 2, 1, 0,\n",
       "       0, 4, 2, 0, 0, 2, 0, 0, 2, 2, 2, 0, 3, 0, 0, 4, 0, 4, 3, 0, 0, 0,\n",
       "       0, 2, 2, 1, 1, 1, 0, 0, 0, 2, 3, 3, 0, 2, 4, 0, 4, 0, 1, 2, 2, 0,\n",
       "       0, 0, 2, 1, 2, 0, 0, 0, 0, 0, 2, 2, 4, 2, 0, 2, 1, 0, 2, 2, 2, 0,\n",
       "       1, 0, 0, 2, 0, 0, 2, 2, 0, 2, 4, 0, 1, 2, 0, 0, 2, 2, 2, 2, 3, 2,\n",
       "       2, 0, 2, 1, 4, 2, 0, 0, 2, 3, 1, 0, 2, 0, 2, 0, 2, 0, 2, 0, 3, 3,\n",
       "       0, 0, 2, 0, 2, 0, 4, 0, 1, 0, 4, 2, 3, 2, 1, 0, 2, 4, 2, 0, 0, 0,\n",
       "       2, 2, 0, 0, 1, 4, 1, 2, 0, 2, 2, 2, 0, 3, 2, 2, 0, 2, 0, 4, 2, 0,\n",
       "       0, 2, 3, 2, 0, 0, 0, 2, 0, 0, 0, 0, 2, 2, 0, 0, 0, 1, 4, 2, 0, 1,\n",
       "       0, 4, 3, 2, 4, 4, 0, 1, 3, 2, 0, 2, 0, 2, 1, 4, 2, 1, 0, 2, 2, 0,\n",
       "       0, 2, 1, 0, 0, 2, 0, 2, 0, 0, 0, 2, 0, 2, 2, 2, 0, 3, 2, 3, 0, 0,\n",
       "       0, 2, 0, 0, 4, 0, 0, 3, 2, 2, 0])"
      ]
     },
     "execution_count": 19,
     "metadata": {},
     "output_type": "execute_result"
    }
   ],
   "source": [
    "test_predictions"
   ]
  },
  {
   "cell_type": "code",
   "execution_count": 20,
   "metadata": {},
   "outputs": [
    {
     "data": {
      "text/plain": [
       "array(['Cu', 'other', 'Au', 'PGE', 'Fe', 'Pb'], dtype=object)"
      ]
     },
     "execution_count": 20,
     "metadata": {},
     "output_type": "execute_result"
    }
   ],
   "source": [
    "definitions"
   ]
  },
  {
   "cell_type": "code",
   "execution_count": null,
   "metadata": {},
   "outputs": [],
   "source": []
  },
  {
   "cell_type": "code",
   "execution_count": null,
   "metadata": {},
   "outputs": [],
   "source": [
    "db.close"
   ]
  },
  {
   "cell_type": "code",
   "execution_count": null,
   "metadata": {},
   "outputs": [],
   "source": []
  }
 ],
 "metadata": {
  "kernelspec": {
   "display_name": "Python [conda env:exploration] *",
   "language": "python",
   "name": "conda-env-exploration-py"
  },
  "language_info": {
   "codemirror_mode": {
    "name": "ipython",
    "version": 3
   },
   "file_extension": ".py",
   "mimetype": "text/x-python",
   "name": "python",
   "nbconvert_exporter": "python",
   "pygments_lexer": "ipython3",
   "version": "3.7.6"
  }
 },
 "nbformat": 4,
 "nbformat_minor": 4
}
