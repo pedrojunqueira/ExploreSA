{
 "cells": [
  {
   "cell_type": "markdown",
   "metadata": {},
   "source": [
    "# Create a dataset of small boxes of the original stamp\n",
    "\n",
    "The aim of this notebook is to slice the stamp into small regions of 2,500x2,500 m instead of 25kmx25km.\n",
    "\n",
    "It means that the original stamp will be sliced into 100 smaller stamps\n",
    "\n",
    "the steps are\n",
    "\n",
    "    1 - Create a template box shapely Poligon of 100 boxes\n",
    "    2 - From the CSV for of each stamp create a gpd series with the shapely Point coordinates\n",
    "    3 - From 1 and 2 create a stamp map dictionary { 'StampID_Box#': (boxnumber, \"commodity\", number of deposits)\n",
    "    4 - Split the raster in small 50x50 files from a original 500x500\n",
    "    5 - Create a dataset tuple of lists ( list, list, list) being (['StampID_Box#'], [Tile Data], [Labe11], [Labe12]) \n",
    "    "
   ]
  },
  {
   "cell_type": "code",
   "execution_count": 39,
   "metadata": {},
   "outputs": [],
   "source": [
    "# import packages\n",
    "\n",
    "\n",
    "import numpy as np\n",
    "import os\n",
    "import rasterio\n",
    "import geopandas as gpd\n",
    "import pandas as pd\n",
    "from collections import defaultdict\n",
    "from pathlib import Path\n",
    "from shapely.geometry import Point\n",
    "from shapely.geometry import Polygon\n",
    "from pathlib import Path\n",
    "import rasterio\n",
    "%matplotlib inline\n",
    "import matplotlib.pyplot as plt\n",
    "from rasterio.windows import Window\n",
    "from explore_australia.reprojection import reproject\n",
    "from shapely.geometry import Point\n",
    "\n",
    "from explore_australia.utilities import omerc_projection\n",
    "from explore_australia.geometry import make_stamp\n",
    "\n",
    "from rasterio.mask import mask\n",
    "from numpy import nan, nanquantile\n",
    "\n",
    "import matplotlib.pyplot as plt\n",
    "import seaborn as sns\n",
    "%matplotlib inline\n",
    "import random\n",
    "import h5py\n",
    "from datetime import datetime\n",
    "import json\n"
   ]
  },
  {
   "cell_type": "markdown",
   "metadata": {},
   "source": [
    "# 1 - BOX template for stamp"
   ]
  },
  {
   "cell_type": "code",
   "execution_count": 2,
   "metadata": {},
   "outputs": [],
   "source": [
    "# create a range from -12500 to 12500 which is the x coordinates of the stamp in meters \n",
    "start = -12500\n",
    "xs = [start]\n",
    "\n",
    "for i in range(10):\n",
    "    start+= 2500\n",
    "    xs.append(start)\n",
    "    \n",
    "# create a range from -12500 to 12500 which is the y coordinates of the stamp in meters \n",
    "start = 12500\n",
    "ys = [start]\n",
    "\n",
    "for i in range(10):\n",
    "    start -= 2500\n",
    "    ys.append(start)\n",
    "    \n",
    "# create a list of tuples of the coors of stamp boxes from bottom to top from left to right\n",
    "coords = list()\n",
    "for i in xs:\n",
    "    for j in ys:\n",
    "        coords.append((i,j))\n",
    "        \n",
    "\n",
    "# create the 100 shape files\n",
    "nobox = [10,21,32,43,54,65,76,87,98]\n",
    "boxes = []\n",
    "for i in range(109):\n",
    "    if i in nobox:\n",
    "        continue\n",
    "    else:\n",
    "        box = Polygon([coords[i+1], coords[i+12], coords[i+11], coords[i]])\n",
    "        boxes.append(box)\n",
    "\n",
    "    "
   ]
  },
  {
   "cell_type": "code",
   "execution_count": 3,
   "metadata": {},
   "outputs": [
    {
     "data": {
      "text/plain": [
       "100"
      ]
     },
     "execution_count": 3,
     "metadata": {},
     "output_type": "execute_result"
    }
   ],
   "source": [
    "len(boxes)"
   ]
  },
  {
   "cell_type": "code",
   "execution_count": 4,
   "metadata": {},
   "outputs": [
    {
     "data": {
      "image/png": "[encoded data removed]",
      "text/plain": [
       "<Figure size 432x288 with 1 Axes>"
      ]
     },
     "metadata": {
      "needs_background": "light"
     },
     "output_type": "display_data"
    }
   ],
   "source": [
    "# pick 30 random boxes\n",
    "\n",
    "random_30 = []\n",
    "for i in range(30):\n",
    "    random_30.append(random.choice(boxes))\n",
    "    \n",
    "boxes30 = gpd.GeoDataFrame(geometry=random_30)\n",
    "boxes30.plot();    "
   ]
  },
  {
   "cell_type": "code",
   "execution_count": 24,
   "metadata": {},
   "outputs": [],
   "source": [
    "minx, miny, maxx, maxy = boxes[0].bounds\n",
    "x, y = minx + 1250 , miny + 1250"
   ]
  },
  {
   "cell_type": "code",
   "execution_count": 52,
   "metadata": {},
   "outputs": [],
   "source": [
    "boxes_points = dict()\n",
    "points = list()\n",
    "for i, box in enumerate(boxes):\n",
    "    minx, miny, maxx, maxy = box.bounds\n",
    "    x, y = minx + 1250 , miny + 1250\n",
    "    boxes_points[i+1] = (x,y)\n",
    "    points.append(Point(x,y))\n",
    "    "
   ]
  },
  {
   "cell_type": "code",
   "execution_count": 55,
   "metadata": {},
   "outputs": [
    {
     "data": {
      "image/png": "[encoded data removed]",
      "text/plain": [
       "<Figure size 432x288 with 1 Axes>"
      ]
     },
     "metadata": {
      "needs_background": "light"
     },
     "output_type": "display_data"
    }
   ],
   "source": [
    "points_gdf = gpd.GeoDataFrame(geometry=[points[0],points[1],points[11],points[22]])\n",
    "points_gdf.plot(); "
   ]
  },
  {
   "cell_type": "code",
   "execution_count": 38,
   "metadata": {},
   "outputs": [],
   "source": [
    "\n",
    "#json.dumps(boxes_points)\n",
    "\n",
    "with open('boxes_point.json','w') as f:\n",
    "    json.dump(boxes_points, f)\n",
    "    \n",
    "\n"
   ]
  },
  {
   "cell_type": "code",
   "execution_count": 43,
   "metadata": {},
   "outputs": [],
   "source": [
    "with open('boxes_point.json', 'r') as f:\n",
    "    loaded_from_file = json.load(f)"
   ]
  },
  {
   "cell_type": "code",
   "execution_count": 50,
   "metadata": {},
   "outputs": [
    {
     "data": {
      "text/plain": [
       "list"
      ]
     },
     "execution_count": 50,
     "metadata": {},
     "output_type": "execute_result"
    }
   ],
   "source": [
    "type(loaded_from_file['1'])"
   ]
  },
  {
   "cell_type": "markdown",
   "metadata": {},
   "source": [
    "# 2 - Create a Geoseries of the CSV file"
   ]
  },
  {
   "cell_type": "code",
   "execution_count": 45,
   "metadata": {},
   "outputs": [],
   "source": [
    "# set path of the train dataset\n",
    "trainpath = '/Users/pedrojunqueira/Desktop/train'"
   ]
  },
  {
   "cell_type": "code",
   "execution_count": 46,
   "metadata": {},
   "outputs": [
    {
     "data": {
      "text/plain": [
       "1863"
      ]
     },
     "execution_count": 46,
     "metadata": {},
     "output_type": "execute_result"
    }
   ],
   "source": [
    "# create a list with the id of the stamps\n",
    "trainids = os.listdir(trainpath)\n",
    "len(trainids)"
   ]
  },
  {
   "cell_type": "code",
   "execution_count": 47,
   "metadata": {},
   "outputs": [],
   "source": [
    "commodity = 'commodities.csv'"
   ]
  },
  {
   "cell_type": "code",
   "execution_count": 48,
   "metadata": {},
   "outputs": [
    {
     "data": {
      "image/png": "[encoded data removed]",
      "text/plain": [
       "<Figure size 432x288 with 1 Axes>"
      ]
     },
     "metadata": {
      "needs_background": "light"
     },
     "output_type": "display_data"
    }
   ],
   "source": [
    "#deps = pd.read_csv(os.path.join(trainpath,trainids[0],commodity))\n",
    "deps = pd.read_csv(os.path.join(trainpath,\"47763108\",commodity))\n",
    "geometry = deps.apply(lambda row: Point(row['x'],row['y']), axis=1)\n",
    "deps = gpd.GeoDataFrame(deps, geometry=geometry)\n",
    "deps.plot();\n"
   ]
  },
  {
   "cell_type": "code",
   "execution_count": 49,
   "metadata": {},
   "outputs": [
    {
     "data": {
      "text/html": [
       "<div>\n",
       "<style scoped>\n",
       "    .dataframe tbody tr th:only-of-type {\n",
       "        vertical-align: middle;\n",
       "    }\n",
       "\n",
       "    .dataframe tbody tr th {\n",
       "        vertical-align: top;\n",
       "    }\n",
       "\n",
       "    .dataframe thead th {\n",
       "        text-align: right;\n",
       "    }\n",
       "</style>\n",
       "<table border=\"1\" class=\"dataframe\">\n",
       "  <thead>\n",
       "    <tr style=\"text-align: right;\">\n",
       "      <th></th>\n",
       "      <th>stamp_id</th>\n",
       "      <th>x</th>\n",
       "      <th>y</th>\n",
       "      <th>commodity</th>\n",
       "      <th>geometry</th>\n",
       "    </tr>\n",
       "  </thead>\n",
       "  <tbody>\n",
       "    <tr>\n",
       "      <th>0</th>\n",
       "      <td>47763108</td>\n",
       "      <td>-2943.373687</td>\n",
       "      <td>-4448.565017</td>\n",
       "      <td>Cu</td>\n",
       "      <td>POINT (-2943.374 -4448.565)</td>\n",
       "    </tr>\n",
       "    <tr>\n",
       "      <th>1</th>\n",
       "      <td>47763108</td>\n",
       "      <td>-3038.769050</td>\n",
       "      <td>-3378.388389</td>\n",
       "      <td>Zn;Pb</td>\n",
       "      <td>POINT (-3038.769 -3378.388)</td>\n",
       "    </tr>\n",
       "    <tr>\n",
       "      <th>2</th>\n",
       "      <td>47763108</td>\n",
       "      <td>5869.865673</td>\n",
       "      <td>-12416.639513</td>\n",
       "      <td>Mn</td>\n",
       "      <td>POINT (5869.866 -12416.640)</td>\n",
       "    </tr>\n",
       "    <tr>\n",
       "      <th>3</th>\n",
       "      <td>47763108</td>\n",
       "      <td>5772.979969</td>\n",
       "      <td>-12067.019114</td>\n",
       "      <td>Mn</td>\n",
       "      <td>POINT (5772.980 -12067.019)</td>\n",
       "    </tr>\n",
       "  </tbody>\n",
       "</table>\n",
       "</div>"
      ],
      "text/plain": [
       "   stamp_id            x             y commodity                     geometry\n",
       "0  47763108 -2943.373687  -4448.565017        Cu  POINT (-2943.374 -4448.565)\n",
       "1  47763108 -3038.769050  -3378.388389     Zn;Pb  POINT (-3038.769 -3378.388)\n",
       "2  47763108  5869.865673 -12416.639513        Mn  POINT (5869.866 -12416.640)\n",
       "3  47763108  5772.979969 -12067.019114        Mn  POINT (5772.980 -12067.019)"
      ]
     },
     "execution_count": 49,
     "metadata": {},
     "output_type": "execute_result"
    }
   ],
   "source": [
    "deps"
   ]
  },
  {
   "cell_type": "code",
   "execution_count": 50,
   "metadata": {},
   "outputs": [
    {
     "name": "stdout",
     "output_type": "stream",
     "text": [
      "in box (-5000.0, -5000.0, -2500.0, -2500.0) there are 2 deposits\n",
      "in box (5000.0, -12500.0, 7500.0, -10000.0) there are 2 deposits\n"
     ]
    },
    {
     "data": {
      "image/png": "[encoded data removed]",
      "text/plain": [
       "<Figure size 432x288 with 1 Axes>"
      ]
     },
     "metadata": {
      "needs_background": "light"
     },
     "output_type": "display_data"
    }
   ],
   "source": [
    "boxes_with_deposit = []\n",
    "box_number = []\n",
    "for i, box in enumerate(boxes):\n",
    "    if deps['geometry'].within(box).sum():\n",
    "        print(f'in box {box.bounds} there are {deps[\"geometry\"].within(box).sum()} deposits')\n",
    "        boxes_with_deposit.append(box)\n",
    "        box_number.append(i+1)\n",
    "        \n",
    "boxesframe = gpd.GeoDataFrame(geometry=boxes_with_deposit)\n",
    "boxesframe.plot();        "
   ]
  },
  {
   "cell_type": "code",
   "execution_count": 51,
   "metadata": {},
   "outputs": [
    {
     "data": {
      "text/plain": [
       "[37, 80]"
      ]
     },
     "execution_count": 51,
     "metadata": {},
     "output_type": "execute_result"
    }
   ],
   "source": [
    "box_number"
   ]
  },
  {
   "cell_type": "markdown",
   "metadata": {},
   "source": [
    "# 3 - create a stamp map dictionary"
   ]
  },
  {
   "cell_type": "code",
   "execution_count": 52,
   "metadata": {
    "scrolled": false
   },
   "outputs": [
    {
     "name": "stdout",
     "output_type": "stream",
     "text": [
      "0/1863 processed...\n",
      "100/1863 processed...\n",
      "200/1863 processed...\n",
      "300/1863 processed...\n",
      "400/1863 processed...\n",
      "500/1863 processed...\n",
      "600/1863 processed...\n",
      "700/1863 processed...\n",
      "800/1863 processed...\n",
      "900/1863 processed...\n",
      "1000/1863 processed...\n",
      "1100/1863 processed...\n",
      "1200/1863 processed...\n",
      "1300/1863 processed...\n",
      "1400/1863 processed...\n",
      "1500/1863 processed...\n",
      "1600/1863 processed...\n",
      "1700/1863 processed...\n",
      "1800/1863 processed...\n",
      "1863/1863 processed...\n",
      "this cell ran in 46.85 minutes and 51\n"
     ]
    }
   ],
   "source": [
    "start = datetime.now()\n",
    "\n",
    "\n",
    "# import stamp geodataframe path\n",
    "stamps_data = '../data/stamp_locations.geo.json'\n",
    "# create geodataframe objects\n",
    "stamps = gpd.read_file(stamps_data)\n",
    "\n",
    "commodity_path = 'commodities.csv'\n",
    "\n",
    "stamp_map = dict()\n",
    "for n, train_i in enumerate(trainids):\n",
    "    deps = pd.read_csv(os.path.join(trainpath,train_i,commodity_path))\n",
    "    if deps.shape[0] == 0:\n",
    "        stamp_id = train_i\n",
    "        for i, box in enumerate(boxes):\n",
    "            stamp_map[f'{stamp_id}_{i+1}'] = (i, 'none', 'none',0)\n",
    "    else:\n",
    "        geometry = deps.apply(lambda row: Point(row['x'],row['y']), axis=1)\n",
    "        deps = gpd.GeoDataFrame(deps, geometry=geometry)\n",
    "        stamp_id = train_i\n",
    "        commodity = stamps[stamps['id']==train_i]['stratification_label'].values[0]\n",
    "        for i, box in enumerate(boxes):\n",
    "            for i, box in enumerate(boxes):\n",
    "                if deps['geometry'].within(box).sum() > 0 :\n",
    "                    dep_label = deps[deps['geometry'].within(box)]['commodity'].values\n",
    "                    dep_label = ';'.join(dep_label)\n",
    "                    dep_label = list(set(dep_label.split(\";\")))\n",
    "                    if len(dep_label) > 1:\n",
    "                        dep_label = commodity\n",
    "                    else:\n",
    "                        dep_label = dep_label[0]\n",
    "                    stamp_map[f'{stamp_id}_{i+1}'] = (i, commodity, dep_label ,deps['geometry'].within(box).sum())\n",
    "                else:\n",
    "                    stamp_map[f'{stamp_id}_{i+1}'] = (i, 'none', 'none',0)\n",
    "    if n%100 == 0:\n",
    "        print(f'{n}/{len(trainids)} processed...')            \n",
    "\n",
    "print(f'{n+1}/{len(trainids)} processed...')     \n",
    "\n",
    "\n",
    "finish = datetime.now()\n",
    "duration = finish - start\n",
    "print(f'this cell ran in {duration.seconds/60} minutes and {duration.seconds%60}')"
   ]
  },
  {
   "cell_type": "code",
   "execution_count": 53,
   "metadata": {},
   "outputs": [
    {
     "data": {
      "text/plain": [
       "dict"
      ]
     },
     "execution_count": 53,
     "metadata": {},
     "output_type": "execute_result"
    }
   ],
   "source": [
    "len(stamp_map)\n",
    "type(stamp_map)\n"
   ]
  },
  {
   "cell_type": "code",
   "execution_count": 54,
   "metadata": {},
   "outputs": [],
   "source": [
    "data_to_df = defaultdict(list)\n",
    "\n",
    "for key, values in stamp_map.items():\n",
    "    data_to_df['stamp_id'].append(key)\n",
    "    _, strat, comm, deps = values\n",
    "    data_to_df['strat'].append(strat)\n",
    "    data_to_df['comm'].append(comm)\n",
    "    data_to_df['deps'].append(deps)\n"
   ]
  },
  {
   "cell_type": "code",
   "execution_count": 39,
   "metadata": {},
   "outputs": [],
   "source": []
  },
  {
   "cell_type": "code",
   "execution_count": 55,
   "metadata": {},
   "outputs": [],
   "source": [
    "df = pd.DataFrame(data_to_df)\n",
    "#df = df.set_index('stamp_id')\n",
    "df.to_csv('/Users/pedrojunqueira/Desktop/explore_australia/MyNBs/tile_features/stamps_label.csv')\n"
   ]
  },
  {
   "cell_type": "code",
   "execution_count": null,
   "metadata": {},
   "outputs": [],
   "source": [
    "# stamp_map = dict()\n",
    "# deps = pd.read_csv(os.path.join(trainpath,trainids[1858],commodity_path))\n",
    "# geometry = deps.apply(lambda row: Point(row['x'],row['y']), axis=1)\n",
    "# deps = gpd.GeoDataFrame(deps, geometry=geometry)\n",
    "# commodity = stamps[stamps['id']==trainids[1858]]['stratification_label'].values[0]\n",
    "# for i, box in enumerate(boxes):\n",
    "#     for i, box in enumerate(boxes):\n",
    "#         if deps['geometry'].within(box).sum() > 0 :\n",
    "#             dep_label = deps[deps['geometry'].within(box)]['commodity'].values\n",
    "#             dep_label = ';'.join(dep_label)\n",
    "#             dep_label = list(set(dep_label.split(\";\")))\n",
    "#             if len(dep_label) > 1:\n",
    "#                 dep_label = commodity\n",
    "#             else:\n",
    "#                 dep_label = dep_label[0]\n",
    "#             stamp_map[f'{stamp_id}_{i+1}'] = (i, commodity, dep_label ,deps['geometry'].within(box).sum())\n",
    "\n",
    "\n"
   ]
  },
  {
   "cell_type": "code",
   "execution_count": null,
   "metadata": {},
   "outputs": [],
   "source": [
    "# stamp_map\n"
   ]
  },
  {
   "cell_type": "markdown",
   "metadata": {},
   "source": [
    "# 4 - Split the raster in small 50x50 "
   ]
  },
  {
   "cell_type": "code",
   "execution_count": 12,
   "metadata": {},
   "outputs": [
    {
     "data": {
      "image/png": "[encoded data removed]",
      "text/plain": [
       "<Figure size 432x288 with 1 Axes>"
      ]
     },
     "metadata": {
      "needs_background": "light"
     },
     "output_type": "display_data"
    }
   ],
   "source": [
    "# now load one raster file of this stamp say bouger_gravity anomaly\n",
    "tif = os.path.join(trainpath,trainids[0],'geophysics/gravity/isostatic_residual_gravity_anomaly.tif')\n",
    "\n",
    "with rasterio.open(tif, 'r') as src:\n",
    "    meta = src.meta\n",
    "    data = src.read(1)\n",
    "\n",
    "plt.imshow(data);   "
   ]
  },
  {
   "cell_type": "code",
   "execution_count": 15,
   "metadata": {},
   "outputs": [],
   "source": [
    "# create a dictionary to extract geophysics file features\n",
    "\n",
    "# open test raster file path\n",
    "target_path = '/Users/pedrojunqueira/Desktop/train/75867950'\n",
    "\n",
    "file_structure = dict()\n",
    "\n",
    "for root, dirs, files in os.walk(target_path):\n",
    "    for name in files:\n",
    "        #print(os.path.join(root, name))\n",
    "        ext = name.split('.')[-1]\n",
    "        filename = name.split('.')[0]\n",
    "        filepath = os.path.join(root, name)\n",
    "        if ext == 'tif':\n",
    "            first = '/'.join(filepath.split('/')[:5])\n",
    "            second = '/'.join(filepath.split('/')[6:])\n",
    "            file_structure[filename] = (first,second)\n",
    "            file_structure[filename] = (first,second)"
   ]
  },
  {
   "cell_type": "code",
   "execution_count": 17,
   "metadata": {},
   "outputs": [
    {
     "name": "stdout",
     "output_type": "stream",
     "text": [
      "thermal_infrared_silica_index ('/Users/pedrojunqueira/Desktop/train', 'remote_sensing/aster/thermal_infrared_silica_index.tif')\n",
      "ferric_oxide_content ('/Users/pedrojunqueira/Desktop/train', 'remote_sensing/aster/ferric_oxide_content.tif')\n",
      "kaolin_group_index ('/Users/pedrojunqueira/Desktop/train', 'remote_sensing/aster/kaolin_group_index.tif')\n",
      "opaque_index ('/Users/pedrojunqueira/Desktop/train', 'remote_sensing/aster/opaque_index.tif')\n",
      "aloh_group_composition ('/Users/pedrojunqueira/Desktop/train', 'remote_sensing/aster/aloh_group_composition.tif')\n",
      "ferrous_iron_content ('/Users/pedrojunqueira/Desktop/train', 'remote_sensing/aster/ferrous_iron_content.tif')\n",
      "mgoh_group_content ('/Users/pedrojunqueira/Desktop/train', 'remote_sensing/aster/mgoh_group_content.tif')\n",
      "aloh_groun_content ('/Users/pedrojunqueira/Desktop/train', 'remote_sensing/aster/aloh_groun_content.tif')\n",
      "thermal_infrared_gypsum_index ('/Users/pedrojunqueira/Desktop/train', 'remote_sensing/aster/thermal_infrared_gypsum_index.tif')\n",
      "ferrous_iron_index ('/Users/pedrojunqueira/Desktop/train', 'remote_sensing/aster/ferrous_iron_index.tif')\n",
      "tir_quartz_index ('/Users/pedrojunqueira/Desktop/train', 'remote_sensing/aster/tir_quartz_index.tif')\n",
      "bouger_gravity_anomaly ('/Users/pedrojunqueira/Desktop/train', 'geophysics/gravity/bouger_gravity_anomaly.tif')\n",
      "isostatic_residual_gravity_anomaly ('/Users/pedrojunqueira/Desktop/train', 'geophysics/gravity/isostatic_residual_gravity_anomaly.tif')\n",
      "total_magnetic_intensity ('/Users/pedrojunqueira/Desktop/train', 'geophysics/magnetics/total_magnetic_intensity.tif')\n",
      "variable_reduction_to_pole ('/Users/pedrojunqueira/Desktop/train', 'geophysics/magnetics/variable_reduction_to_pole.tif')\n",
      "filtered_uranium_ppm ('/Users/pedrojunqueira/Desktop/train', 'geophysics/radiometrics/filtered_uranium_ppm.tif')\n",
      "filtered_potassium_pct ('/Users/pedrojunqueira/Desktop/train', 'geophysics/radiometrics/filtered_potassium_pct.tif')\n",
      "filtered_thorium_ppm ('/Users/pedrojunqueira/Desktop/train', 'geophysics/radiometrics/filtered_thorium_ppm.tif')\n",
      "filtered_terrestrial_dose ('/Users/pedrojunqueira/Desktop/train', 'geophysics/radiometrics/filtered_terrestrial_dose.tif')\n"
     ]
    }
   ],
   "source": [
    "for k, v in file_structure.items():\n",
    "    print(k,v)"
   ]
  },
  {
   "cell_type": "code",
   "execution_count": 42,
   "metadata": {
    "scrolled": true
   },
   "outputs": [
    {
     "name": "stdout",
     "output_type": "stream",
     "text": [
      "processing... thermal_infrared_silica_index\n",
      "0/1863 processed...\n",
      "100/1863 processed...\n",
      "200/1863 processed...\n",
      "300/1863 processed...\n",
      "400/1863 processed...\n",
      "500/1863 processed...\n",
      "600/1863 processed...\n",
      "700/1863 processed...\n",
      "800/1863 processed...\n",
      "900/1863 processed...\n",
      "1000/1863 processed...\n",
      "1100/1863 processed...\n",
      "1200/1863 processed...\n",
      "1300/1863 processed...\n",
      "1400/1863 processed...\n",
      "1500/1863 processed...\n",
      "1600/1863 processed...\n",
      "1700/1863 processed...\n",
      "1800/1863 processed...\n",
      "1863/1863 processed...\n",
      "processing... ferric_oxide_content\n",
      "0/1863 processed...\n",
      "100/1863 processed...\n",
      "200/1863 processed...\n",
      "300/1863 processed...\n",
      "400/1863 processed...\n",
      "500/1863 processed...\n",
      "600/1863 processed...\n",
      "700/1863 processed...\n",
      "800/1863 processed...\n",
      "900/1863 processed...\n",
      "1000/1863 processed...\n",
      "1100/1863 processed...\n",
      "1200/1863 processed...\n",
      "1300/1863 processed...\n",
      "1400/1863 processed...\n",
      "1500/1863 processed...\n",
      "1600/1863 processed...\n",
      "1700/1863 processed...\n",
      "1800/1863 processed...\n",
      "1863/1863 processed...\n",
      "processing... kaolin_group_index\n",
      "0/1863 processed...\n",
      "100/1863 processed...\n",
      "200/1863 processed...\n",
      "300/1863 processed...\n",
      "400/1863 processed...\n",
      "500/1863 processed...\n",
      "600/1863 processed...\n",
      "700/1863 processed...\n",
      "800/1863 processed...\n",
      "900/1863 processed...\n",
      "1000/1863 processed...\n",
      "1100/1863 processed...\n",
      "1200/1863 processed...\n",
      "1300/1863 processed...\n",
      "1400/1863 processed...\n",
      "1500/1863 processed...\n",
      "1600/1863 processed...\n",
      "1700/1863 processed...\n",
      "1800/1863 processed...\n",
      "1863/1863 processed...\n",
      "processing... opaque_index\n",
      "0/1863 processed...\n",
      "100/1863 processed...\n",
      "200/1863 processed...\n",
      "300/1863 processed...\n",
      "400/1863 processed...\n",
      "500/1863 processed...\n",
      "600/1863 processed...\n",
      "700/1863 processed...\n",
      "800/1863 processed...\n",
      "900/1863 processed...\n",
      "1000/1863 processed...\n",
      "1100/1863 processed...\n",
      "1200/1863 processed...\n",
      "1300/1863 processed...\n",
      "1400/1863 processed...\n",
      "1500/1863 processed...\n",
      "1600/1863 processed...\n",
      "1700/1863 processed...\n",
      "1800/1863 processed...\n",
      "1863/1863 processed...\n",
      "processing... aloh_group_composition\n",
      "0/1863 processed...\n",
      "100/1863 processed...\n",
      "200/1863 processed...\n",
      "300/1863 processed...\n",
      "400/1863 processed...\n",
      "500/1863 processed...\n",
      "600/1863 processed...\n",
      "700/1863 processed...\n",
      "800/1863 processed...\n",
      "900/1863 processed...\n",
      "1000/1863 processed...\n",
      "1100/1863 processed...\n",
      "1200/1863 processed...\n",
      "1300/1863 processed...\n",
      "1400/1863 processed...\n",
      "1500/1863 processed...\n",
      "1600/1863 processed...\n",
      "1700/1863 processed...\n",
      "1800/1863 processed...\n",
      "1863/1863 processed...\n",
      "processing... ferrous_iron_content\n",
      "0/1863 processed...\n",
      "100/1863 processed...\n",
      "200/1863 processed...\n",
      "300/1863 processed...\n",
      "400/1863 processed...\n",
      "500/1863 processed...\n",
      "600/1863 processed...\n",
      "700/1863 processed...\n",
      "800/1863 processed...\n",
      "900/1863 processed...\n",
      "1000/1863 processed...\n",
      "1100/1863 processed...\n",
      "1200/1863 processed...\n",
      "1300/1863 processed...\n",
      "1400/1863 processed...\n",
      "1500/1863 processed...\n",
      "1600/1863 processed...\n",
      "1700/1863 processed...\n",
      "1800/1863 processed...\n",
      "1863/1863 processed...\n",
      "processing... mgoh_group_content\n",
      "0/1863 processed...\n",
      "100/1863 processed...\n",
      "200/1863 processed...\n",
      "300/1863 processed...\n",
      "400/1863 processed...\n",
      "500/1863 processed...\n",
      "600/1863 processed...\n",
      "700/1863 processed...\n",
      "800/1863 processed...\n",
      "900/1863 processed...\n",
      "1000/1863 processed...\n",
      "1100/1863 processed...\n",
      "1200/1863 processed...\n",
      "1300/1863 processed...\n",
      "1400/1863 processed...\n",
      "1500/1863 processed...\n",
      "1600/1863 processed...\n",
      "1700/1863 processed...\n",
      "1800/1863 processed...\n",
      "1863/1863 processed...\n",
      "processing... aloh_groun_content\n",
      "0/1863 processed...\n",
      "100/1863 processed...\n",
      "200/1863 processed...\n",
      "300/1863 processed...\n",
      "400/1863 processed...\n",
      "500/1863 processed...\n",
      "600/1863 processed...\n",
      "700/1863 processed...\n",
      "800/1863 processed...\n",
      "900/1863 processed...\n",
      "1000/1863 processed...\n",
      "1100/1863 processed...\n",
      "1200/1863 processed...\n",
      "1300/1863 processed...\n",
      "1400/1863 processed...\n",
      "1500/1863 processed...\n",
      "1600/1863 processed...\n",
      "1700/1863 processed...\n",
      "1800/1863 processed...\n",
      "1863/1863 processed...\n",
      "processing... thermal_infrared_gypsum_index\n",
      "0/1863 processed...\n",
      "100/1863 processed...\n",
      "200/1863 processed...\n",
      "300/1863 processed...\n",
      "400/1863 processed...\n",
      "500/1863 processed...\n",
      "600/1863 processed...\n",
      "700/1863 processed...\n",
      "800/1863 processed...\n",
      "900/1863 processed...\n",
      "1000/1863 processed...\n",
      "1100/1863 processed...\n",
      "1200/1863 processed...\n",
      "1300/1863 processed...\n",
      "1400/1863 processed...\n",
      "1500/1863 processed...\n",
      "1600/1863 processed...\n",
      "1700/1863 processed...\n",
      "1800/1863 processed...\n",
      "1863/1863 processed...\n",
      "processing... ferrous_iron_index\n",
      "0/1863 processed...\n",
      "100/1863 processed...\n",
      "200/1863 processed...\n",
      "300/1863 processed...\n",
      "400/1863 processed...\n",
      "500/1863 processed...\n",
      "600/1863 processed...\n",
      "700/1863 processed...\n",
      "800/1863 processed...\n",
      "900/1863 processed...\n",
      "1000/1863 processed...\n",
      "1100/1863 processed...\n",
      "1200/1863 processed...\n",
      "1300/1863 processed...\n",
      "1400/1863 processed...\n",
      "1500/1863 processed...\n",
      "1600/1863 processed...\n",
      "1700/1863 processed...\n",
      "1800/1863 processed...\n",
      "1863/1863 processed...\n",
      "processing... tir_quartz_index\n",
      "0/1863 processed...\n",
      "100/1863 processed...\n",
      "200/1863 processed...\n",
      "300/1863 processed...\n",
      "400/1863 processed...\n",
      "500/1863 processed...\n",
      "600/1863 processed...\n",
      "700/1863 processed...\n",
      "800/1863 processed...\n",
      "900/1863 processed...\n",
      "1000/1863 processed...\n",
      "1100/1863 processed...\n",
      "1200/1863 processed...\n",
      "1300/1863 processed...\n",
      "1400/1863 processed...\n",
      "1500/1863 processed...\n",
      "1600/1863 processed...\n",
      "1700/1863 processed...\n",
      "1800/1863 processed...\n",
      "1863/1863 processed...\n",
      "processing... bouger_gravity_anomaly\n",
      "0/1863 processed...\n",
      "100/1863 processed...\n",
      "200/1863 processed...\n",
      "300/1863 processed...\n",
      "400/1863 processed...\n",
      "500/1863 processed...\n",
      "600/1863 processed...\n",
      "700/1863 processed...\n",
      "800/1863 processed...\n",
      "900/1863 processed...\n",
      "1000/1863 processed...\n",
      "1100/1863 processed...\n",
      "1200/1863 processed...\n",
      "1300/1863 processed...\n",
      "1400/1863 processed...\n",
      "1500/1863 processed...\n",
      "1600/1863 processed...\n",
      "1700/1863 processed...\n",
      "1800/1863 processed...\n",
      "1863/1863 processed...\n",
      "processing... isostatic_residual_gravity_anomaly\n",
      "0/1863 processed...\n",
      "100/1863 processed...\n",
      "200/1863 processed...\n",
      "300/1863 processed...\n",
      "400/1863 processed...\n",
      "500/1863 processed...\n",
      "600/1863 processed...\n",
      "700/1863 processed...\n",
      "800/1863 processed...\n",
      "900/1863 processed...\n",
      "1000/1863 processed...\n",
      "1100/1863 processed...\n",
      "1200/1863 processed...\n",
      "1300/1863 processed...\n",
      "1400/1863 processed...\n",
      "1500/1863 processed...\n",
      "1600/1863 processed...\n",
      "1700/1863 processed...\n",
      "1800/1863 processed...\n",
      "1863/1863 processed...\n",
      "processing... total_magnetic_intensity\n",
      "0/1863 processed...\n",
      "100/1863 processed...\n",
      "200/1863 processed...\n",
      "300/1863 processed...\n",
      "400/1863 processed...\n",
      "500/1863 processed...\n",
      "600/1863 processed...\n",
      "700/1863 processed...\n",
      "800/1863 processed...\n",
      "900/1863 processed...\n",
      "1000/1863 processed...\n",
      "1100/1863 processed...\n",
      "1200/1863 processed...\n",
      "1300/1863 processed...\n",
      "1400/1863 processed...\n",
      "1500/1863 processed...\n",
      "1600/1863 processed...\n",
      "1700/1863 processed...\n",
      "1800/1863 processed...\n",
      "1863/1863 processed...\n",
      "processing... variable_reduction_to_pole\n",
      "0/1863 processed...\n",
      "100/1863 processed...\n",
      "200/1863 processed...\n",
      "300/1863 processed...\n",
      "400/1863 processed...\n",
      "500/1863 processed...\n",
      "600/1863 processed...\n",
      "700/1863 processed...\n",
      "800/1863 processed...\n",
      "900/1863 processed...\n",
      "1000/1863 processed...\n",
      "1100/1863 processed...\n",
      "1200/1863 processed...\n",
      "1300/1863 processed...\n",
      "1400/1863 processed...\n",
      "1500/1863 processed...\n",
      "1600/1863 processed...\n",
      "1700/1863 processed...\n",
      "1800/1863 processed...\n",
      "1863/1863 processed...\n",
      "processing... filtered_uranium_ppm\n",
      "0/1863 processed...\n",
      "100/1863 processed...\n",
      "200/1863 processed...\n",
      "300/1863 processed...\n",
      "400/1863 processed...\n",
      "500/1863 processed...\n",
      "600/1863 processed...\n",
      "700/1863 processed...\n",
      "800/1863 processed...\n",
      "900/1863 processed...\n",
      "1000/1863 processed...\n",
      "1100/1863 processed...\n",
      "1200/1863 processed...\n",
      "1300/1863 processed...\n",
      "1400/1863 processed...\n",
      "1500/1863 processed...\n",
      "1600/1863 processed...\n",
      "1700/1863 processed...\n",
      "1800/1863 processed...\n",
      "1863/1863 processed...\n",
      "processing... filtered_potassium_pct\n",
      "0/1863 processed...\n",
      "100/1863 processed...\n",
      "200/1863 processed...\n",
      "300/1863 processed...\n",
      "400/1863 processed...\n",
      "500/1863 processed...\n",
      "600/1863 processed...\n",
      "700/1863 processed...\n",
      "800/1863 processed...\n",
      "900/1863 processed...\n",
      "1000/1863 processed...\n",
      "1100/1863 processed...\n",
      "1200/1863 processed...\n",
      "1300/1863 processed...\n",
      "1400/1863 processed...\n",
      "1500/1863 processed...\n",
      "1600/1863 processed...\n",
      "1700/1863 processed...\n"
     ]
    },
    {
     "name": "stdout",
     "output_type": "stream",
     "text": [
      "1800/1863 processed...\n",
      "1863/1863 processed...\n",
      "processing... filtered_thorium_ppm\n",
      "0/1863 processed...\n",
      "100/1863 processed...\n",
      "200/1863 processed...\n",
      "300/1863 processed...\n",
      "400/1863 processed...\n",
      "500/1863 processed...\n",
      "600/1863 processed...\n",
      "700/1863 processed...\n",
      "800/1863 processed...\n",
      "900/1863 processed...\n",
      "1000/1863 processed...\n",
      "1100/1863 processed...\n",
      "1200/1863 processed...\n",
      "1300/1863 processed...\n",
      "1400/1863 processed...\n",
      "1500/1863 processed...\n",
      "1600/1863 processed...\n",
      "1700/1863 processed...\n",
      "1800/1863 processed...\n",
      "1863/1863 processed...\n",
      "processing... filtered_terrestrial_dose\n",
      "0/1863 processed...\n",
      "100/1863 processed...\n",
      "200/1863 processed...\n",
      "300/1863 processed...\n",
      "400/1863 processed...\n",
      "500/1863 processed...\n",
      "600/1863 processed...\n",
      "700/1863 processed...\n",
      "800/1863 processed...\n",
      "900/1863 processed...\n",
      "1000/1863 processed...\n",
      "1100/1863 processed...\n",
      "1200/1863 processed...\n",
      "1300/1863 processed...\n",
      "1400/1863 processed...\n",
      "1500/1863 processed...\n",
      "1600/1863 processed...\n",
      "1700/1863 processed...\n",
      "1800/1863 processed...\n",
      "1863/1863 processed...\n",
      "this cell ran in 153.35 minutes and 21 seconds\n"
     ]
    }
   ],
   "source": [
    "# save tiles data (average value) in a csv\n",
    "start = datetime.now()\n",
    "\n",
    "target_tif = file_structure['isostatic_residual_gravity_anomaly']\n",
    "\n",
    "height = 500\n",
    "width = 500\n",
    "tilesheight = 50\n",
    "tileswidth = 50\n",
    "\n",
    "for key, value in file_structure.items():\n",
    "    tile_mean = list()\n",
    "    tile_id = list()\n",
    "    target_tif = value\n",
    "    print(f'processing... {key}')\n",
    "    for n, train_i in enumerate(trainids):\n",
    "        first, third = target_tif\n",
    "        tif = os.path.join(first,train_i,third)\n",
    "        rows = range(int(height/tilesheight))\n",
    "        cols = range(int(width/tileswidth))\n",
    "        count= 0\n",
    "        for i in rows:\n",
    "            for j in cols:\n",
    "                with rasterio.open(tif, 'r') as src:\n",
    "                    w = src.read(1, window=Window(i*tileswidth, j*tilesheight, 50, 50))\n",
    "                    w_mean = w.mean()\n",
    "                    tile_id.append(f'{train_i}_{count+1}')\n",
    "                    tile_mean.append(w_mean)\n",
    "                    count+=1\n",
    "        if n%100 == 0:\n",
    "            print(f'{n}/{len(trainids)} processed...')            \n",
    "\n",
    "    print(f'{n+1}/{len(trainids)} processed...')\n",
    "    df = pd.DataFrame({'tile_id':tile_id,'mean_':tile_mean})\n",
    "    #csv_name = third.split('/')[-1].split('.')[0]                   \n",
    "    df.to_csv(f'./tile_features/{key}.csv',index=False)                   \n",
    "\n",
    "\n",
    "finish = datetime.now()\n",
    "duration = finish - start\n",
    "if duration.seconds > 60:\n",
    "    print(f'this cell ran in {duration.seconds/60} minutes and {duration.seconds%60} seconds')\n",
    "else:\n",
    "    print(f'this cell ran in {duration.seconds} seconds')"
   ]
  },
  {
   "cell_type": "code",
   "execution_count": 43,
   "metadata": {},
   "outputs": [
    {
     "data": {
      "text/plain": [
       "186300"
      ]
     },
     "execution_count": 43,
     "metadata": {},
     "output_type": "execute_result"
    }
   ],
   "source": [
    "\n",
    "len(tile_mean)\n",
    "len(tile_id)"
   ]
  },
  {
   "cell_type": "code",
   "execution_count": 18,
   "metadata": {},
   "outputs": [
    {
     "name": "stdout",
     "output_type": "stream",
     "text": [
      "0/1863 processed...\n",
      "100/1863 processed...\n",
      "200/1863 processed...\n",
      "300/1863 processed...\n",
      "400/1863 processed...\n",
      "500/1863 processed...\n",
      "600/1863 processed...\n",
      "700/1863 processed...\n",
      "800/1863 processed...\n",
      "900/1863 processed...\n",
      "1000/1863 processed...\n",
      "1100/1863 processed...\n",
      "1200/1863 processed...\n",
      "1300/1863 processed...\n",
      "1400/1863 processed...\n",
      "1500/1863 processed...\n",
      "1600/1863 processed...\n",
      "1700/1863 processed...\n",
      "1800/1863 processed...\n",
      "1863/1863 processed...\n",
      "this cell ran in 57.18333333333333 minutes\n"
     ]
    }
   ],
   "source": [
    "# save tiles data in a list\n",
    "start = datetime.now()\n",
    "\n",
    "target_tif = file_structure['isostatic_residual_gravity_anomaly']\n",
    "\n",
    "height = 500\n",
    "width = 500\n",
    "tilesheight = 50\n",
    "tileswidth = 50\n",
    "\n",
    "tiles_map = dict()\n",
    "for n, train_i in enumerate(trainids):\n",
    "    first, third = target_tif\n",
    "    tif = os.path.join(first,train_i,third)\n",
    "    rows = range(int(height/tilesheight))\n",
    "    cols = range(int(width/tileswidth))\n",
    "    count= 0\n",
    "    for i in rows:\n",
    "        for j in cols:\n",
    "            with rasterio.open(tif, 'r') as src:\n",
    "                w = src.read(1, window=Window(i*tileswidth, j*tilesheight, 50, 50))\n",
    "                col_off = i*tileswidth\n",
    "                row_off = j*tilesheight\n",
    "                tiles_map[f'{train_i}_{count+1}'] = ( w , (col_off,row_off) )\n",
    "                count+=1\n",
    "    if n%100 == 0:\n",
    "        print(f'{n}/{len(trainids)} processed...')            \n",
    "\n",
    "print(f'{n+1}/{len(trainids)} processed...')     \n",
    "\n",
    "\n",
    "finish = datetime.now()\n",
    "duration = finish - start\n",
    "print(f'this cell ran in {duration.seconds/60} minutes')"
   ]
  },
  {
   "cell_type": "code",
   "execution_count": 19,
   "metadata": {},
   "outputs": [
    {
     "name": "stdout",
     "output_type": "stream",
     "text": [
      "186300\n",
      "<class 'dict'>\n"
     ]
    }
   ],
   "source": [
    "\n",
    "print(len(tiles_map))\n",
    "\n",
    "print(type(tiles_map))"
   ]
  },
  {
   "cell_type": "markdown",
   "metadata": {},
   "source": [
    "# 5 - Create a dataset"
   ]
  },
  {
   "cell_type": "code",
   "execution_count": 20,
   "metadata": {},
   "outputs": [],
   "source": [
    "# tuple (['StampID_Box#'], [Tile Data], [Strat_Label], [Commod_Labe1]) \n",
    "\n",
    "\n",
    "box_id = []\n",
    "data = []\n",
    "strat_label = []\n",
    "comm_label = []\n",
    "\n",
    "for key, value in stamp_map.items():\n",
    "    i, strat, comm, _ = value\n",
    "    box_id.append(key)\n",
    "    tile_data = tiles_map.get(key)\n",
    "    d, (_, _ ) = tile_data\n",
    "    data.append(d)\n",
    "    strat_label.append(strat)\n",
    "    comm_label.append(comm)\n",
    "\n",
    "dataset = (np.array(box_id), np.array(data)\n",
    "           ,np.array(strat_label), np.array(comm_label))"
   ]
  },
  {
   "cell_type": "code",
   "execution_count": 21,
   "metadata": {},
   "outputs": [
    {
     "name": "stdout",
     "output_type": "stream",
     "text": [
      "data shape is: (186300, 50, 50)\n"
     ]
    }
   ],
   "source": [
    "stamp_box_id, features, labels, _ = dataset\n",
    "\n",
    "print(f'data shape is: {features.shape}')\n"
   ]
  },
  {
   "cell_type": "code",
   "execution_count": 22,
   "metadata": {},
   "outputs": [
    {
     "data": {
      "text/plain": [
       "186300"
      ]
     },
     "execution_count": 22,
     "metadata": {},
     "output_type": "execute_result"
    }
   ],
   "source": [
    "len(stamp_map)\n"
   ]
  },
  {
   "cell_type": "markdown",
   "metadata": {},
   "source": [
    "# Saving dataset in a HDF5 database - ALL DATA"
   ]
  },
  {
   "cell_type": "code",
   "execution_count": 23,
   "metadata": {},
   "outputs": [],
   "source": [
    "# instatiate db object, open and have write permission\n",
    "db = h5py.File('all_stamps_classes.hdf5', 'w')"
   ]
  },
  {
   "cell_type": "code",
   "execution_count": 24,
   "metadata": {},
   "outputs": [],
   "source": [
    "# create dataset object\n",
    "# define name/key, shape/dimention of the object and datatype \n",
    "data = db.create_dataset(name='features',shape=features.shape,dtype='float' )\n",
    "\n",
    "# to add string to the database need to create a special data type str\n",
    "dt = h5py.special_dtype(vlen=str)\n",
    "\n",
    "# same process to create the dataset for string data\n",
    "stamp_id = db.create_dataset('stamp_id', (len(stamp_box_id),), dtype=dt)\n",
    "label = db.create_dataset('label', (len(labels),), dtype=dt)\n",
    "\n",
    "# stamp_id = db.create_dataset(name='stamp_id',(3121,),dtype=dt )\n",
    "# label = db.create_dataset(name='label',(3121,),dtype=dt )\n"
   ]
  },
  {
   "cell_type": "code",
   "execution_count": 25,
   "metadata": {},
   "outputs": [],
   "source": [
    "# load data in the database\n",
    "\n",
    "data[:,:,:] =  features\n",
    "stamp_id[:] = stamp_box_id\n",
    "label[:] = labels\n"
   ]
  },
  {
   "cell_type": "code",
   "execution_count": 26,
   "metadata": {},
   "outputs": [],
   "source": [
    "# close database\n",
    "db.close()"
   ]
  },
  {
   "cell_type": "code",
   "execution_count": 4,
   "metadata": {},
   "outputs": [],
   "source": [
    "# test if reading data from database\n",
    "db = h5py.File('all_stamps_classes.hdf5', 'r')"
   ]
  },
  {
   "cell_type": "code",
   "execution_count": 5,
   "metadata": {},
   "outputs": [
    {
     "data": {
      "text/plain": [
       "<KeysViewHDF5 ['features', 'label', 'stamp_id']>"
      ]
     },
     "execution_count": 5,
     "metadata": {},
     "output_type": "execute_result"
    }
   ],
   "source": [
    "db.keys()"
   ]
  },
  {
   "cell_type": "code",
   "execution_count": 6,
   "metadata": {},
   "outputs": [
    {
     "data": {
      "text/plain": [
       "'44310191_100'"
      ]
     },
     "execution_count": 6,
     "metadata": {},
     "output_type": "execute_result"
    }
   ],
   "source": [
    "# check if data saved by loading it\n",
    "db['features'][-1]\n",
    "db['label'][-1]\n",
    "db['stamp_id'][-1]"
   ]
  },
  {
   "cell_type": "code",
   "execution_count": 7,
   "metadata": {},
   "outputs": [],
   "source": [
    "# close DB\n",
    "db.close()"
   ]
  },
  {
   "cell_type": "markdown",
   "metadata": {},
   "source": [
    "# Smalle dataset excluding \"none\" deposits"
   ]
  },
  {
   "cell_type": "code",
   "execution_count": null,
   "metadata": {},
   "outputs": [],
   "source": [
    "# tuple (['StampID_Box#'], [Tile Data], [Strat_Label], [Commod_Labe1]) \n",
    "# create a dataset subset with only samples without 'none' deposits\n",
    "\n",
    "\n",
    "box_id = []\n",
    "data = []\n",
    "strat_label = []\n",
    "comm_label = []\n",
    "\n",
    "for key, value in stamp_map.items():\n",
    "    i, strat, comm, _ = value\n",
    "    if strat !='none':\n",
    "        box_id.append(key)\n",
    "        tile_data = tiles_map.get(key)\n",
    "        d, (_, _ ) = tile_data\n",
    "        data.append(d)\n",
    "        strat_label.append(strat)\n",
    "        comm_label.append(comm)\n",
    "\n",
    "dataset_minerals = (np.array(box_id), np.array(data)\n",
    "           ,np.array(strat_label), np.array(comm_label))"
   ]
  },
  {
   "cell_type": "code",
   "execution_count": null,
   "metadata": {},
   "outputs": [],
   "source": [
    "stamp_box_id, features, labels, _ = dataset_minerals"
   ]
  },
  {
   "cell_type": "code",
   "execution_count": null,
   "metadata": {},
   "outputs": [],
   "source": [
    "# inspecting arrays shapes\n",
    "\n",
    "print(f'stamp_box_id shape is: {stamp_box_id.shape} dtype is {stamp_box_id.dtype}')\n",
    "\n",
    "print(f'features shape is: {features.shape}  dtype is {features.dtype}')\n",
    "\n",
    "print(f'labels is: {labels.shape} dtype is {labels.dtype}')"
   ]
  },
  {
   "cell_type": "markdown",
   "metadata": {},
   "source": [
    "# Saving dataset in a HDF5 database"
   ]
  },
  {
   "cell_type": "code",
   "execution_count": null,
   "metadata": {},
   "outputs": [],
   "source": [
    "# instatiate db object, open and have write permission\n",
    "db = h5py.File('deposits_classes.hdf5', 'w')"
   ]
  },
  {
   "cell_type": "code",
   "execution_count": null,
   "metadata": {},
   "outputs": [],
   "source": [
    "# create dataset object\n",
    "# define name/key, shape/dimention of the object and datatype \n",
    "data = db.create_dataset(name='features',shape=features.shape,dtype='float' )\n",
    "\n",
    "# to add string to the database need to create a special data type str\n",
    "dt = h5py.special_dtype(vlen=str)\n",
    "\n",
    "# same process to create the dataset for string data\n",
    "stamp_id = db.create_dataset('stamp_id', (3121,), dtype=dt)\n",
    "label = db.create_dataset('label', (3121,), dtype=dt)\n",
    "\n",
    "# stamp_id = db.create_dataset(name='stamp_id',(3121,),dtype=dt )\n",
    "# label = db.create_dataset(name='label',(3121,),dtype=dt )\n"
   ]
  },
  {
   "cell_type": "code",
   "execution_count": null,
   "metadata": {},
   "outputs": [],
   "source": [
    "# load data in the database\n",
    "\n",
    "data[:,:,:] =  features\n",
    "stamp_id[:] = stamp_box_id\n",
    "label[:] = labels\n"
   ]
  },
  {
   "cell_type": "code",
   "execution_count": null,
   "metadata": {},
   "outputs": [],
   "source": [
    "# close database\n",
    "db.close()"
   ]
  },
  {
   "cell_type": "code",
   "execution_count": null,
   "metadata": {},
   "outputs": [],
   "source": [
    "# test if reading data from database\n",
    "db = h5py.File('deposits_classes.hdf5', 'r')"
   ]
  },
  {
   "cell_type": "code",
   "execution_count": null,
   "metadata": {},
   "outputs": [],
   "source": [
    "db.keys()"
   ]
  },
  {
   "cell_type": "code",
   "execution_count": null,
   "metadata": {},
   "outputs": [],
   "source": [
    "# check if data saved by loading it\n",
    "db['features'][-1]\n",
    "db['label'][-1]\n",
    "db['stamp_id'][-1]"
   ]
  },
  {
   "cell_type": "code",
   "execution_count": null,
   "metadata": {},
   "outputs": [],
   "source": [
    "# close DB\n",
    "db.close()"
   ]
  },
  {
   "cell_type": "markdown",
   "metadata": {},
   "source": [
    "# Plot Boxplot of commodity distribution of mean gravity"
   ]
  },
  {
   "cell_type": "code",
   "execution_count": null,
   "metadata": {},
   "outputs": [],
   "source": [
    "set(strat_label)"
   ]
  },
  {
   "cell_type": "code",
   "execution_count": null,
   "metadata": {},
   "outputs": [],
   "source": [
    "set(comm_label)"
   ]
  },
  {
   "cell_type": "code",
   "execution_count": null,
   "metadata": {},
   "outputs": [],
   "source": [
    "# save data in a dataframe\n",
    "small_box_data = {'id':box_id, 'strat':strat_label, 'comm':comm_label}\n",
    "small_box = pd.DataFrame(small_box_data)\n",
    "small_box"
   ]
  },
  {
   "cell_type": "code",
   "execution_count": null,
   "metadata": {},
   "outputs": [],
   "source": [
    "# sumarize counts grouped by commodity and stratification label\n",
    "small_box.groupby(['strat','comm'])['id'].count()"
   ]
  },
  {
   "cell_type": "code",
   "execution_count": null,
   "metadata": {},
   "outputs": [],
   "source": [
    "\n",
    "small_box['strat'].value_counts(normalize=True)"
   ]
  },
  {
   "cell_type": "markdown",
   "metadata": {},
   "source": [
    "98% of the stamps have no deposits"
   ]
  },
  {
   "cell_type": "code",
   "execution_count": null,
   "metadata": {},
   "outputs": [],
   "source": [
    "small_box['strat'].value_counts()"
   ]
  },
  {
   "cell_type": "code",
   "execution_count": null,
   "metadata": {},
   "outputs": [],
   "source": [
    "data[0].mean()"
   ]
  },
  {
   "cell_type": "code",
   "execution_count": null,
   "metadata": {},
   "outputs": [],
   "source": [
    "# create a mean data columns\n",
    "small_box['mean'] = [i.mean() for i in data]"
   ]
  },
  {
   "cell_type": "code",
   "execution_count": null,
   "metadata": {},
   "outputs": [],
   "source": [
    "small_box"
   ]
  },
  {
   "cell_type": "code",
   "execution_count": null,
   "metadata": {},
   "outputs": [],
   "source": [
    "# plot the distribution of average per commodity\n",
    "# exclude some extreme outliers only 2 datapoints in the none data\n",
    "plotdata = small_box[small_box['mean']<970]\n",
    "fig, ax = plt.subplots( figsize=(15,5))\n",
    "sns.boxplot(x='strat',y='mean',data=plotdata, ax=ax );"
   ]
  },
  {
   "cell_type": "code",
   "execution_count": null,
   "metadata": {},
   "outputs": [],
   "source": [
    "small_box['mean'].std()"
   ]
  },
  {
   "cell_type": "code",
   "execution_count": null,
   "metadata": {},
   "outputs": [],
   "source": [
    "small_box['mean'].mean()"
   ]
  },
  {
   "cell_type": "code",
   "execution_count": null,
   "metadata": {},
   "outputs": [],
   "source": [
    "small_box['mean'].max()"
   ]
  },
  {
   "cell_type": "code",
   "execution_count": null,
   "metadata": {},
   "outputs": [],
   "source": [
    "small_box['mean'].min()"
   ]
  },
  {
   "cell_type": "code",
   "execution_count": null,
   "metadata": {},
   "outputs": [],
   "source": [
    "# plot the chart without none class\n",
    "\n",
    "plotdata = small_box[small_box['strat']!='none']\n",
    "fig, ax = plt.subplots( figsize=(15,5))\n",
    "sns.boxplot(x='strat',y='mean',data=plotdata, ax=ax );"
   ]
  },
  {
   "cell_type": "code",
   "execution_count": null,
   "metadata": {},
   "outputs": [],
   "source": [
    "# plot the chart without none class but for each commodity type\n",
    "\n",
    "plotdata = small_box[small_box['comm']!='none']\n",
    "fig, ax = plt.subplots( figsize=(15,5))\n",
    "sns.boxplot(x='comm',y='mean',data=plotdata, ax=ax );"
   ]
  },
  {
   "cell_type": "code",
   "execution_count": null,
   "metadata": {
    "scrolled": false
   },
   "outputs": [],
   "source": [
    "small_box['comm'].value_counts()"
   ]
  },
  {
   "cell_type": "code",
   "execution_count": null,
   "metadata": {},
   "outputs": [],
   "source": [
    "\n",
    "count=0\n",
    "for i in range(10000*1000):\n",
    "    count+=1\n",
    "    "
   ]
  },
  {
   "cell_type": "code",
   "execution_count": null,
   "metadata": {},
   "outputs": [],
   "source": [
    "duration.seconds"
   ]
  },
  {
   "cell_type": "markdown",
   "metadata": {},
   "source": [
    "# Pre Process Test Dataset"
   ]
  },
  {
   "cell_type": "code",
   "execution_count": 2,
   "metadata": {},
   "outputs": [],
   "source": [
    "# create a dictionary to extract geophysics file features\n",
    "\n",
    "# open test raster file path\n",
    "target_path = '/Users/pedrojunqueira/Desktop/test/00651042'\n",
    "\n",
    "file_structure = dict()\n",
    "\n",
    "for root, dirs, files in os.walk(target_path):\n",
    "    for name in files:\n",
    "        #print(os.path.join(root, name))\n",
    "        ext = name.split('.')[-1]\n",
    "        filename = name.split('.')[0]\n",
    "        filepath = os.path.join(root, name)\n",
    "        if ext == 'tif':\n",
    "            first = '/'.join(filepath.split('/')[:5])\n",
    "            second = '/'.join(filepath.split('/')[6:])\n",
    "            file_structure[filename] = (first,second)\n",
    "            file_structure[filename] = (first,second)"
   ]
  },
  {
   "cell_type": "code",
   "execution_count": 5,
   "metadata": {},
   "outputs": [
    {
     "data": {
      "text/plain": [
       "622"
      ]
     },
     "execution_count": 5,
     "metadata": {},
     "output_type": "execute_result"
    }
   ],
   "source": [
    "# set path of the test dataset\n",
    "testpath = '/Users/pedrojunqueira/Desktop/test'\n",
    "\n",
    "# create a list with the id of the stamps\n",
    "testids = os.listdir(testpath)\n",
    "len(testids)\n"
   ]
  },
  {
   "cell_type": "code",
   "execution_count": 7,
   "metadata": {},
   "outputs": [
    {
     "name": "stdout",
     "output_type": "stream",
     "text": [
      "processing... thermal_infrared_silica_index\n",
      "0/622 processed...\n",
      "100/622 processed...\n",
      "200/622 processed...\n",
      "300/622 processed...\n",
      "400/622 processed...\n",
      "500/622 processed...\n",
      "600/622 processed...\n",
      "622/622 processed...\n",
      "processing... ferric_oxide_content\n",
      "0/622 processed...\n",
      "100/622 processed...\n",
      "200/622 processed...\n",
      "300/622 processed...\n",
      "400/622 processed...\n",
      "500/622 processed...\n",
      "600/622 processed...\n",
      "622/622 processed...\n",
      "processing... kaolin_group_index\n",
      "0/622 processed...\n",
      "100/622 processed...\n",
      "200/622 processed...\n",
      "300/622 processed...\n",
      "400/622 processed...\n",
      "500/622 processed...\n",
      "600/622 processed...\n",
      "622/622 processed...\n",
      "processing... opaque_index\n",
      "0/622 processed...\n",
      "100/622 processed...\n",
      "200/622 processed...\n",
      "300/622 processed...\n",
      "400/622 processed...\n",
      "500/622 processed...\n",
      "600/622 processed...\n",
      "622/622 processed...\n",
      "processing... aloh_group_composition\n",
      "0/622 processed...\n",
      "100/622 processed...\n",
      "200/622 processed...\n",
      "300/622 processed...\n",
      "400/622 processed...\n",
      "500/622 processed...\n",
      "600/622 processed...\n",
      "622/622 processed...\n",
      "processing... ferrous_iron_content\n",
      "0/622 processed...\n",
      "100/622 processed...\n",
      "200/622 processed...\n",
      "300/622 processed...\n",
      "400/622 processed...\n",
      "500/622 processed...\n",
      "600/622 processed...\n",
      "622/622 processed...\n",
      "processing... mgoh_group_content\n",
      "0/622 processed...\n",
      "100/622 processed...\n",
      "200/622 processed...\n",
      "300/622 processed...\n",
      "400/622 processed...\n",
      "500/622 processed...\n",
      "600/622 processed...\n",
      "622/622 processed...\n",
      "processing... aloh_groun_content\n",
      "0/622 processed...\n",
      "100/622 processed...\n",
      "200/622 processed...\n",
      "300/622 processed...\n",
      "400/622 processed...\n",
      "500/622 processed...\n",
      "600/622 processed...\n",
      "622/622 processed...\n",
      "processing... thermal_infrared_gypsum_index\n",
      "0/622 processed...\n",
      "100/622 processed...\n",
      "200/622 processed...\n",
      "300/622 processed...\n",
      "400/622 processed...\n",
      "500/622 processed...\n",
      "600/622 processed...\n",
      "622/622 processed...\n",
      "processing... ferrous_iron_index\n",
      "0/622 processed...\n",
      "100/622 processed...\n",
      "200/622 processed...\n",
      "300/622 processed...\n",
      "400/622 processed...\n",
      "500/622 processed...\n",
      "600/622 processed...\n",
      "622/622 processed...\n",
      "processing... tir_quartz_index\n",
      "0/622 processed...\n",
      "100/622 processed...\n",
      "200/622 processed...\n",
      "300/622 processed...\n",
      "400/622 processed...\n",
      "500/622 processed...\n",
      "600/622 processed...\n",
      "622/622 processed...\n",
      "processing... bouger_gravity_anomaly\n",
      "0/622 processed...\n",
      "100/622 processed...\n",
      "200/622 processed...\n",
      "300/622 processed...\n",
      "400/622 processed...\n",
      "500/622 processed...\n",
      "600/622 processed...\n",
      "622/622 processed...\n",
      "processing... isostatic_residual_gravity_anomaly\n",
      "0/622 processed...\n",
      "100/622 processed...\n",
      "200/622 processed...\n",
      "300/622 processed...\n",
      "400/622 processed...\n",
      "500/622 processed...\n",
      "600/622 processed...\n",
      "622/622 processed...\n",
      "processing... total_magnetic_intensity\n",
      "0/622 processed...\n",
      "100/622 processed...\n",
      "200/622 processed...\n",
      "300/622 processed...\n",
      "400/622 processed...\n",
      "500/622 processed...\n",
      "600/622 processed...\n",
      "622/622 processed...\n",
      "processing... variable_reduction_to_pole\n",
      "0/622 processed...\n",
      "100/622 processed...\n",
      "200/622 processed...\n",
      "300/622 processed...\n",
      "400/622 processed...\n",
      "500/622 processed...\n",
      "600/622 processed...\n",
      "622/622 processed...\n",
      "processing... filtered_uranium_ppm\n",
      "0/622 processed...\n",
      "100/622 processed...\n",
      "200/622 processed...\n",
      "300/622 processed...\n",
      "400/622 processed...\n",
      "500/622 processed...\n",
      "600/622 processed...\n",
      "622/622 processed...\n",
      "processing... filtered_potassium_pct\n",
      "0/622 processed...\n",
      "100/622 processed...\n",
      "200/622 processed...\n",
      "300/622 processed...\n",
      "400/622 processed...\n",
      "500/622 processed...\n",
      "600/622 processed...\n",
      "622/622 processed...\n",
      "processing... filtered_thorium_ppm\n",
      "0/622 processed...\n",
      "100/622 processed...\n",
      "200/622 processed...\n",
      "300/622 processed...\n",
      "400/622 processed...\n",
      "500/622 processed...\n",
      "600/622 processed...\n",
      "622/622 processed...\n",
      "processing... filtered_terrestrial_dose\n",
      "0/622 processed...\n",
      "100/622 processed...\n",
      "200/622 processed...\n",
      "300/622 processed...\n",
      "400/622 processed...\n",
      "500/622 processed...\n",
      "600/622 processed...\n",
      "622/622 processed...\n",
      "this cell ran in 36.483333333333334 minutes and 29 seconds\n"
     ]
    }
   ],
   "source": [
    "# save tiles data (average value) in a csv\n",
    "start = datetime.now()\n",
    "\n",
    "height = 500\n",
    "width = 500\n",
    "tilesheight = 50\n",
    "tileswidth = 50\n",
    "\n",
    "for key, value in file_structure.items():\n",
    "    tile_mean = list()\n",
    "    tile_id = list()\n",
    "    target_tif = value\n",
    "    print(f'processing... {key}')\n",
    "    for n, test_i in enumerate(testids):\n",
    "        first, third = target_tif\n",
    "        tif = os.path.join(first,test_i,third)\n",
    "        rows = range(int(height/tilesheight))\n",
    "        cols = range(int(width/tileswidth))\n",
    "        count= 0\n",
    "        for i in rows:\n",
    "            for j in cols:\n",
    "                with rasterio.open(tif, 'r') as src:\n",
    "                    w = src.read(1, window=Window(i*tileswidth, j*tilesheight, 50, 50))\n",
    "                    w_mean = w.mean()\n",
    "                    tile_id.append(f'{test_i}_{count+1}')\n",
    "                    tile_mean.append(w_mean)\n",
    "                    count+=1\n",
    "        if n%100 == 0:\n",
    "            print(f'{n}/{len(testids)} processed...')            \n",
    "\n",
    "    print(f'{n+1}/{len(testids)} processed...')\n",
    "    df = pd.DataFrame({'tile_id':tile_id,'mean_':tile_mean})\n",
    "    df.to_csv(f'./tile_features/{key}_test.csv',index=False)                   \n",
    "\n",
    "\n",
    "finish = datetime.now()\n",
    "duration = finish - start\n",
    "if duration.seconds > 60:\n",
    "    print(f'this cell ran in {duration.seconds/60} minutes and {duration.seconds%60} seconds')\n",
    "else:\n",
    "    print(f'this cell ran in {duration.seconds} seconds')"
   ]
  },
  {
   "cell_type": "code",
   "execution_count": null,
   "metadata": {},
   "outputs": [],
   "source": []
  }
 ],
 "metadata": {
  "kernelspec": {
   "display_name": "Python 3",
   "language": "python",
   "name": "python3"
  },
  "language_info": {
   "codemirror_mode": {
    "name": "ipython",
    "version": 3
   },
   "file_extension": ".py",
   "mimetype": "text/x-python",
   "name": "python",
   "nbconvert_exporter": "python",
   "pygments_lexer": "ipython3",
   "version": "3.7.6"
  }
 },
 "nbformat": 4,
 "nbformat_minor": 4
}
