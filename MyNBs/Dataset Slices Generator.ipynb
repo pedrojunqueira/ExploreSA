{
 "cells": [
  {
   "cell_type": "markdown",
   "metadata": {},
   "source": [
    "# Create a dataset of small boxes of the original stamp\n",
    "\n",
    "The aim of this notebook is to slice the stamp into small regions of 2,500x2,500 m instead of 25kmx25km.\n",
    "\n",
    "It means that the original stamp will be sliced into 100 smaller stamps\n",
    "\n",
    "the steps are\n",
    "\n",
    "    1 - Create a template box shapely Poligon of 100 boxes\n",
    "    2 - From the CSV for of each stamp create a gpd series with the shapely Point coordinates\n",
    "    3 - From 1 and 2 create a stamp map dictionary { 'StampID_Box#': (boxnumber, \"commodity\", number of deposits)\n",
    "    4 - Split the raster in small 50x50 files from a original 500x500\n",
    "    5 - Create a dataset tuple of lists ( list, list, list) being (['StampID_Box#'], [Tile Data], [Labe11], [Labe12]) \n",
    "    "
   ]
  },
  {
   "cell_type": "code",
   "execution_count": 1,
   "metadata": {},
   "outputs": [],
   "source": [
    "# import packages\n",
    "\n",
    "\n",
    "import numpy as np\n",
    "import os\n",
    "import rasterio\n",
    "import geopandas as gpd\n",
    "import pandas as pd\n",
    "from collections import defaultdict\n",
    "from pathlib import Path\n",
    "from shapely.geometry import Point\n",
    "from shapely.geometry import Polygon\n",
    "from pathlib import Path\n",
    "import rasterio\n",
    "%matplotlib inline\n",
    "import matplotlib.pyplot as plt\n",
    "from rasterio.windows import Window\n",
    "from explore_australia.reprojection import reproject\n",
    "from shapely.geometry import Point\n",
    "\n",
    "from explore_australia.utilities import omerc_projection\n",
    "from explore_australia.geometry import make_stamp\n",
    "\n",
    "from rasterio.mask import mask\n",
    "from numpy import nan, nanquantile\n",
    "\n",
    "import matplotlib.pyplot as plt\n",
    "import seaborn as sns\n",
    "%matplotlib inline\n",
    "import random\n",
    "import h5py\n",
    "from datetime import datetime"
   ]
  },
  {
   "cell_type": "markdown",
   "metadata": {},
   "source": [
    "# 1 - BOX template for stamp"
   ]
  },
  {
   "cell_type": "code",
   "execution_count": 2,
   "metadata": {},
   "outputs": [],
   "source": [
    "# create a range from -12500 to 12500 which is the x coordinates of the stamp in meters \n",
    "start = -12500\n",
    "xs = [start]\n",
    "\n",
    "for i in range(10):\n",
    "    start+= 2500\n",
    "    xs.append(start)\n",
    "    \n",
    "# create a range from -12500 to 12500 which is the y coordinates of the stamp in meters \n",
    "start = 12500\n",
    "ys = [start]\n",
    "\n",
    "for i in range(10):\n",
    "    start -= 2500\n",
    "    ys.append(start)\n",
    "    \n",
    "# create a list of tuples of the coors of stamp boxes from bottom to top from left to right\n",
    "coords = list()\n",
    "for i in xs:\n",
    "    for j in ys:\n",
    "        coords.append((i,j))\n",
    "        \n",
    "\n",
    "# create the 100 shape files\n",
    "nobox = [10,21,32,43,54,65,76,87,98]\n",
    "boxes = []\n",
    "for i in range(109):\n",
    "    if i in nobox:\n",
    "        continue\n",
    "    else:\n",
    "        box = Polygon([coords[i+1], coords[i+12], coords[i+11], coords[i]])\n",
    "        boxes.append(box)\n",
    "\n",
    "    "
   ]
  },
  {
   "cell_type": "code",
   "execution_count": 3,
   "metadata": {},
   "outputs": [
    {
     "data": {
      "text/plain": [
       "100"
      ]
     },
     "execution_count": 3,
     "metadata": {},
     "output_type": "execute_result"
    }
   ],
   "source": [
    "len(boxes)"
   ]
  },
  {
   "cell_type": "code",
   "execution_count": 4,
   "metadata": {},
   "outputs": [
    {
     "data": {
      "image/png": "[encoded data removed]",
      "text/plain": [
       "<Figure size 432x288 with 1 Axes>"
      ]
     },
     "metadata": {
      "needs_background": "light"
     },
     "output_type": "display_data"
    }
   ],
   "source": [
    "# pick 30 random boxes\n",
    "\n",
    "random_30 = []\n",
    "for i in range(30):\n",
    "    random_30.append(random.choice(boxes))\n",
    "    \n",
    "boxes30 = gpd.GeoDataFrame(geometry=random_30)\n",
    "boxes30.plot();    "
   ]
  },
  {
   "cell_type": "markdown",
   "metadata": {},
   "source": [
    "# 2 - Create a Geoseries of the CSV file"
   ]
  },
  {
   "cell_type": "code",
   "execution_count": 5,
   "metadata": {},
   "outputs": [],
   "source": [
    "# set path of the train dataset\n",
    "trainpath = '/Users/pedrojunqueira/Desktop/train'"
   ]
  },
  {
   "cell_type": "code",
   "execution_count": 6,
   "metadata": {},
   "outputs": [
    {
     "data": {
      "text/plain": [
       "1863"
      ]
     },
     "execution_count": 6,
     "metadata": {},
     "output_type": "execute_result"
    }
   ],
   "source": [
    "# create a list with the id of the stamps\n",
    "trainids = os.listdir(trainpath)\n",
    "len(trainids)"
   ]
  },
  {
   "cell_type": "code",
   "execution_count": 7,
   "metadata": {},
   "outputs": [],
   "source": [
    "commodity = 'commodities.csv'"
   ]
  },
  {
   "cell_type": "code",
   "execution_count": 8,
   "metadata": {},
   "outputs": [
    {
     "data": {
      "image/png": "[encoded data removed]",
      "text/plain": [
       "<Figure size 432x288 with 1 Axes>"
      ]
     },
     "metadata": {
      "needs_background": "light"
     },
     "output_type": "display_data"
    }
   ],
   "source": [
    "#deps = pd.read_csv(os.path.join(trainpath,trainids[0],commodity))\n",
    "deps = pd.read_csv(os.path.join(trainpath,\"47763108\",commodity))\n",
    "geometry = deps.apply(lambda row: Point(row['x'],row['y']), axis=1)\n",
    "deps = gpd.GeoDataFrame(deps, geometry=geometry)\n",
    "deps.plot();\n"
   ]
  },
  {
   "cell_type": "code",
   "execution_count": 9,
   "metadata": {},
   "outputs": [
    {
     "data": {
      "text/html": [
       "<div>\n",
       "<style scoped>\n",
       "    .dataframe tbody tr th:only-of-type {\n",
       "        vertical-align: middle;\n",
       "    }\n",
       "\n",
       "    .dataframe tbody tr th {\n",
       "        vertical-align: top;\n",
       "    }\n",
       "\n",
       "    .dataframe thead th {\n",
       "        text-align: right;\n",
       "    }\n",
       "</style>\n",
       "<table border=\"1\" class=\"dataframe\">\n",
       "  <thead>\n",
       "    <tr style=\"text-align: right;\">\n",
       "      <th></th>\n",
       "      <th>stamp_id</th>\n",
       "      <th>x</th>\n",
       "      <th>y</th>\n",
       "      <th>commodity</th>\n",
       "      <th>geometry</th>\n",
       "    </tr>\n",
       "  </thead>\n",
       "  <tbody>\n",
       "    <tr>\n",
       "      <th>0</th>\n",
       "      <td>47763108</td>\n",
       "      <td>-2943.373687</td>\n",
       "      <td>-4448.565017</td>\n",
       "      <td>Cu</td>\n",
       "      <td>POINT (-2943.374 -4448.565)</td>\n",
       "    </tr>\n",
       "    <tr>\n",
       "      <th>1</th>\n",
       "      <td>47763108</td>\n",
       "      <td>-3038.769050</td>\n",
       "      <td>-3378.388389</td>\n",
       "      <td>Zn;Pb</td>\n",
       "      <td>POINT (-3038.769 -3378.388)</td>\n",
       "    </tr>\n",
       "    <tr>\n",
       "      <th>2</th>\n",
       "      <td>47763108</td>\n",
       "      <td>5869.865673</td>\n",
       "      <td>-12416.639513</td>\n",
       "      <td>Mn</td>\n",
       "      <td>POINT (5869.866 -12416.640)</td>\n",
       "    </tr>\n",
       "    <tr>\n",
       "      <th>3</th>\n",
       "      <td>47763108</td>\n",
       "      <td>5772.979969</td>\n",
       "      <td>-12067.019114</td>\n",
       "      <td>Mn</td>\n",
       "      <td>POINT (5772.980 -12067.019)</td>\n",
       "    </tr>\n",
       "  </tbody>\n",
       "</table>\n",
       "</div>"
      ],
      "text/plain": [
       "   stamp_id            x             y commodity                     geometry\n",
       "0  47763108 -2943.373687  -4448.565017        Cu  POINT (-2943.374 -4448.565)\n",
       "1  47763108 -3038.769050  -3378.388389     Zn;Pb  POINT (-3038.769 -3378.388)\n",
       "2  47763108  5869.865673 -12416.639513        Mn  POINT (5869.866 -12416.640)\n",
       "3  47763108  5772.979969 -12067.019114        Mn  POINT (5772.980 -12067.019)"
      ]
     },
     "execution_count": 9,
     "metadata": {},
     "output_type": "execute_result"
    }
   ],
   "source": [
    "deps"
   ]
  },
  {
   "cell_type": "code",
   "execution_count": 10,
   "metadata": {},
   "outputs": [
    {
     "name": "stdout",
     "output_type": "stream",
     "text": [
      "in box (-5000.0, -5000.0, -2500.0, -2500.0) there are 2 deposits\n",
      "in box (5000.0, -12500.0, 7500.0, -10000.0) there are 2 deposits\n"
     ]
    },
    {
     "data": {
      "image/png": "[encoded data removed]",
      "text/plain": [
       "<Figure size 432x288 with 1 Axes>"
      ]
     },
     "metadata": {
      "needs_background": "light"
     },
     "output_type": "display_data"
    }
   ],
   "source": [
    "boxes_with_deposit = []\n",
    "box_number = []\n",
    "for i, box in enumerate(boxes):\n",
    "    if deps['geometry'].within(box).sum():\n",
    "        print(f'in box {box.bounds} there are {deps[\"geometry\"].within(box).sum()} deposits')\n",
    "        boxes_with_deposit.append(box)\n",
    "        box_number.append(i+1)\n",
    "        \n",
    "boxesframe = gpd.GeoDataFrame(geometry=boxes_with_deposit)\n",
    "boxesframe.plot();        "
   ]
  },
  {
   "cell_type": "code",
   "execution_count": 11,
   "metadata": {},
   "outputs": [
    {
     "data": {
      "text/plain": [
       "[37, 80]"
      ]
     },
     "execution_count": 11,
     "metadata": {},
     "output_type": "execute_result"
    }
   ],
   "source": [
    "box_number"
   ]
  },
  {
   "cell_type": "markdown",
   "metadata": {},
   "source": [
    "# 3 - create a stamp map dictionary"
   ]
  },
  {
   "cell_type": "code",
   "execution_count": 12,
   "metadata": {
    "scrolled": true
   },
   "outputs": [
    {
     "name": "stdout",
     "output_type": "stream",
     "text": [
      "0/1863 processed...\n",
      "100/1863 processed...\n",
      "200/1863 processed...\n",
      "300/1863 processed...\n",
      "400/1863 processed...\n",
      "500/1863 processed...\n",
      "600/1863 processed...\n",
      "700/1863 processed...\n",
      "800/1863 processed...\n",
      "900/1863 processed...\n",
      "1000/1863 processed...\n",
      "1100/1863 processed...\n",
      "1200/1863 processed...\n",
      "1300/1863 processed...\n",
      "1400/1863 processed...\n",
      "1500/1863 processed...\n",
      "1600/1863 processed...\n",
      "1700/1863 processed...\n",
      "1800/1863 processed...\n",
      "1862/1863 processed...\n"
     ]
    }
   ],
   "source": [
    "start = datetime.now()\n",
    "\n",
    "\n",
    "# import stamp geodataframe path\n",
    "stamps_data = '../data/stamp_locations.geo.json'\n",
    "# create geodataframe objects\n",
    "stamps = gpd.read_file(stamps_data)\n",
    "\n",
    "commodity_path = 'commodities.csv'\n",
    "\n",
    "stamp_map = dict()\n",
    "for n, train_i in enumerate(trainids):\n",
    "    deps = pd.read_csv(os.path.join(trainpath,train_i,commodity_path))\n",
    "    if deps.shape[0] == 0:\n",
    "        stamp_id = train_i\n",
    "        for i, box in enumerate(boxes):\n",
    "            stamp_map[f'{stamp_id}_{i+1}'] = (i, 'none', 'none',0)\n",
    "    else:\n",
    "        geometry = deps.apply(lambda row: Point(row['x'],row['y']), axis=1)\n",
    "        deps = gpd.GeoDataFrame(deps, geometry=geometry)\n",
    "        stamp_id = train_i\n",
    "        commodity = stamps[stamps['id']==train_i]['stratification_label'].values[0]\n",
    "        for i, box in enumerate(boxes):\n",
    "            for i, box in enumerate(boxes):\n",
    "                if deps['geometry'].within(box).sum() > 0 :\n",
    "                    dep_label = deps[deps['geometry'].within(box)]['commodity'].values\n",
    "                    dep_label = ';'.join(dep_label)\n",
    "                    dep_label = list(set(dep_label.split(\";\")))\n",
    "                    if len(dep_label) > 1:\n",
    "                        dep_label = commodity\n",
    "                    else:\n",
    "                        dep_label = dep_label[0]\n",
    "                    stamp_map[f'{stamp_id}_{i+1}'] = (i, commodity, dep_label ,deps['geometry'].within(box).sum())\n",
    "                else:\n",
    "                    stamp_map[f'{stamp_id}_{i+1}'] = (i, 'none', 'none',0)\n",
    "    if n%100 == 0:\n",
    "        print(f'{n}/{len(trainids)} processed...')            \n",
    "\n",
    "print(f'{n+1}/{len(trainids)} processed...')     \n",
    "\n",
    "\n",
    "finish = datetime.now()\n",
    "duration = finish - start\n",
    "print(f'this cell ran in {duration.seconds} seconds')"
   ]
  },
  {
   "cell_type": "code",
   "execution_count": 142,
   "metadata": {},
   "outputs": [
    {
     "data": {
      "text/plain": [
       "tuple"
      ]
     },
     "execution_count": 142,
     "metadata": {},
     "output_type": "execute_result"
    }
   ],
   "source": [
    "len(stamp_map)\n",
    "type(stamp_map)\n"
   ]
  },
  {
   "cell_type": "code",
   "execution_count": null,
   "metadata": {},
   "outputs": [],
   "source": [
    "# stamp_map = dict()\n",
    "# deps = pd.read_csv(os.path.join(trainpath,trainids[1858],commodity_path))\n",
    "# geometry = deps.apply(lambda row: Point(row['x'],row['y']), axis=1)\n",
    "# deps = gpd.GeoDataFrame(deps, geometry=geometry)\n",
    "# commodity = stamps[stamps['id']==trainids[1858]]['stratification_label'].values[0]\n",
    "# for i, box in enumerate(boxes):\n",
    "#     for i, box in enumerate(boxes):\n",
    "#         if deps['geometry'].within(box).sum() > 0 :\n",
    "#             dep_label = deps[deps['geometry'].within(box)]['commodity'].values\n",
    "#             dep_label = ';'.join(dep_label)\n",
    "#             dep_label = list(set(dep_label.split(\";\")))\n",
    "#             if len(dep_label) > 1:\n",
    "#                 dep_label = commodity\n",
    "#             else:\n",
    "#                 dep_label = dep_label[0]\n",
    "#             stamp_map[f'{stamp_id}_{i+1}'] = (i, commodity, dep_label ,deps['geometry'].within(box).sum())\n",
    "\n",
    "\n"
   ]
  },
  {
   "cell_type": "code",
   "execution_count": null,
   "metadata": {},
   "outputs": [],
   "source": [
    "# stamp_map\n"
   ]
  },
  {
   "cell_type": "markdown",
   "metadata": {},
   "source": [
    "# 4 - Split the raster in small 50x50 "
   ]
  },
  {
   "cell_type": "code",
   "execution_count": 15,
   "metadata": {},
   "outputs": [
    {
     "data": {
      "image/png": "[encoded data removed]",
      "text/plain": [
       "<Figure size 432x288 with 1 Axes>"
      ]
     },
     "metadata": {
      "needs_background": "light"
     },
     "output_type": "display_data"
    }
   ],
   "source": [
    "# now load one raster file of this stamp say bouger_gravity anomaly\n",
    "tif = os.path.join(trainpath,trainids[0],'geophysics/gravity/isostatic_residual_gravity_anomaly.tif')\n",
    "\n",
    "with rasterio.open(tif, 'r') as src:\n",
    "    meta = src.meta\n",
    "    data = src.read(1)\n",
    "\n",
    "plt.imshow(data);   "
   ]
  },
  {
   "cell_type": "code",
   "execution_count": 16,
   "metadata": {},
   "outputs": [],
   "source": [
    "# create a dictionary to extract geophysics file features\n",
    "\n",
    "# open test raster file path\n",
    "target_path = '/Users/pedrojunqueira/Desktop/train/75867950'\n",
    "\n",
    "file_structure = dict()\n",
    "\n",
    "for root, dirs, files in os.walk(target_path):\n",
    "    for name in files:\n",
    "        #print(os.path.join(root, name))\n",
    "        ext = name.split('.')[-1]\n",
    "        filename = name.split('.')[0]\n",
    "        filepath = os.path.join(root, name)\n",
    "        if ext == 'tif':\n",
    "            first = '/'.join(filepath.split('/')[:5])\n",
    "            second = '/'.join(filepath.split('/')[6:])\n",
    "            file_structure[filename] = (first,second)\n",
    "            file_structure[filename] = (first,second)"
   ]
  },
  {
   "cell_type": "code",
   "execution_count": 17,
   "metadata": {},
   "outputs": [
    {
     "name": "stdout",
     "output_type": "stream",
     "text": [
      "0/1863 processed...\n",
      "100/1863 processed...\n",
      "200/1863 processed...\n",
      "300/1863 processed...\n",
      "400/1863 processed...\n",
      "500/1863 processed...\n",
      "600/1863 processed...\n",
      "700/1863 processed...\n",
      "800/1863 processed...\n",
      "900/1863 processed...\n",
      "1000/1863 processed...\n",
      "1100/1863 processed...\n",
      "1200/1863 processed...\n",
      "1300/1863 processed...\n",
      "1400/1863 processed...\n",
      "1500/1863 processed...\n",
      "1600/1863 processed...\n",
      "1700/1863 processed...\n",
      "1800/1863 processed...\n",
      "1863/1863 processed...\n"
     ]
    }
   ],
   "source": [
    "# save tiles data in a list\n",
    "\n",
    "target_tif = file_structure['isostatic_residual_gravity_anomaly']\n",
    "\n",
    "height = 500\n",
    "width = 500\n",
    "tilesheight = 50\n",
    "tileswidth = 50\n",
    "\n",
    "tiles_map = dict()\n",
    "for n, train_i in enumerate(trainids):\n",
    "    first, third = target_tif\n",
    "    tif = os.path.join(first,train_i,third)\n",
    "    rows = range(int(height/tilesheight))\n",
    "    cols = range(int(width/tileswidth))\n",
    "    count= 0\n",
    "    for i in rows:\n",
    "        for j in cols:\n",
    "            with rasterio.open(tif, 'r') as src:\n",
    "                w = src.read(1, window=Window(i*tileswidth, j*tilesheight, 50, 50))\n",
    "                col_off = i*tileswidth\n",
    "                row_off = j*tilesheight\n",
    "                tiles_map[f'{train_i}_{count+1}'] = ( w , (col_off,row_off) )\n",
    "                count+=1\n",
    "    if n%100 == 0:\n",
    "        print(f'{n}/{len(trainids)} processed...')            \n",
    "\n",
    "print(f'{n+1}/{len(trainids)} processed...')             "
   ]
  },
  {
   "cell_type": "code",
   "execution_count": 18,
   "metadata": {},
   "outputs": [
    {
     "name": "stdout",
     "output_type": "stream",
     "text": [
      "186300\n",
      "<class 'dict'>\n"
     ]
    }
   ],
   "source": [
    "\n",
    "print(len(tiles_map))\n",
    "\n",
    "print(type(tiles_map))"
   ]
  },
  {
   "cell_type": "markdown",
   "metadata": {},
   "source": [
    "# 5 - Create a dataset"
   ]
  },
  {
   "cell_type": "code",
   "execution_count": 19,
   "metadata": {},
   "outputs": [],
   "source": [
    "# tuple (['StampID_Box#'], [Tile Data], [Strat_Label], [Commod_Labe1]) \n",
    "\n",
    "\n",
    "box_id = []\n",
    "data = []\n",
    "strat_label = []\n",
    "comm_label = []\n",
    "\n",
    "for key, value in stamp_map.items():\n",
    "    i, strat, comm, _ = value\n",
    "    box_id.append(key)\n",
    "    tile_data = tiles_map.get(key)\n",
    "    d, (_, _ ) = tile_data\n",
    "    data.append(d)\n",
    "    strat_label.append(strat)\n",
    "    comm_label.append(comm)\n",
    "\n",
    "dataset = (np.array(box_id), np.array(data)\n",
    "           ,np.array(strat_label), np.array(comm_label))"
   ]
  },
  {
   "cell_type": "code",
   "execution_count": 20,
   "metadata": {},
   "outputs": [
    {
     "name": "stdout",
     "output_type": "stream",
     "text": [
      "data shape is: (186300, 50, 50)\n"
     ]
    }
   ],
   "source": [
    "box_id, data ,strat_label, comm_label = dataset\n",
    "\n",
    "print(f'data shape is: {data.shape}')\n"
   ]
  },
  {
   "cell_type": "code",
   "execution_count": 144,
   "metadata": {},
   "outputs": [
    {
     "data": {
      "text/plain": [
       "(0, 'none', 'none', 0)"
      ]
     },
     "execution_count": 144,
     "metadata": {},
     "output_type": "execute_result"
    }
   ],
   "source": [
    "stamp_map['82771002_1']"
   ]
  },
  {
   "cell_type": "code",
   "execution_count": 148,
   "metadata": {},
   "outputs": [
    {
     "data": {
      "text/plain": [
       "186300"
      ]
     },
     "execution_count": 148,
     "metadata": {},
     "output_type": "execute_result"
    }
   ],
   "source": [
    "len(stamp_map)\n"
   ]
  },
  {
   "cell_type": "code",
   "execution_count": 145,
   "metadata": {},
   "outputs": [],
   "source": [
    "# tuple (['StampID_Box#'], [Tile Data], [Strat_Label], [Commod_Labe1]) \n",
    "# create a dataset subset with only samples without 'none' deposits\n",
    "\n",
    "\n",
    "box_id = []\n",
    "data = []\n",
    "strat_label = []\n",
    "comm_label = []\n",
    "\n",
    "for key, value in stamp_map.items():\n",
    "    i, strat, comm, _ = value\n",
    "    if strat !='none':\n",
    "        box_id.append(key)\n",
    "        tile_data = tiles_map.get(key)\n",
    "        d, (_, _ ) = tile_data\n",
    "        data.append(d)\n",
    "        strat_label.append(strat)\n",
    "        comm_label.append(comm)\n",
    "\n",
    "dataset_minerals = (np.array(box_id), np.array(data)\n",
    "           ,np.array(strat_label), np.array(comm_label))"
   ]
  },
  {
   "cell_type": "code",
   "execution_count": 151,
   "metadata": {},
   "outputs": [],
   "source": [
    "stamp_box_id, features, labels, _ = dataset_minerals"
   ]
  },
  {
   "cell_type": "code",
   "execution_count": 155,
   "metadata": {},
   "outputs": [
    {
     "name": "stdout",
     "output_type": "stream",
     "text": [
      "stamp_box_id shape is: (3121,) dtype is <U12\n",
      "features shape is: (3121, 50, 50)  dtype is float32\n",
      "labels is: (3121,) dtype is <U5\n"
     ]
    }
   ],
   "source": [
    "# inspecting arrays shapes\n",
    "\n",
    "print(f'stamp_box_id shape is: {stamp_box_id.shape} dtype is {stamp_box_id.dtype}')\n",
    "\n",
    "print(f'features shape is: {features.shape}  dtype is {features.dtype}')\n",
    "\n",
    "print(f'labels is: {labels.shape} dtype is {labels.dtype}')"
   ]
  },
  {
   "cell_type": "markdown",
   "metadata": {},
   "source": [
    "# Saving dataset in a HDF5 database"
   ]
  },
  {
   "cell_type": "code",
   "execution_count": 213,
   "metadata": {},
   "outputs": [],
   "source": [
    "# instatiate db object, open and have write permission\n",
    "db = h5py.File('deposits_classes.hdf5', 'w')"
   ]
  },
  {
   "cell_type": "code",
   "execution_count": 214,
   "metadata": {},
   "outputs": [],
   "source": [
    "# create dataset object\n",
    "# define name/key, shape/dimention of the object and datatype \n",
    "data = db.create_dataset(name='features',shape=features.shape,dtype='float' )\n",
    "\n",
    "# to add string to the database need to create a special data type str\n",
    "dt = h5py.special_dtype(vlen=str)\n",
    "\n",
    "# same process to create the dataset for string data\n",
    "stamp_id = db.create_dataset('stamp_id', (3121,), dtype=dt)\n",
    "label = db.create_dataset('label', (3121,), dtype=dt)\n",
    "\n",
    "# stamp_id = db.create_dataset(name='stamp_id',(3121,),dtype=dt )\n",
    "# label = db.create_dataset(name='label',(3121,),dtype=dt )\n"
   ]
  },
  {
   "cell_type": "code",
   "execution_count": 219,
   "metadata": {},
   "outputs": [],
   "source": [
    "# load data in the database\n",
    "\n",
    "data[:,:,:] =  features\n",
    "stamp_id[:] = stamp_box_id\n",
    "label[:] = labels\n"
   ]
  },
  {
   "cell_type": "code",
   "execution_count": 220,
   "metadata": {},
   "outputs": [],
   "source": [
    "# close database\n",
    "db.close()"
   ]
  },
  {
   "cell_type": "code",
   "execution_count": 2,
   "metadata": {},
   "outputs": [],
   "source": [
    "# test if reading data from database\n",
    "db = h5py.File('deposits_classes.hdf5', 'r')"
   ]
  },
  {
   "cell_type": "code",
   "execution_count": 3,
   "metadata": {},
   "outputs": [
    {
     "data": {
      "text/plain": [
       "<KeysViewHDF5 ['features', 'label', 'stamp_id']>"
      ]
     },
     "execution_count": 3,
     "metadata": {},
     "output_type": "execute_result"
    }
   ],
   "source": [
    "db.keys()"
   ]
  },
  {
   "cell_type": "code",
   "execution_count": 4,
   "metadata": {},
   "outputs": [
    {
     "data": {
      "text/plain": [
       "'42884730_56'"
      ]
     },
     "execution_count": 4,
     "metadata": {},
     "output_type": "execute_result"
    }
   ],
   "source": [
    "# check if data saved by loading it\n",
    "db['features'][-1]\n",
    "db['label'][-1]\n",
    "db['stamp_id'][-1]"
   ]
  },
  {
   "cell_type": "code",
   "execution_count": 231,
   "metadata": {},
   "outputs": [],
   "source": [
    "# close DB\n",
    "db.close()"
   ]
  },
  {
   "cell_type": "markdown",
   "metadata": {},
   "source": [
    "# Plot Boxplot of commodity distribution of mean gravity"
   ]
  },
  {
   "cell_type": "code",
   "execution_count": 21,
   "metadata": {},
   "outputs": [
    {
     "data": {
      "text/plain": [
       "{'Au', 'Cu', 'Fe', 'PGE', 'Pb', 'none', 'other'}"
      ]
     },
     "execution_count": 21,
     "metadata": {},
     "output_type": "execute_result"
    }
   ],
   "source": [
    "set(strat_label)"
   ]
  },
  {
   "cell_type": "code",
   "execution_count": 22,
   "metadata": {},
   "outputs": [
    {
     "data": {
      "text/plain": [
       "{'Ag',\n",
       " 'Au',\n",
       " 'Cu',\n",
       " 'Fe',\n",
       " 'Mn',\n",
       " 'Mo',\n",
       " 'Ni',\n",
       " 'PGE',\n",
       " 'Pb',\n",
       " 'REE',\n",
       " 'Sb',\n",
       " 'Sn',\n",
       " 'Ta',\n",
       " 'U',\n",
       " 'V',\n",
       " 'W',\n",
       " 'Zn',\n",
       " 'Zr',\n",
       " 'none',\n",
       " 'other'}"
      ]
     },
     "execution_count": 22,
     "metadata": {},
     "output_type": "execute_result"
    }
   ],
   "source": [
    "set(comm_label)"
   ]
  },
  {
   "cell_type": "code",
   "execution_count": 23,
   "metadata": {},
   "outputs": [
    {
     "data": {
      "text/html": [
       "<div>\n",
       "<style scoped>\n",
       "    .dataframe tbody tr th:only-of-type {\n",
       "        vertical-align: middle;\n",
       "    }\n",
       "\n",
       "    .dataframe tbody tr th {\n",
       "        vertical-align: top;\n",
       "    }\n",
       "\n",
       "    .dataframe thead th {\n",
       "        text-align: right;\n",
       "    }\n",
       "</style>\n",
       "<table border=\"1\" class=\"dataframe\">\n",
       "  <thead>\n",
       "    <tr style=\"text-align: right;\">\n",
       "      <th></th>\n",
       "      <th>id</th>\n",
       "      <th>strat</th>\n",
       "      <th>comm</th>\n",
       "    </tr>\n",
       "  </thead>\n",
       "  <tbody>\n",
       "    <tr>\n",
       "      <th>0</th>\n",
       "      <td>82771002_1</td>\n",
       "      <td>none</td>\n",
       "      <td>none</td>\n",
       "    </tr>\n",
       "    <tr>\n",
       "      <th>1</th>\n",
       "      <td>82771002_2</td>\n",
       "      <td>none</td>\n",
       "      <td>none</td>\n",
       "    </tr>\n",
       "    <tr>\n",
       "      <th>2</th>\n",
       "      <td>82771002_3</td>\n",
       "      <td>none</td>\n",
       "      <td>none</td>\n",
       "    </tr>\n",
       "    <tr>\n",
       "      <th>3</th>\n",
       "      <td>82771002_4</td>\n",
       "      <td>none</td>\n",
       "      <td>none</td>\n",
       "    </tr>\n",
       "    <tr>\n",
       "      <th>4</th>\n",
       "      <td>82771002_5</td>\n",
       "      <td>none</td>\n",
       "      <td>none</td>\n",
       "    </tr>\n",
       "    <tr>\n",
       "      <th>...</th>\n",
       "      <td>...</td>\n",
       "      <td>...</td>\n",
       "      <td>...</td>\n",
       "    </tr>\n",
       "    <tr>\n",
       "      <th>186295</th>\n",
       "      <td>44310191_96</td>\n",
       "      <td>none</td>\n",
       "      <td>none</td>\n",
       "    </tr>\n",
       "    <tr>\n",
       "      <th>186296</th>\n",
       "      <td>44310191_97</td>\n",
       "      <td>none</td>\n",
       "      <td>none</td>\n",
       "    </tr>\n",
       "    <tr>\n",
       "      <th>186297</th>\n",
       "      <td>44310191_98</td>\n",
       "      <td>none</td>\n",
       "      <td>none</td>\n",
       "    </tr>\n",
       "    <tr>\n",
       "      <th>186298</th>\n",
       "      <td>44310191_99</td>\n",
       "      <td>none</td>\n",
       "      <td>none</td>\n",
       "    </tr>\n",
       "    <tr>\n",
       "      <th>186299</th>\n",
       "      <td>44310191_100</td>\n",
       "      <td>none</td>\n",
       "      <td>none</td>\n",
       "    </tr>\n",
       "  </tbody>\n",
       "</table>\n",
       "<p>186300 rows × 3 columns</p>\n",
       "</div>"
      ],
      "text/plain": [
       "                  id strat  comm\n",
       "0         82771002_1  none  none\n",
       "1         82771002_2  none  none\n",
       "2         82771002_3  none  none\n",
       "3         82771002_4  none  none\n",
       "4         82771002_5  none  none\n",
       "...              ...   ...   ...\n",
       "186295   44310191_96  none  none\n",
       "186296   44310191_97  none  none\n",
       "186297   44310191_98  none  none\n",
       "186298   44310191_99  none  none\n",
       "186299  44310191_100  none  none\n",
       "\n",
       "[186300 rows x 3 columns]"
      ]
     },
     "execution_count": 23,
     "metadata": {},
     "output_type": "execute_result"
    }
   ],
   "source": [
    "# save data in a dataframe\n",
    "small_box_data = {'id':box_id, 'strat':strat_label, 'comm':comm_label}\n",
    "small_box = pd.DataFrame(small_box_data)\n",
    "small_box"
   ]
  },
  {
   "cell_type": "code",
   "execution_count": 25,
   "metadata": {},
   "outputs": [
    {
     "data": {
      "text/plain": [
       "strat  comm \n",
       "Au     Au         1216\n",
       "       Fe           40\n",
       "       Mn            8\n",
       "       Ni            8\n",
       "       Pb            1\n",
       "       Sb            2\n",
       "       Sn            7\n",
       "       Ta            2\n",
       "       U            13\n",
       "Cu     Ag            4\n",
       "       Au          183\n",
       "       Cu          683\n",
       "       Fe           30\n",
       "       Mn           27\n",
       "       Ni           17\n",
       "       REE           1\n",
       "       Sb            2\n",
       "       Sn           14\n",
       "       Ta            1\n",
       "       U            26\n",
       "       V             1\n",
       "       Zn            1\n",
       "Fe     Fe          266\n",
       "       Mn            4\n",
       "       Sn            2\n",
       "       U             5\n",
       "PGE    Ag            1\n",
       "       Au           58\n",
       "       Cu            9\n",
       "       Ni           11\n",
       "       PGE         113\n",
       "       Sn           13\n",
       "       U             1\n",
       "Pb     Pb           33\n",
       "none   none     183179\n",
       "other  Mn           40\n",
       "       Mo            1\n",
       "       Ni            2\n",
       "       REE           3\n",
       "       Sb            2\n",
       "       Sn           33\n",
       "       Ta            1\n",
       "       U            32\n",
       "       V             2\n",
       "       W             3\n",
       "       Zn            4\n",
       "       Zr            2\n",
       "       other       193\n",
       "Name: id, dtype: int64"
      ]
     },
     "execution_count": 25,
     "metadata": {},
     "output_type": "execute_result"
    }
   ],
   "source": [
    "# sumarize counts grouped by commodity and stratification label\n",
    "small_box.groupby(['strat','comm'])['id'].count()"
   ]
  },
  {
   "cell_type": "code",
   "execution_count": 59,
   "metadata": {},
   "outputs": [
    {
     "data": {
      "text/plain": [
       "none     0.983247\n",
       "Au       0.006962\n",
       "Cu       0.005314\n",
       "other    0.001707\n",
       "Fe       0.001487\n",
       "PGE      0.001106\n",
       "Pb       0.000177\n",
       "Name: strat, dtype: float64"
      ]
     },
     "execution_count": 59,
     "metadata": {},
     "output_type": "execute_result"
    }
   ],
   "source": [
    "\n",
    "small_box['strat'].value_counts(normalize=True)"
   ]
  },
  {
   "cell_type": "markdown",
   "metadata": {},
   "source": [
    "98% of the stamps have no deposits"
   ]
  },
  {
   "cell_type": "code",
   "execution_count": 98,
   "metadata": {},
   "outputs": [
    {
     "data": {
      "text/plain": [
       "none     183179\n",
       "Au         1297\n",
       "Cu          990\n",
       "other       318\n",
       "Fe          277\n",
       "PGE         206\n",
       "Pb           33\n",
       "Name: strat, dtype: int64"
      ]
     },
     "execution_count": 98,
     "metadata": {},
     "output_type": "execute_result"
    }
   ],
   "source": [
    "small_box['strat'].value_counts()"
   ]
  },
  {
   "cell_type": "code",
   "execution_count": 65,
   "metadata": {},
   "outputs": [
    {
     "data": {
      "text/plain": [
       "128.52185"
      ]
     },
     "execution_count": 65,
     "metadata": {},
     "output_type": "execute_result"
    }
   ],
   "source": [
    "data[0].mean()"
   ]
  },
  {
   "cell_type": "code",
   "execution_count": 68,
   "metadata": {},
   "outputs": [],
   "source": [
    "# create a mean data columns\n",
    "small_box['mean'] = [i.mean() for i in data]"
   ]
  },
  {
   "cell_type": "code",
   "execution_count": 69,
   "metadata": {},
   "outputs": [
    {
     "data": {
      "text/html": [
       "<div>\n",
       "<style scoped>\n",
       "    .dataframe tbody tr th:only-of-type {\n",
       "        vertical-align: middle;\n",
       "    }\n",
       "\n",
       "    .dataframe tbody tr th {\n",
       "        vertical-align: top;\n",
       "    }\n",
       "\n",
       "    .dataframe thead th {\n",
       "        text-align: right;\n",
       "    }\n",
       "</style>\n",
       "<table border=\"1\" class=\"dataframe\">\n",
       "  <thead>\n",
       "    <tr style=\"text-align: right;\">\n",
       "      <th></th>\n",
       "      <th>id</th>\n",
       "      <th>strat</th>\n",
       "      <th>comm</th>\n",
       "      <th>mean</th>\n",
       "    </tr>\n",
       "  </thead>\n",
       "  <tbody>\n",
       "    <tr>\n",
       "      <th>0</th>\n",
       "      <td>82771002_1</td>\n",
       "      <td>none</td>\n",
       "      <td>none</td>\n",
       "      <td>128.521851</td>\n",
       "    </tr>\n",
       "    <tr>\n",
       "      <th>1</th>\n",
       "      <td>82771002_2</td>\n",
       "      <td>none</td>\n",
       "      <td>none</td>\n",
       "      <td>98.456902</td>\n",
       "    </tr>\n",
       "    <tr>\n",
       "      <th>2</th>\n",
       "      <td>82771002_3</td>\n",
       "      <td>none</td>\n",
       "      <td>none</td>\n",
       "      <td>53.019714</td>\n",
       "    </tr>\n",
       "    <tr>\n",
       "      <th>3</th>\n",
       "      <td>82771002_4</td>\n",
       "      <td>none</td>\n",
       "      <td>none</td>\n",
       "      <td>21.473490</td>\n",
       "    </tr>\n",
       "    <tr>\n",
       "      <th>4</th>\n",
       "      <td>82771002_5</td>\n",
       "      <td>none</td>\n",
       "      <td>none</td>\n",
       "      <td>21.336618</td>\n",
       "    </tr>\n",
       "    <tr>\n",
       "      <th>...</th>\n",
       "      <td>...</td>\n",
       "      <td>...</td>\n",
       "      <td>...</td>\n",
       "      <td>...</td>\n",
       "    </tr>\n",
       "    <tr>\n",
       "      <th>186295</th>\n",
       "      <td>44310191_96</td>\n",
       "      <td>none</td>\n",
       "      <td>none</td>\n",
       "      <td>499.661011</td>\n",
       "    </tr>\n",
       "    <tr>\n",
       "      <th>186296</th>\n",
       "      <td>44310191_97</td>\n",
       "      <td>none</td>\n",
       "      <td>none</td>\n",
       "      <td>534.880920</td>\n",
       "    </tr>\n",
       "    <tr>\n",
       "      <th>186297</th>\n",
       "      <td>44310191_98</td>\n",
       "      <td>none</td>\n",
       "      <td>none</td>\n",
       "      <td>572.944458</td>\n",
       "    </tr>\n",
       "    <tr>\n",
       "      <th>186298</th>\n",
       "      <td>44310191_99</td>\n",
       "      <td>none</td>\n",
       "      <td>none</td>\n",
       "      <td>607.993225</td>\n",
       "    </tr>\n",
       "    <tr>\n",
       "      <th>186299</th>\n",
       "      <td>44310191_100</td>\n",
       "      <td>none</td>\n",
       "      <td>none</td>\n",
       "      <td>639.055664</td>\n",
       "    </tr>\n",
       "  </tbody>\n",
       "</table>\n",
       "<p>186300 rows × 4 columns</p>\n",
       "</div>"
      ],
      "text/plain": [
       "                  id strat  comm        mean\n",
       "0         82771002_1  none  none  128.521851\n",
       "1         82771002_2  none  none   98.456902\n",
       "2         82771002_3  none  none   53.019714\n",
       "3         82771002_4  none  none   21.473490\n",
       "4         82771002_5  none  none   21.336618\n",
       "...              ...   ...   ...         ...\n",
       "186295   44310191_96  none  none  499.661011\n",
       "186296   44310191_97  none  none  534.880920\n",
       "186297   44310191_98  none  none  572.944458\n",
       "186298   44310191_99  none  none  607.993225\n",
       "186299  44310191_100  none  none  639.055664\n",
       "\n",
       "[186300 rows x 4 columns]"
      ]
     },
     "execution_count": 69,
     "metadata": {},
     "output_type": "execute_result"
    }
   ],
   "source": [
    "small_box"
   ]
  },
  {
   "cell_type": "code",
   "execution_count": 97,
   "metadata": {},
   "outputs": [
    {
     "data": {
      "image/png": "[encoded data removed]",
      "text/plain": [
       "<Figure size 1080x360 with 1 Axes>"
      ]
     },
     "metadata": {
      "needs_background": "light"
     },
     "output_type": "display_data"
    }
   ],
   "source": [
    "# plot the distribution of average per commodity\n",
    "# exclude some extreme outliers only 2 datapoints in the none data\n",
    "plotdata = small_box[small_box['mean']<970]\n",
    "fig, ax = plt.subplots( figsize=(15,5))\n",
    "sns.boxplot(x='strat',y='mean',data=plotdata, ax=ax );"
   ]
  },
  {
   "cell_type": "code",
   "execution_count": 73,
   "metadata": {},
   "outputs": [
    {
     "data": {
      "text/plain": [
       "1375966209.9616272"
      ]
     },
     "execution_count": 73,
     "metadata": {},
     "output_type": "execute_result"
    }
   ],
   "source": [
    "small_box['mean'].std()"
   ]
  },
  {
   "cell_type": "code",
   "execution_count": 74,
   "metadata": {},
   "outputs": [
    {
     "data": {
      "text/plain": [
       "3187978.5014033723"
      ]
     },
     "execution_count": 74,
     "metadata": {},
     "output_type": "execute_result"
    }
   ],
   "source": [
    "small_box['mean'].mean()"
   ]
  },
  {
   "cell_type": "code",
   "execution_count": 75,
   "metadata": {},
   "outputs": [
    {
     "data": {
      "text/plain": [
       "593901191168.0"
      ]
     },
     "execution_count": 75,
     "metadata": {},
     "output_type": "execute_result"
    }
   ],
   "source": [
    "small_box['mean'].max()"
   ]
  },
  {
   "cell_type": "code",
   "execution_count": 77,
   "metadata": {},
   "outputs": [
    {
     "data": {
      "text/plain": [
       "-1237.4339599609375"
      ]
     },
     "execution_count": 77,
     "metadata": {},
     "output_type": "execute_result"
    }
   ],
   "source": [
    "small_box['mean'].min()"
   ]
  },
  {
   "cell_type": "code",
   "execution_count": 99,
   "metadata": {},
   "outputs": [
    {
     "data": {
      "image/png": "[encoded data removed]",
      "text/plain": [
       "<Figure size 1080x360 with 1 Axes>"
      ]
     },
     "metadata": {
      "needs_background": "light"
     },
     "output_type": "display_data"
    }
   ],
   "source": [
    "# plot the chart without none class\n",
    "\n",
    "plotdata = small_box[small_box['strat']!='none']\n",
    "fig, ax = plt.subplots( figsize=(15,5))\n",
    "sns.boxplot(x='strat',y='mean',data=plotdata, ax=ax );"
   ]
  },
  {
   "cell_type": "code",
   "execution_count": 101,
   "metadata": {},
   "outputs": [
    {
     "data": {
      "image/png": "[encoded data removed]",
      "text/plain": [
       "<Figure size 1080x360 with 1 Axes>"
      ]
     },
     "metadata": {
      "needs_background": "light"
     },
     "output_type": "display_data"
    }
   ],
   "source": [
    "# plot the chart without none class but for each commodity type\n",
    "\n",
    "plotdata = small_box[small_box['comm']!='none']\n",
    "fig, ax = plt.subplots( figsize=(15,5))\n",
    "sns.boxplot(x='comm',y='mean',data=plotdata, ax=ax );"
   ]
  },
  {
   "cell_type": "code",
   "execution_count": 102,
   "metadata": {
    "scrolled": false
   },
   "outputs": [
    {
     "data": {
      "text/plain": [
       "none     183179\n",
       "Au         1457\n",
       "Cu          692\n",
       "Fe          336\n",
       "other       193\n",
       "PGE         113\n",
       "Mn           79\n",
       "U            77\n",
       "Sn           69\n",
       "Ni           38\n",
       "Pb           34\n",
       "Sb            6\n",
       "Ag            5\n",
       "Zn            5\n",
       "REE           4\n",
       "Ta            4\n",
       "V             3\n",
       "W             3\n",
       "Zr            2\n",
       "Mo            1\n",
       "Name: comm, dtype: int64"
      ]
     },
     "execution_count": 102,
     "metadata": {},
     "output_type": "execute_result"
    }
   ],
   "source": [
    "small_box['comm'].value_counts()"
   ]
  },
  {
   "cell_type": "code",
   "execution_count": 113,
   "metadata": {},
   "outputs": [
    {
     "name": "stdout",
     "output_type": "stream",
     "text": [
      "1\n"
     ]
    }
   ],
   "source": []
  },
  {
   "cell_type": "code",
   "execution_count": 116,
   "metadata": {},
   "outputs": [],
   "source": [
    "\n",
    "count=0\n",
    "for i in range(10000*1000):\n",
    "    count+=1\n",
    "    "
   ]
  },
  {
   "cell_type": "code",
   "execution_count": 111,
   "metadata": {},
   "outputs": [
    {
     "data": {
      "text/plain": [
       "0"
      ]
     },
     "execution_count": 111,
     "metadata": {},
     "output_type": "execute_result"
    }
   ],
   "source": [
    "duration.seconds"
   ]
  },
  {
   "cell_type": "code",
   "execution_count": null,
   "metadata": {},
   "outputs": [],
   "source": []
  }
 ],
 "metadata": {
  "kernelspec": {
   "display_name": "Python [conda env:exploration] *",
   "language": "python",
   "name": "conda-env-exploration-py"
  },
  "language_info": {
   "codemirror_mode": {
    "name": "ipython",
    "version": 3
   },
   "file_extension": ".py",
   "mimetype": "text/x-python",
   "name": "python",
   "nbconvert_exporter": "python",
   "pygments_lexer": "ipython3",
   "version": "3.7.6"
  }
 },
 "nbformat": 4,
 "nbformat_minor": 4
}
